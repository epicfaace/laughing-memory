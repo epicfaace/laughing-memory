{
  "nbformat": 4,
  "nbformat_minor": 0,
  "metadata": {
    "colab": {
      "name": "Keras - Unet - Batchnorm.ipynb",
      "version": "0.3.2",
      "views": {},
      "default_view": {},
      "provenance": [
        {
          "file_id": "1x_TL_9-OKkh2cEgofZS-_hJvQblXKnXb",
          "timestamp": 1519790663009
        }
      ],
      "collapsed_sections": []
    },
    "kernelspec": {
      "name": "python3",
      "display_name": "Python 3"
    },
    "accelerator": "GPU"
  },
  "cells": [
    {
      "metadata": {
        "id": "sV0fK0XMe5lI",
        "colab_type": "text"
      },
      "cell_type": "markdown",
      "source": [
        "## U-net First Implementation"
      ]
    },
    {
      "metadata": {
        "id": "GVfpyHAFe5lK",
        "colab_type": "text"
      },
      "cell_type": "markdown",
      "source": [
        "The architecture used is the so-called U-Net, which is very common for image segmentation problems such as this. It works well even with small datasets (which is weird for a NN!)."
      ]
    },
    {
      "metadata": {
        "id": "pDk3ipSFe5lL",
        "colab_type": "text"
      },
      "cell_type": "markdown",
      "source": [
        "### I. Initial Setup \n",
        "\n",
        "#### a) Libraries"
      ]
    },
    {
      "metadata": {
        "id": "gCSKMinsXpOy",
        "colab_type": "code",
        "colab": {
          "autoexec": {
            "startup": false,
            "wait_interval": 0
          },
          "output_extras": [
            {
              "item_id": 2
            }
          ],
          "base_uri": "https://localhost:8080/",
          "height": 68
        },
        "outputId": "9e87500a-56d6-49a2-9c10-424e9809d088",
        "executionInfo": {
          "status": "ok",
          "timestamp": 1520193664434,
          "user_tz": 480,
          "elapsed": 19965,
          "user": {
            "displayName": "Cristian Bartolomé",
            "photoUrl": "//lh5.googleusercontent.com/-Vh9VldPKiCs/AAAAAAAAAAI/AAAAAAAAAEs/_EFLAevi5gk/s50-c-k-no/photo.jpg",
            "userId": "110624641621226096756"
          }
        }
      },
      "cell_type": "code",
      "source": [
        "# Data download and unzipping\n",
        "!wget https://raw.githubusercontent.com/epicfaace/laughing-memory/master/Data/stage1_test.zip -cq\n",
        "!wget https://raw.githubusercontent.com/epicfaace/laughing-memory/master/Data/stage1_train.zip -cq\n",
        "\n",
        "!mkdir stage1_train stage1_test\n",
        "\n",
        "!unzip -q -o stage1_train.zip -d stage1_train/\n",
        "!unzip -q -o stage1_test.zip -d stage1_test/ \n"
      ],
      "execution_count": 26,
      "outputs": [
        {
          "output_type": "stream",
          "text": [
            "^C\n",
            "mkdir: cannot create directory ‘stage1_train’: File exists\n",
            "mkdir: cannot create directory ‘stage1_test’: File exists\n"
          ],
          "name": "stdout"
        }
      ]
    },
    {
      "metadata": {
        "id": "F966oRY8dqDj",
        "colab_type": "code",
        "colab": {
          "autoexec": {
            "startup": false,
            "wait_interval": 0
          }
        }
      },
      "cell_type": "code",
      "source": [
        "!cd "
      ],
      "execution_count": 0,
      "outputs": []
    },
    {
      "metadata": {
        "id": "R7lF5KoHYYFw",
        "colab_type": "code",
        "colab": {
          "autoexec": {
            "startup": false,
            "wait_interval": 0
          },
          "output_extras": [
            {
              "item_id": 1
            }
          ],
          "base_uri": "https://localhost:8080/",
          "height": 136
        },
        "outputId": "0c6cef4d-f4e5-4e29-92c6-f30252d4d459",
        "executionInfo": {
          "status": "ok",
          "timestamp": 1520199434559,
          "user_tz": 480,
          "elapsed": 542,
          "user": {
            "displayName": "Cristian Bartolomé",
            "photoUrl": "//lh5.googleusercontent.com/-Vh9VldPKiCs/AAAAAAAAAAI/AAAAAAAAAEs/_EFLAevi5gk/s50-c-k-no/photo.jpg",
            "userId": "110624641621226096756"
          }
        }
      },
      "cell_type": "code",
      "source": [
        "!ls -l"
      ],
      "execution_count": 58,
      "outputs": [
        {
          "output_type": "stream",
          "text": [
            "total 90404\r\n",
            "drwxr-xr-x   1 root root     4096 Mar  4 18:15 datalab\r\n",
            "drwxr-xr-x  67 root root    12288 Mar  4 18:21 stage1_test\r\n",
            "-rw-r--r--   1 root root  9545388 Mar  4 18:21 stage1_test.zip\r\n",
            "drwxr-xr-x 672 root root    73728 Mar  4 18:21 stage1_train\r\n",
            "-rw-r--r--   1 root root 82923446 Mar  4 18:21 stage1_train.zip\r\n",
            "drwxr-xr-x   2 root root     4096 Mar  4 20:01 test\r\n"
          ],
          "name": "stdout"
        }
      ]
    },
    {
      "metadata": {
        "id": "lCm3fLb9XXp9",
        "colab_type": "code",
        "colab": {
          "autoexec": {
            "startup": false,
            "wait_interval": 0
          }
        }
      },
      "cell_type": "code",
      "source": [
        "!rm -rf Unet-MeanIoU-80e-Res256-BN-Reg0.05.h5"
      ],
      "execution_count": 0,
      "outputs": []
    },
    {
      "metadata": {
        "id": "uUn7zTnTYjyy",
        "colab_type": "code",
        "colab": {
          "autoexec": {
            "startup": false,
            "wait_interval": 0
          },
          "output_extras": [
            {
              "item_id": 1
            }
          ],
          "base_uri": "https://localhost:8080/",
          "height": 748
        },
        "outputId": "6fcebe80-6025-4ee6-93c7-51da89b9d91d",
        "executionInfo": {
          "status": "ok",
          "timestamp": 1520193666898,
          "user_tz": 480,
          "elapsed": 488,
          "user": {
            "displayName": "Cristian Bartolomé",
            "photoUrl": "//lh5.googleusercontent.com/-Vh9VldPKiCs/AAAAAAAAAAI/AAAAAAAAAEs/_EFLAevi5gk/s50-c-k-no/photo.jpg",
            "userId": "110624641621226096756"
          }
        }
      },
      "cell_type": "code",
      "source": [
        "!cat /proc/meminfo"
      ],
      "execution_count": 30,
      "outputs": [
        {
          "output_type": "stream",
          "text": [
            "MemTotal:       13341960 kB\r\n",
            "MemFree:         3248472 kB\r\n",
            "MemAvailable:   11023408 kB\r\n",
            "Buffers:          654172 kB\r\n",
            "Cached:          6669956 kB\r\n",
            "SwapCached:            0 kB\r\n",
            "Active:          4608580 kB\r\n",
            "Inactive:        4285508 kB\r\n",
            "Active(anon):    1730280 kB\r\n",
            "Inactive(anon):   124412 kB\r\n",
            "Active(file):    2878300 kB\r\n",
            "Inactive(file):  4161096 kB\r\n",
            "Unevictable:           0 kB\r\n",
            "Mlocked:               0 kB\r\n",
            "SwapTotal:             0 kB\r\n",
            "SwapFree:              0 kB\r\n",
            "Dirty:             98444 kB\r\n",
            "Writeback:             0 kB\r\n",
            "AnonPages:       1570028 kB\r\n",
            "Mapped:           414196 kB\r\n",
            "Shmem:            284744 kB\r\n",
            "Slab:            1028328 kB\r\n",
            "SReclaimable:     988956 kB\r\n",
            "SUnreclaim:        39372 kB\r\n",
            "KernelStack:        3424 kB\r\n",
            "PageTables:         8236 kB\r\n",
            "NFS_Unstable:          0 kB\r\n",
            "Bounce:                0 kB\r\n",
            "WritebackTmp:          0 kB\r\n",
            "CommitLimit:     6670980 kB\r\n",
            "Committed_AS:    3020316 kB\r\n",
            "VmallocTotal:   34359738367 kB\r\n",
            "VmallocUsed:           0 kB\r\n",
            "VmallocChunk:          0 kB\r\n",
            "AnonHugePages:         0 kB\r\n",
            "HugePages_Total:       0\r\n",
            "HugePages_Free:        0\r\n",
            "HugePages_Rsvd:        0\r\n",
            "HugePages_Surp:        0\r\n",
            "Hugepagesize:       2048 kB\r\n",
            "DirectMap4k:      184268 kB\r\n",
            "DirectMap2M:     8204288 kB\r\n",
            "DirectMap1G:     7340032 kB\r\n"
          ],
          "name": "stdout"
        }
      ]
    },
    {
      "metadata": {
        "id": "KAAGA4Aur-yC",
        "colab_type": "code",
        "colab": {
          "autoexec": {
            "startup": false,
            "wait_interval": 0
          },
          "output_extras": [
            {
              "item_id": 1
            }
          ],
          "base_uri": "https://localhost:8080/",
          "height": 68
        },
        "outputId": "b7433f9e-ffff-4bf7-dc09-5951f8e7004f",
        "executionInfo": {
          "status": "ok",
          "timestamp": 1520193667415,
          "user_tz": 480,
          "elapsed": 466,
          "user": {
            "displayName": "Cristian Bartolomé",
            "photoUrl": "//lh5.googleusercontent.com/-Vh9VldPKiCs/AAAAAAAAAAI/AAAAAAAAAEs/_EFLAevi5gk/s50-c-k-no/photo.jpg",
            "userId": "110624641621226096756"
          }
        }
      },
      "cell_type": "code",
      "source": [
        "!free -m"
      ],
      "execution_count": 31,
      "outputs": [
        {
          "output_type": "stream",
          "text": [
            "              total        used        free      shared  buff/cache   available\r\n",
            "Mem:          13029        1739        3171         278        8118       10764\r\n",
            "Swap:             0           0           0\r\n"
          ],
          "name": "stdout"
        }
      ]
    },
    {
      "metadata": {
        "id": "pwr1S2zOe5lM",
        "colab_type": "code",
        "colab": {
          "autoexec": {
            "startup": false,
            "wait_interval": 0
          }
        }
      },
      "cell_type": "code",
      "source": [
        "!pip install -q tqdm keras\n",
        "\n",
        "import os\n",
        "import sys\n",
        "import random\n",
        "import warnings\n",
        "\n",
        "import numpy as np\n",
        "import pandas as pd\n",
        "\n",
        "import matplotlib.pyplot as plt\n",
        "\n",
        "from tqdm import tqdm\n",
        "import itertools #chain function \n",
        "\n",
        "import skimage.io\n",
        "import skimage.transform\n",
        "import skimage.morphology\n",
        "#.io : imread, imshow, imread_collection, concatenate_images\n",
        "#.transform: resize\n",
        "#.morphology: label\n",
        "\n",
        "import keras.models\n",
        "import keras.layers\n",
        "import keras.layers.core\n",
        "import keras.layers.convolutional\n",
        "import keras.layers.pooling\n",
        "import keras.layers.merge\n",
        "import keras.callbacks\n",
        "#.models: Model, load_model\n",
        "#.layers: Input\n",
        "#   .core: Dropout, Lambda \n",
        "#   .convolutional: Conv2D, Conv2DTranspose\n",
        "#   .pooling: MaxPooling2D\n",
        "#   .merge: concatenate\n",
        "#.callbacks: EarlyStopping, ModelCheckpoint\n",
        "\n",
        "from keras import backend as K\n",
        "import tensorflow as tf"
      ],
      "execution_count": 0,
      "outputs": []
    },
    {
      "metadata": {
        "id": "t3-lS9mMe5lR",
        "colab_type": "text"
      },
      "cell_type": "markdown",
      "source": [
        "Keras has three backend implementations available: the TensorFlow backend, the Theano backend, and the CNTK backend. It relies on a specialized, well-optimized tensor manipulation library, serving as its \"backend engine\". "
      ]
    },
    {
      "metadata": {
        "id": "9ycnCmDRe5lS",
        "colab_type": "code",
        "colab": {
          "autoexec": {
            "startup": false,
            "wait_interval": 0
          }
        }
      },
      "cell_type": "code",
      "source": [
        "# Set some parameters\n",
        "IMG_WIDTH = 256\n",
        "IMG_HEIGHT = 256\n",
        "IMG_CHANNELS = 3\n",
        "TRAIN_PATH = 'stage1_train/'\n",
        "TEST_PATH = 'stage1_test/'"
      ],
      "execution_count": 0,
      "outputs": []
    },
    {
      "metadata": {
        "id": "u4VJDEqNe5lV",
        "colab_type": "text"
      },
      "cell_type": "markdown",
      "source": [
        "#### b) Warnings filter\n",
        "\n",
        "The warnings filter controls whether warnings are ignored, displayed, or turned into errors (raising an exception).\n",
        "The warnings filter maintains an ordered list of filter specifications. Each entry is a tuple of the form ```(action, message, category, module, lineno).```\n",
        "\n",
        "For more documentation: [Warning Control](https://docs.python.org/2/library/warnings.html#warning-filter)\n"
      ]
    },
    {
      "metadata": {
        "id": "ZP5e5hTSe5lW",
        "colab_type": "code",
        "colab": {
          "autoexec": {
            "startup": false,
            "wait_interval": 0
          }
        }
      },
      "cell_type": "code",
      "source": [
        "#Parameters: Action, \n",
        "warnings.filterwarnings('ignore', category=UserWarning, module='skimage')"
      ],
      "execution_count": 0,
      "outputs": []
    },
    {
      "metadata": {
        "id": "9nKVQhwze5lZ",
        "colab_type": "code",
        "colab": {
          "autoexec": {
            "startup": false,
            "wait_interval": 0
          }
        }
      },
      "cell_type": "code",
      "source": [
        "seed = 42\n",
        "random.seed = seed\n",
        "np.random.seed = seed"
      ],
      "execution_count": 0,
      "outputs": []
    },
    {
      "metadata": {
        "id": "IXH1zyEJe5lc",
        "colab_type": "text"
      },
      "cell_type": "markdown",
      "source": [
        "#### c) Id Retrieval from file explorer\n",
        "\n",
        "```os.walk()``` walks your directory tree and returns the path, a list of directories, and a list of file (see [doc](https://www.saltycrane.com/blog/2007/03/python-oswalk-example/)). It is an iterator."
      ]
    },
    {
      "metadata": {
        "id": "zQfLYKEte5ld",
        "colab_type": "code",
        "colab": {
          "autoexec": {
            "startup": false,
            "wait_interval": 0
          },
          "output_extras": [
            {
              "item_id": 1
            }
          ],
          "base_uri": "https://localhost:8080/",
          "height": 105
        },
        "outputId": "fefa962b-111c-4f88-e0e9-3e47bd5946b0",
        "executionInfo": {
          "status": "ok",
          "timestamp": 1520193670963,
          "user_tz": 480,
          "elapsed": 343,
          "user": {
            "displayName": "Cristian Bartolomé",
            "photoUrl": "//lh5.googleusercontent.com/-Vh9VldPKiCs/AAAAAAAAAAI/AAAAAAAAAEs/_EFLAevi5gk/s50-c-k-no/photo.jpg",
            "userId": "110624641621226096756"
          }
        }
      },
      "cell_type": "code",
      "source": [
        "#os.walk example\n",
        "i = 0\n",
        "for (path, dirs, files) in os.walk(TRAIN_PATH):\n",
        "    print(path,dirs,files)\n",
        "    i+=1\n",
        "    if i == 4:\n",
        "        break"
      ],
      "execution_count": 36,
      "outputs": [
        {
          "output_type": "stream",
          "text": [
            "stage1_train/ ['7ac468eb217b7058d22c1711285d21949b4121bf3fa3217e3e51453666ebecff', '4217e25defac94ff465157d53f5a24b8a14045b763d8606ec4a97d71d99ee381', '10ba6cbee4873b32d5626a118a339832ba2b15d8643f66dddcd7cb2ec80fbc28', '8e8a7a14749d0b2e48de3d10e2e80063f17b165ad921c8afc0623f08500f3259', 'c169a7782a69ea2f38f64d2739de189e88adbcfd4a829721def8c89ecabe8b71', '4590d7d47f521df62f3bcb0bf74d1bca861d94ade614d8afc912d1009d607b94', '4ee5850b63549794eb3ecd3d5f5673164ac16936e36ecc3700da886e3b616149', 'b4de1e3eec159d8af1bd5447696f8996c31709edaf33e26ba9613816705847db', 'dbe5ad05b6f87018159a3228c1d1725892a1bfb9fa9f8fcc2e8bfe70d69d0355', '1db1cddf28e305c9478519cfac144eee2242183fe59061f1f15487e925e8f5b5', 'eb96fc6cbf6880bf05c4309857ae33844a4bc2152e228eff31024e5265cf9fc3', 'ea00f5a91ca75e745d675201cc62d7db266f8e2787033e15a7dd5f1cc5c0ad72', 'd8607b21411c9c8ab532faaeba15f8818a92025897950f94ee4da4f74f53660a', '615985773f1469fbc00915b3e82d1d4942051c09ddea2667e37ad361ed2e9d59', 'dabfee30b46d23569c63fa7253ef10b2407fbe8023035a5030252313cb718097', '57d88f45e479ce3821839b2706d667758c63ac769d76800d815c73d2507c1e42', '9d429167633b4d9d7f41544a461975cf8e688a3affa6a8916799202874809f2a', '1f6b7cead15344593b32d5f2345fc26713dc74d9b31306c824209d67da401fd8', 'be1916d0e5592c17f971315b5de720ef6894173087399daed94a52ef109c1572', 'ee927e8255096971ddae1bd975cf80c4ad7c847c82d0b5f5dd2ddfe5407007ee', '2c840a94d216f5ef4e499b53ae885e9b022cbf639e004ec788436093837823b2', 'e5a6c5e01e6a4ef676a2d975374e995dd55792ea317a8e110bebc37da83a4ce8', '0acd2c223d300ea55d0546797713851e818e5c697d073b7f4091b96ce0f3d2fe', '92f31f591929a30e4309ab75185c96ff4314ce0a7ead2ed2c2171897ad1da0c7', '8e507d58f4c27cd2a82bee79fe27b069befd62a46fdaed20970a95a2ba819c7b', '76faaed50ed6ea6814ac36199964b86fb09ba7f41a6f213bceaa80d625adc2e1', '08151b19806eebd58e5acec7e138dbfbb1761f41a1ab9620466584ecc7d5fada', '20468e8779c43e089dc0ff30f25e6cf3872d5aa6a0fdad6f8aca382da43e8582', '88678981648b184b23b6c04999f29210cbe351f85b61d2bf99e306fd67a2998a', 'a02ec007ae8feddb758078b1dfb8010c26886fd3c8babdc308ead8b4a63acbdb', '1e488c42eb1a54a3e8412b1f12cde530f950f238d71078f2ede6a85a02168e1f', '4d09672bcf5a2661eea00891bbb8191225a06619a849aece37ad10d9dedbde3e', '2ab91a4408860ae8339689ed9f87aa9359de1bdd4ca5c2eab7fff7724dbd6707', 'c04fa1a74a980d790ba6f3e595fd9851f14370bb71c7cbb7846c33ca9d72687f', 'a102535b0e88374bea4a1cfd9ee7cb3822ff54f4ab2a9845d428ec22f9ee2288', 'da79a2b105f055ce75404a04bf53bbb51d518d9381af7b4ac714c137f101d920', '89be66f88612aae541f5843abcd9c015832b5d6c54a28103b3019f7f38df8a6d', '97158b2fe38783d88d4e44ba1b7bc6c84f225f8b35fcccc2f9265c65f14e7c8b', '93c5638e7e6433b5c9cc87c152bcbe28873d2f9d6a392cca0642520807542a77', '7978812d0e2e034ee1f9c141f019705582fcaa290e4a01c6c75a62753285cb23', '5908488d940e846cc121c768758da9b1bd5b9922417e20c9101a4e254fa98af8', '305a8baaf726d7c9e695bff31d3a6a61445999a4732f0a3e6174dc9dcbe43931', 'fdda64c47361b0d1a146e5b7b48dc6b7de615ea80b31f01227a3b16469589528', 'f534b43bf37ff946a310a0f08315d76c3fb3394681cf523acef7c0682240072a', '0a7d30b252359a10fd298b638b90cb9ada3acced4e0c0e5a3692013f432ee4e9', '4e07a653352b30bb95b60ebc6c57afbc7215716224af731c51ff8d430788cd40', '52a6b8ae4c8e0a8a07a31b8e3f401d8811bf1942969c198e51dfcbd98520aa60', 'e7a3a7c99483c243742b6cfa74e81cd48f126dcef004016ad0151df6c16a6243', '930f246a8e4ff273a72a6e4b3cf8e8caff94fca4eaf1dbe6f93ba37b8195c0a0', 'c7d546766518703580f63d5d8f11d54971044753f53c0b257d19c2f99d4bfdd0', '7f2b154541166210f468d89bb0a7184f10e51168a181dbb8b686c14654ffa317', '66236902b874b7e4b3891db63a69f6d56f6edcec6aca7ba3c6871d73e7b4c34f', '673baf65ae5c571d6be452eb41e79ef3fc2eb3fd238e621c6b7621763b429989', 'adc315bd40d699fd4e4effbcce81cd7162851007f485d754ad3b0472f73a86df', '14cc1424c59808274e123db51292e9dbb5b037ef3e7c767a8c45c9ac733b91bf', 'cf26c41245febfe67c2a1682cc4ee8752ee40ae3e49610314f45923b8bf5b08a', 'e2d22d3d283915df8350d039278e314a23e6e8f2b41bdfc16df849e22dd13b36', '5d21acedb3015c1208b31778561f8b1079cca7487399300390c3947f691e3974', '4193474b2f1c72f735b13633b219d9cabdd43c21d9c2bb4dfc4809f104ba4c06', '785555c0cbb49dad835635217085287a8cc61c27d26f0e106b70c1dfd05784dc', '8d9b4205ddb10fa49a2973b4f3a2dc6923407ae015081e1a52c4b4c2fe8faa53', '2f929b067a59f88530b6bfa6f6889bc3a38adf88d594895973d1c8b2549fd93d', 'a486f6ed4b8781e7883e433d06a83dd66db3e8b36d45b9976c4214820ee22629', '9f073db4acd7e634fd578af50d4e77218742f63a4d423a99808d6fd7cb0d3cdb', 'b82548ab19466b461614e6055aaf49fbc24c03a2d20e65575b680c7c28268807', 'ae570a676961482848b5097038ef5e407df7a66a8e1c9b0567da599565a6b142', '66612c188d73e931e1863af2c99d2af782c32f65fd97d224abb40bbadb87263f', 'e23e11414ee645b51081fb202d38b793f0c8ef2940f8228ded384899d21b02c2', '237802ac5005f9cf782367156c46c383efd9e05088e5768ca883cbbe24abadb1', '573e1480b500c395f8d3f1800e1998bf553af0d3d43039333d33cf37d08f64e5', '00071198d059ba7f5914a526d124d28e6d010c92466da21d4a04cd5413362552', '831218e6a1a54b23d4be56c5799854e7eb978811b89215319dc138900bd563e6', '58c593bcb98386e7fd42a1d34e291db93477624b164e83ab2afa3caa90d1d921', '0ea221716cf13710214dcd331a61cea48308c3940df1d28cfc7fd817c83714e1', '4829177d0b36abdd92c4ef0c7834cbc49f95232076bdd7e828f1f7cbb5ed80ec', 'c3bec1066aae20f48b82975e7e8b684cd67635a8baf211e4d9e3e13bc54c5d06', 'e5f8ad0f0a43af8ca57e31e16800108abdfb44a7e962a71d246f72d2dbde42bf', '547ef286ee5f4e5dce533e982e6992ada67b7d727fdd3cfa6576f24c631a7ae6', 'a65bbfc5673e8053b6ce49f39c79cf3a846fe5cc46dd93105f74fb07cf44606d', '317832f90f02c5e916b2ac0f3bcb8da9928d8e400b747b2c68e544e56adacf6b', 'e9b8ad127f2163438b6236c74938f43d7b4863aaf39a16367f4af59bfd96597b', 'd4d88391bc399a3715440d4da9f8b7a973e010dc1edd9551df2e5a538685add5', 'edd36ed822e7ed760ff73e0524df22aa5bf5c565efcdc6c39603239c0896e7a8', 'a6e81120d1cb9f71f8a25f90a5d56c4b714a642fc496a705e38921fd90a3f69c', 'dae976f161fe42dc58dee87d4bf2eb9f65736597cab0114138641b2a39a5c42b', '8efed2e62c919e6d70a2ab548b1a33014877fe8a23f177ef25a9dee25ffe8842', '813f41ef376c3cbcc9d6e2ce6a51c2ee068226d1c1b13404eb238dcfdd447c97', 'f728de04267283f0b4daab9a840e7433b2c6034baf195fd526850439c9297687', '4d4f254f3b8b4408d661df3735591554b2f6587ce1952928d619b48010d55467', '797945873ca2a95f028671714b71eb3f883efe9dae7fcd3fc0ea1521efb73aaa', 'c0152b1a260e71f9823d17f4fbb4bf7020d5dce62b4a12b3099c1c8e52a1c43a', '04acab7636c4cf61d288a5962f15fa456b7bde31a021e5deedfbf51288e4001e', '337b6eed0726f07531cd467cd62b6676c31a8c9e716bdbc49433986c022252cf', '0e4c2e2780de7ec4312f0efcd86b07c3738d21df30bb4643659962b4da5505a3', '76c4f14e35210f87a29e93c46dbb25c8f5dc5c04d1d3134672708bcdfbc7e959', 'f6b16c885c0b2bc0d0eb2bb2eeb0a2753ebafb5a7a91da10e89b0b0478984637', '1d4a5e729bb96b08370789cad0791f6e52ce0ffe1fcc97a04046420b43c851dd', 'c901794d1a421d52e5734500c0a2a8ca84651fb93b19cec2f411855e70cae339', 'd6a880b1f6056f3086679de5c810e7af87cdf3bbbd0533a83e3681817fce40fc', 'fa73f24532b3667718ede7ac5c2e24ad7d3cae17b0a42ed17bbb81b15c28f4ae', '1c2f9e121fc207efff79d46390df1a740566b683ff56a96d8cabe830a398dd2e', '573a657d5e5fcb9574a758b0ab34b09c79d7ba374ceb71227c3dc88f009a3f6b', '356d9903d16074f152fe8f2f0ef555d9959c53264228eae7373cad5cf35d4e85', 'be771d6831e3f8f1af4696bc08a582f163735db5baf9906e4729acc6a05e1187', '353ab00e964f71aa720385223a9078b770b7e3efaf5be0f66e670981f68fe606', '2abc40c118bc7303592c8bb95a80361e27560854b8971ab34dcf91966575b1f2', 'b6c9b58de0388891221b8f7a83cbf0b8f8379b51b5c9a127bf43a4fc49f1cc48', '4948e3dfe0483c2198b9616612071ead5474dffd223071cf0a567aea9aca0b9e', 'eeb142344e9de3250ab748f93940bf06be70d5078337680998468a134a101698', 'aa58ba4512955771b4f9b459cb4e6a8adb71d11cd6cae662ec2df31d688a5fe0', '10328b822b836e67b547b4144e0b7eb43747c114ce4cacd8b540648892945b00', 'a6001531274f9ad16e0ced40380f9667b9149558dea7053f7a7db18f5cd028c0', '308084bdd358e0bd3dc7f2b409d6f34cc119bce30216f44667fc2be43ff31722', '12aeefb1b522b283819b12e4cfaf6b13c1264c0aadac3412b4edd2ace304cb40', '212b858a66f0d23768b8e3e1357704fc2f4cf4bbe7eed8cd59b5d01031d553e6', '94a5a37c3b1153d5c5aef2eca53c960b9f21f2ef1758209d7ec502ec324b03a3', 'bfe8ef193a68a0a86a5e4ae1ddc27bda3f9ffe170494395be4030ba72737c565', 'b2c5d8653c621207e97b699e5c4c05d13df4f02d9db3e594b1f0c22e5b746aae', '33618678c167c5e07be02c49d0c43bcd90493ba5d83110a631409a4d3ccc1e51', '7f55678298adb736987d9fb5d1d2daefb08fe5bf4d81b2380bedf9449f79cc38', '6034456567632f4b48dc3dfbb98534b5953c151990f4235df6c912c0a9c08397', '193ffaa5272d5c421ae02130a64d98ad120ec70e4ed97a72cdcd4801ce93b066', '29dd28df98ee51b4ab1a87f5509538ecc3e4697fc57c40c6165658f61b0d8e3a', 'e5a7b8a9924b26b3abf039255a8a3bb00258f4966f68ff3349560b4350af9367', 'c89ac06daef5c819309f03d6a35792d1a8a66abb8cb3414013ffe71d3dd9fe96', 'ff599c7301daa1f783924ac8cbe3ce7b42878f15a39c2d19659189951f540f48', 'fd8065bcb1afdbed19e028465d5d00cd2ecadc4558de05c6fa28bea3c817aa22', 'ea94ba4b01d1bd5f7768d10e0ac547743791033df545c71fcec442d0cb5cb5e7', '80632d6be60c8462e50d51bcf5caf15308931603095d6b5e772a115cd0d0470c', '3ab9cab6212fabd723a2c5a1949c2ded19980398b56e6080978e796f45cbbc90', '54793624413c7d0e048173f7aeee85de3277f7e8d47c82e0a854fe43e879cd12', 'a6515d73077866808ad4cb837ecdac33612527b8a1041e82135e40fce2bb9380', 'ddf1bf458312de2895dd9cc5ce7ec9d334ad54c35edc96ad6001d20b1d8588d8', '7c0157913223365720209ac83ff2e0b1b2b460173acd615c67646014093a2b97', 'ad473063dab4bf4f2461d9a99a9c0166d4871f156516d9e0a523484e7cf2258d', 'a4c44fc5f5bf213e2be6091ccaed49d8bf039d78f6fbd9c4d7b7428cfcb2eda4', 'fc9269fb2e651cd4a32b65ae164f79b0a2ea823e0a83508c85d7985a6bed43cf', 'a31deaf0ac279d5f34fb2eca80cc2abce6ef30bd64e7aca40efe4b2ba8e9ad3d', 'ff3407842ada5bc18be79ae453e5bdaa1b68afc842fc22fa618ac6e6599d0bb3', 'da8ca06ccbb4e2a8718f7c2939ef6cc3a4088981f660842ad885a8273e740d55', '942d56861fc83e195e9c559a000bb86627d8682f8dcc2300818458e5b6850dd0', 'ae9f76b5360df3f60f3cdd389652b96e823080bb830dd8c79e7f1e597d51bc1c', 'c304a1fdf3bca2f4b4580d2cac59942e2224a7678001bf5ed9d9852f57708932', '79dfcbc9361edd3a1ffe81a5bdaa22a197ad1341f3fa64b86a646c2607d6b324', 'f6cb37ebf29c225284c8415962f7287abe7007fae8fe3d8a3899b608b832d7d5', 'a6593632dcbbe4c9e9429a9cec573d26fd8c91a47d554d315f25e7c2e0280ee3', '4ca5081854df7bbcaa4934fcf34318f82733a0f8c05b942c2265eea75419d62f', 'e4537e7893e631f3ba6ae5b1023e24b233c78249a31c2f5e561f6c4cad88fcf6', '6fe2df6de1d962b90146c822bcefc84d0d3d6926fdfbacd3acdc9de830ee5622', '1400420310c9094361a8a243545187f1d4c2365e081b3bb08c5fa29c7491a55b', '1a75e9f15481d11084fe66bc2a5afac6dc5bec20ed56a7351a6d65ef0fe8762b', 'b6d50fa22380ae3a7e8c52c5bc44a254e7b2596fd8927980dbe2c160cb5689b5', '8aa1a883f61f0bb5af3d3d60acaaf33af45ef4fbffaac15ae838bc1ce37b6fbf', '2e2d29fc44444a85049b162eb359a523dec108ccd5bd75022b25547491abf0c7', 'db45946a4412a2137674ec075b6892ccd682b77826aba618210569bbc65cf2b0', '876423522bdec1602917b94163a21e05fc7b692045219b7bc96cdaf638c33c25', 'bbfc4aab5645637680fa0ef00925eea733b93099f1944c0aea09b78af1d4eef2', 'c96109cbebcf206f20035cbde414e43872074eee8d839ba214feed9cd36277a1', '2d53d7ec0c579fffd6710c956288537d46c719a93c6a04ac0d6550f75a6a6493', 'd1ba6089cae2f90cb7275ece10ca393c25f60ea17e5c9c3cea2399d31fd41869', 'd7db360fabfce9828559a21f6bffff589ae868e0dc6101d7c1212de34a25e3cb', '091944f1d2611c916b98c020bd066667e33f4639159b2a92407fe5a40788856d', 'fc5452f612a0f972fe55cc677055ede662af6723b5c1615ad539b8a4bd279bdb', '243443ae303cc09cfbea85bfd22b0c4f026342f3dfc3aa1076f27867910d025b', '77ceeb87f560775ac150b8b9b09684ed3e806d0af6f26cce8f10c5fc280f5df2', 'e49fc2b4f1f39d481a6525225ab3f688be5c87f56884456ad54c953315efae83', 'b3a9f4c9035a0df7e033b18c63bfb0f0d87ff5a4d9aa8bdf417159bb733abb80', '9774c82396327929fea05e40ae153cabf0107178b2ae3e40a5709b409793887e', 'fe80a2cf3c93dafad8c364fdd1646b0ba4db056cdb7bdb81474f957064812bba', '3ca8181367fc1258a418f7bf5044533c83e02a59c1a96def043295c429c297a8', 'f6863b83d75e5927b30e2e326405b588293283c25aaef2251b30c343296b9cb1', '853a4c67900c411abd04467f7bc7813d3c58a5f565c8b0807e13c6e6dea21344', '5d58600efa0c2667ec85595bf456a54e2bd6e6e9a5c0dff42d807bc9fe2b822e', 'ead9464a50a17f74bf1b6471d94ecce8d887cf518c8fedc6c6048eb948bc4e49', 'ec031f176dafe0b36547068ce42eab39428ec7995dac1b3ea52d1db79b61fdeb', '60cb718759bff13f81c4055a7679e81326f78b6a193a2d856546097c949b20ff', '4c032609d377bd980e01f888e0b298600bf8af0e33c4271a1f3aaf76964dce06', '7f34dfccd1bc2e2466ee3d6f74ff05821a0e5404e9cf2c9568da26b59f7afda5', '6aa7dd0c88bec4f96cdd497f9c37779733033d9ec6513307461302d36bd32ac7', '62570c4ff1c5ab6d9d383aba9f25e604768520b4266afd40fdf4734a694c8bc3', '54fe2d3416951cbc48f8718624c86a7ae58b6022a7fa75591b13f625cf53658b', '371a67232f7c871ec11332292c83cd9bb16063b91d58e86f0b76ef8817bc9465', '49edc2f7715100fb0390916e52b3fd11a921f02e59509dc987f67840a36250fc', '358e47eaa1e9222252793fe0fb8c77028d4e0d4360b95a07c9fe6df6a2066556', '751f421d322940d6efe3bd570a66ecda16d08a1b90bc32a6d7ae1af89856fd49', '1d5f4717e179a03675a5aac3fc1c862fb442ddc3e373923016fd6b1430da889b', '9ebcfaf2322932d464f15b5662cae4d669b2d785b8299556d73fffcae8365d32', '0d2bf916cc8de90d02f4cd4c23ea79b227dbc45d845b4124ffea380c92d34c8c', 'f9ac03b0344ce8c48bc058448541f9211a1e5f4c94fdaf633dd534328d8610ab', '6b0ac2ab04c09dced54058ec504a4947f8ecd5727dfca7e0b3f69de71d0d31c7', '003cee89357d9fe13516167fd67b609a164651b21934585648c740d2c3d86dc1', '72e8c49dea44787114fd191f9e97e260f961c6e7ae4715bc95cc91db8d91a4e3', 'ac8169a0debed11560f3f0e246c05ea82d03c66346f1576cc8268554cb3f549f', 'b1e3aeb0c56261c17eb71c747d116057b8da7e8c8a6845bdc01b2b3ee2299229', '5ef4442e5b8b0b4cf824b61be4050dfd793d846e0a6800afa4425a2f66e91456', 'bb61fc17daf8bdd4e16fdcf50137a8d7762bec486ede9249d92e511fcb693676', '5ba4facefc949c920d7054813a3e846b000969da2ed860148bdfd18456f59bcc', '3a22fe593d9606d4f137461dd6802fd3918f9fbf36f4a65292be69670365e2ca', '5ddbfba2519484316e4b7ccabfa605e6e6fd96c3d87ac8cdfd2c134571a15311', 'f93ec5e683d81005ffc2a84a1c0299b2406ad14b764b824e013f7ca3a13833b5', 'a90401357d50e1376354ae6e5f56a2e4dff3fdb5a4e8d50316673b2b8f1f293b', '431b9b0c520a28375b5a0c18d0a5039dd62cbca7c4a0bcc25af3b763d4a81bec', '94519eb45cbe1573252623b7ea06a8b43c19c930f5c9b685edb639d0db719ab0', 'feffce59a1a3eb0a6a05992bb7423c39c7d52865846da36d89e2a72c379e5398', 'd7ec8003735996458b56ccb8ae34d080eb2a6adabef931323239632515b4b220', 'aa83f5b4fca02ae43a6b9456ab42707b0beabc6e7c5c4e66c0d2572fb80f3615', '449f41710769584b5e4eca8ecb4c76d5272605f27da2949e6285de0860d2cbc0', '708eb41a3fc8f2b6cd1f529cdf38dc4ad5d5f00ad30bdcba92884f37ff78d614', '5e263abff938acba1c0cff698261c7c00c23d7376e3ceacc3d5d4a655216b16d', '483b89aa683542f1c63e62f5f71ae8ae1f959caf1c379cd61230a71cd1036732', 'bc115ff727e997a88f7cfe4ce817745731a6c753cb9fab6a36e7e66b415a1d3d', 'ce88df7356d9d4a8d5944a93768f4c4b593de2d35616f7448c2b37b9fd60dd1f', 'f20eb4592e7d3cf58d421a9c34832d33adcdcbd0e17b7bf009a013847608da27', 'a0325cb7aa59e9c0a75e64ba26855d8032c46161aa4bca0c01bac5e4a836485e', '724b6b7044522f6d5ea35b55f8fa71d0a45a28687be2b7cac3149943ab816eec', '58cc121d37fb7f1b4a5252024d88415936781e540252b8f734faeedd29b682d5', '6bc8cda54f5b66a2a27d962ac219f8075bf7cc43b87ba0c9e776404370429e80', '1b6044e4858a9b7cee9b0028d8e54fbc8fb72e6c4424ab5b9f3859bfc72b33c5', '7c318172e976ae5a962c9c7a4e9fe46d7fb985765ddd3a3e2108e893a90b92b2', '9b25b8ffd5f52b6c3d235a42d51d380503d1f80b61ef0f62eeb696f5977c38e6', '8a65e41c630d85c0004ce1772ff66fbc87aca34cb165f695255b39343fcfc832', '4d14a3629b6af6de86d850be236b833a7bfcbf6d8665fd73c6dc339e06c14607', 'a5e695fce80dc03efb6665a9ec14500ab47f4ee9f6437531388dd3cc32c90db1', '5953af5080d981b554529971903d8bee9871457a4361b51f04ba04f43793dd8f', 'e1bcb583985325d0ef5f3ef52957d0371c96d4af767b13e48102bca9d5351a9b', 'c9f305be17312bdb9530fb4f1adc6d29730ddbe0e74730cbf031de174bf437b7', 'fc345dac2205deb169bd70197f07f053bada80b61ffa69fdfb490758323ead69', '295ac4ecf2ee0211c065cf5dbb93b1eb8e61347153447209cd110e9c3e355e81', '50a7ea80dd73232a17f98b5c83f62ec89989e892fe25b79b36f99b3872a7d182', '7aae06bc4558829473071defec0b7ab3bfa9c5005548a13da95596bb6a66d105', '44ab6a09eedee848b072ea3acd0f4e781f9c43b8d4e3d62598e1024584bf0b01', '1d02c4b5921e916b9ddfb2f741fd6cf8d0e571ad51eb20e021c826b5fb87350e', '442c4eb0185698fe7d148c108a46f74abd399aecda2f4f22981a1671cd95dd7d', 'bde3727f3a9e8b2b58f383ebc762b2157eb50cdbff23e69b025418b43967556b', '3477024fd843e46097840360f9cdee24b76bf5c593ed27a9aee7a5728a06aa51', 'ff3e512b5fb860e5855d0c05b6cf5a6bcc7792e4be1f0bdab5a00af0e18435c0', 'abbfff07379bceb69dba41dad8b0db5eb80cc8baf3d4af87b7ee20b0dac32215', '1023509cf8d4c155467800f89508690be9513431992f470594281cd37dbd020d', 'a101a00fea63f0c43abe5323f4f890bec881eb0caa3bc8498991ff5fd207ed91', 'f67e72b7fe0b1e3648ea745ffd395c80705c89b0c0c48227991fe6f5815b2a18', '8fdc34509a0c3721f7b5e235c8a93e1f553343aa17ad103a1e89e3509a3e1570', '52a4ac5a875be7a6c886035d54fb63f5f397dc43508c4831898f6b2f8debc7f3', '2227fd9b01d67c2bcdb407d3205214e6dfeff9fd0725828e3b3651959942ff4a', 'ec486143ecfec847c22cd8cbc207d85312bcf38e61c9b9a805e0d12add62da8d', 'c8ca945abc29d262a5525e4c2585541bba33fa77c86a47c94575d8e5b54c83fb', '5b2ccfb94dedf2ec8797c0404fc324888e35ab903c41bb26f070552033ca8e6c', 'd751ccb64fa767a65a966061218438bd1860695d96bbef11fdb2f0d3b8dedba8', '11a0170f44e3ab4a8d669ae8ea9546d3a32ebfe6486d9066e5648d30b4e1cb69', '1631352dbafb8a90f11219fffd3bea368a30bc3bad3bbe0e84e19bd720df4945', '6bd330234b763b77796d4804de8e224881c0fc8dd02650fa708b2edfd8c7461f', 'e856511ac1c34d24320eb7c56c05a4a3340d06667b4f5b8e8df615d415c7f650', '61dc249314d7b965eb4561ec739eab9b0f60af55c97b25ced8cb2a42a0be128e', '2869fad54664677e81bacbf00c2256e89a7b90b69d9688c9342e2c736ff5421c', '87ea72894f6534b28e740cc34cf5c9eb75d0d8902687fce5fcc08a92e9f41386', 'c1afe66cd139f996fd984f5f2622903730ec2f1192d90608154f07f7ef6cdb4b', 'afa272dc01825d4b929b3bfc79a10f68dd3c163c450d858b964d1ce0bc93e131', 'f4c4db3df4ff0de90f44b027fc2e28c16bf7e5c75ea75b0a9762bbb7ac86e7a3', '4c465a54e329ec7b0f4bc5f6acdfd3192707d6c0fbdf557339485581c5a6b3c1', 'd256b32adda37f2301c9e46f34b7f9a36cce273256369ceb5dc2c73c3007e3c4', 'f0a75e0322f11cead4219aa530673fe5eef67580fb6fccc254963c9fc6b58aa1', 'b1eb0123fe2d8c825694b193efb7b923d95effac9558ee4eaf3116374c2c94fe', '136000dc18fa6def2d6c98d4d0b2084d13c22eaffe82e26c665bcaa2a9e51261', '98c5ead89cd066637efd5c93a6edc55c85908eb66807471f0d246d5457341f9c', 'b3bfd873fca7ff9b2e90f507dfdbe165bb8c153399b6ba5829aa59bae677a91d', '4d40de30a3db3bc4f241cb7f48e8497c11e8f20a99bf55788bdce17242029745', '7aa1aaa5e032a980f434c8ed63efb57ab0d338d6154c47f7bb75afdc89f43c04', '2cfa857e63be1b418c91ad5ea1f8d136fd1b80fc856e1d4277274c3dea28011c', 'cbca32daaae36a872a11da4eaff65d1068ff3f154eedc9d3fc0c214a4e5d32bd', '20c37b1ad2f510ed7396969e855fe93d0d05611738f6e706e8ca1d1aed3ded45', 'c6216cdc42f61bc345434986db42e2ef9b9741aee3210b7a808e952e319d2305', '1740b0a67ca337ea31648b57c81bcfbb841c7bb5cad185199a9f4da596d531b9', '29780b28e6a75fac7b96f164a1580666513199794f1b19a5df8587fe0cb59b67', '0bf4b144167694b6846d584cf52c458f34f28fcae75328a2a096c8214e01c0d0', '449fe932622db3b49366a260ddd20077219f96fb2dc0f912ad4f60b087876f3b', '34c9f4eb2af8b8f46b1d88b74bde16f4614cd08948c2f1d817eb629afc512e7a', '0c6507d493bf79b2ba248c5cca3d14df8b67328b89efa5f4a32f97a06a88c92c', 'b0e35e06b85da49bfe3ea737711a72b551a6add446e30eabb01aa683a79873c5', 'e52960d31f8bddf85400259beb4521383f5ceface1080be3429f2f926cc9b5c2', '55f98f43c152aa0dc8bea513f8ba558cc57494b81ae4ee816977816e79629c50', 'a0afead3b4fe393f6a6159de040ecb2e66f8a89090abf0d0bf5b8e1d38ae667c', '57bd029b19c1b382bef9db3ac14f13ea85e36a6053b92e46caedee95c05847ab', 'b7a86f4968071e0f963fa87ef314fdd1b6c73a66355431cc53a37e193ba6be9b', '06c779330d6d3447be21df2b9f05d1088f5b3b50dc48724fc130b1fd2896a68c', 'd52958107d0b1f0288f50f346a833df3df485b92d5516cfcb536e73ab7adafd0', '63d981a107091e1e3059102ce08870744dde173afe324bc2274c17d42f661778', 'ed8c31b001a0c23c33402f94a5ee6b0209e0c6419eb52d5d02255513e3a672fc', 'b6edad733399c83c8eb7a59c0d37b54e10cc0d59894e39ff843884d84f61dee1', '2a1a294e21d76efd0399e4eb321b45f44f7510911acd92c988480195c5b4c812', '12f89395ad5d21491ab9cec137e247652451d283064773507d7dc362243c5b8e', 'ac782d2cad7f515ce7276926209820e386248e3d619b2df81e22d5e3c160b7cb', '514ccfc78cb55988a238d3ac9dc83460aa88382c95d56bcc0559962d9fe481ef', 'c35e6e3ea39a718e1b7aff66e4cc678efd662f9b5336b74d69c1d6bca7aaf288', '4327d27591871e9c8d317071a390d1b3dcedad05a9746175b005c41ea0d797b2', 'a891bbc89143bca7a717386144eb061ec2d599cba24681389bcb3a2fedb8ff8c', '23830d0e51245fc0c9e410efa4c17d2a7d83a0104a3777130119ab892de47a4e', '27c30f9011492f234e4587c9a4b53c787037d486f658821196fe354240ac3c47', '3594684b9ea0e16196f498815508f8d364d55fea2933a2e782122b6f00375d04', '3b3f516ebc9a16cff287a5ffd3a1861a345a6d38bedbba74f1c0b0e0eac62afd', 'd827a7d80fc67487a3237135e0d43ae01b7bbcb135e1a167601fc974a8348c51', 'abd8dde78f8d37b68b28da67459371ed65f0a575523e94bc4ecbc88e6fedf0d0', 'fadeb0ab092833f27daaeb3e24223eb090f9536b83f68cde8f49df7c544f711b', 'eb1df8ed879d04b36980b0958a0e8fc446ad08c0bdcf3b5f42e3db023187c7e5', 'dd54adb80393de7769b9853c0aa2ee9b240905d0e99c59d4ccd99401f327aa05', '5b0bde771bc67c505d1b59405cbcad0a2766ec3ee4e35852e959552c1b454233', '68f833de9f8c631cedd7031b8ed9b908c42cbbc1e14254722728a8b7d596fd4c', '08275a5b1c2dfcd739e8c4888a5ee2d29f83eccfa75185404ced1dc0866ea992', 'b24ea5c268469a95ed155eeaf809e36030b78a2eb530a0cb2380cdc1ccdb7dd1', '8a26b134fe9343c0c794513dae7787b7ac1debec3bb2a7096ab0b874a31d8175', '92e7e86e765e05ce331c07a6d14f0a696eac7ee40058699243900f40b696d7aa', 'd1b173875e2261f55014bd27bd7174b9ae1c769338c1b31b5d737e9e60175993', '3ebd2ab34ba86e515feb79ffdeb7fc303a074a98ba39949b905dbde3ff4b7ec0', '5c6eb9a47852754d4e45eceb9a696c64c7cfe304afc5ea491cdfef11d55c17f3', 'aa47f0b303b1d525b52452ae3a8553b2d61d719a28aee547e2ef1fc6730a078f', '3934a094e8537841e973342c7f8880606f7a2712b14930340d6f6c2afe178c25', '709e094e39629a9ca21e187f007b331074694e443db40289447c1111f7e267e7', 'f7e5dcfc9c93183c668c5a4ab028d5faad54fb54298711f2caae0508aa978300', '7af09f98ec299ba0658d759eebc4c34e1c98289ea6ce37f233e9f5e4e2fc84f4', '6b61ab2e3ff0e2c7a55fd71e290b51e142555cf82bc7574fc27326735e8acbd1', '29ea4f6eb4545f43868a9b40a60000426bf8dfd9d062546656a37bd2a2aaf9ec', 'cc88627344305b9a9b07f8bd042cb074c7a834c13de67ff4b24914ac68f07f6e', '3a508d2dc03db46e7f97a2a30eabb62ab2886f3cedfea303de8f6a42e50d20eb', 'e321cfa987e77c21373a0f8b1236c83d6636306949a82a7f5b07fc0838e7777f', '077f026f4ab0f0bcc0856644d99cbf639e443ec4f067d7b708bc6cecac609424', '05040e2e959c3f5632558fc9683fec88f0010026c555b499066346f67fdd0e13', '5d75a63972ef643efd7c42f20668b167f2af43635d6263962d84e62e7609ab51', 'b1f23c4d27afed8af7b6b64793a3760bfea31b65f582d48aaa62d2b988ef2eac', 'aa4d989d262c618ac2793579e200cc71b3767f84698ae5f669867f23cdfe2568', '6eefe1f0d9c2d2c2380db3ecd2113a566ace7dfc917687bb5033b4af5b8293aa', 'c6de542205b891eed5c40e6d8ae3d03a6ca39b26dc445b4dbc64340d4d64dd2d', 'a815a986800a95de0957116c6585deea8ffb6ee09ad00ccc687306937ac698d0', 'aaa52100fafaa50877e777229cdf6cde7c422f145ff6719449b80631d9a3b0f6', '37ed50eea5a1e0bade3e6753793b6caeb061cd4c2f365658c257f69cab1f6288', 'b0defa611b75645c0283464ee4163917bad382d335b61e8509f065bf371fa15f', '76c44d1addac92a65f1331f2d93f4e3b130bd4e538a6e5239c3ac1f4c403608a', 'ef3ef194e5657fda708ecbd3eb6530286ed2ba23c88efb9f1715298975c73548', '6ab24e7e1f6c9fdd371c5edae1bbb20abeeb976811f8ab2375880b4483860f4d', '4596961c789d3b41916492918797724fe75128239fefc516c3ee75322b7926f0', '220b37f4ca7cab486d2b71cd87a46ee7411a5aa142799d96ed98015ab5ba538a', 'dec1764c00e8b3c4bf1fc7a2fda341279218ff894186b0c2664128348683c757', 'bf566e75d5cb0196de4139573f8bbbda0fa38d5048edf7267fe8793dcc094a66', 'af6b6173c59450bc76b2cc461cf233921fbfdb6feb8dd6da03a0d44193221fd0', 'ba3997edd3fcb2f823ecdf870d2b607f08bff848f72a5cf72340bae5aca7c5ce', 'da5f98f2b8a64eee735a398de48ed42cd31bf17a6063db46a9e0783ac13cd844', '03f583ec5018739f4abb9b3b4a580ac43bd933c4337ad8877aa18b1dfb59fc9a', '2c61fdcb36fd1b2944895af6204279e9f6c164ba894198b40c8b7a3c9bf500ea', '35ca5f142a7d7a3e4b59f1a767a31f87cb00d66348226bc64094ee3d1e46531c', '3b0709483b1e86449cc355bb797e841117ba178c6ae1ed955384f4da6486aa20', '43cf6b2ec0b0745ac2b87b4d8780f62e9050d3f5d50a1fcefa42d166191e84c6', '6b6d4e6ff52de473a4b6f8bd0f11ae22242d508cc4117ff38ec39cbb88088aaa', '5d2c98fd6fda3c7d739461c3b3d4a0c7f8456121a14519dc5955a1775227b053', 'd7fc0d0a7339211f2433829c6553b762e2b9ef82cfe218d58ecae6643fa8e9c7', 'cfabf7379c5591d40aa4a20c86b4197c6a25ab55887a9fca4f06c2dfc0f0e973', '58406ed8ef944831c413c3424dc2b07e59aef13eb1ff16acbb3402b38b5de0bd', '13c8ff1f49886e91c98ce795c93648ad8634c782ff57eb928ce29496b0425057', '88d5a03f8ecd459f076a06e0d5035149193bfdd727c30905de19054dcb9018ae', 'e414b54f2036bcab61b9c0a966f65adf4b169097c13c740e03d6292ac076258c', '3f9fc8e63f87e8a56d3eaef7db26f1b6db874d19f12abd5a752821b78d47661e', '8b12e18670e4b24d03567d1e17c0c24fadf0ea2c1e763983dd6bb4c44b7376a6', 'c395870ad9f5a3ae651b50efab9b20c3e6b9aea15d4c731eb34c0cf9e3800a72', '54cb3328e778d87f76062b0550e3bc190f46384acd8efbe58c297265d1906e84', 'f7eaaf420b5204c4a42577428b7cd897a53ef07b759ccbba3ed30a3548ca5605', '564fa390d9a9c26f986bf860d9091cbd84244bc1c8e3c9369f2f2e5b5fd99b92', '28d33efef218392e79e385906deb88055d94b65ad217de78c07e85476f80f45a', 'ad9d305cbf193d4250743ead466bdaefe910835d7e352c544e22320e8336f5c1', '07fb37aafa6626608af90c1e18f6a743f29b6b233d2e427dcd1102df6a916cf5', '693bc64581275f04fc456da74f031d583733360a1f6032fa38b3fbf592ff4352', '1f0008060150b5b93084ae2e4dabd160ab80a95ce8071a321b80ec4e33b58aca', 'a5fe0b7412dd152c41f7afc34ffdf276d4261b6942fa6d36803648e90f2cfc06', '150b0ffa318c87b31d78af0e87d60390dbcd84b5f228a8c1fb3225cbe5df3e3f', '5bda829acd824821bc1f3f6573cf065d364653d5322f033a4af943f7a6170566', 'df33b11184427e05c8a450f921586685975fe975f57315e686a0f26fddb93db1', 'e5aeb5b3577abbebe8982b5dd7d22c4257250ad3000661a42f38bf9248d291fd', 'af8621ef0db8c26b0bce6385bd5609b584bfd678fcf7a234b8a15e6bb05c15ac', '0b2e702f90aee4fff2bc6e4326308d50cf04701082e718d4f831c8959fbcda93', '3441821ebea04face181c9e2f4d0d09727c764827ac51b9e7fbadbebabeab225', '1e61ecf354cb93a62a9561db87a53985fb54e001444f98112ed0fc623fad793e', '4cbd6c37f3a55a538d759d440344c287cac66260d3047a83f429e63e7a0f7f20', 'd3ce382f190ee24729bd2e80684c11bef72bc9c733cdbbc19a17d2c1b2e775f7', 'e50ac10d1dce6496d092d966784ed3795969128ca0bc58199a36d558ed529203', '2246874c8b5ba218d01ad8153a201ad4660195f3e4c65da6b9d4ccaf82cb7edf', 'f9ea1a1159c33f39bbe5f18bb278d961188b40508277eab7c0b4b91219b37b5d', 'f952cc65376009cfad8249e53b9b2c0daaa3553e897096337d143c625c2df886', '5afcbfd0dd64392aa1e233b996d0bfb4354ee7119f30ae111c33d0fe4df11590', 'df53d0b6c2c4e45d759b2c474011e2b2b32552cd100ca4b22388ab9ca1750ee2', 'f35ab34528e3e2d2589d24cbffc0e10024dfc474a68585d0b5feb7b05aa0067f', 'bf7691b0a79811fa068b7408cbce636a73f01ef9e971a95da1a2d96df73782b6', 'c44ed955eb2e5c8d820b01477e122b32eff6dd475343e11229c33d8af3473b22', '3852c7e45bd885b9537e276861ab50b99bb42f0f8e717d2f88174c62862ca3ff', '06350c7cc618be442c15706db7a68e91f313758d224de4608f9b960106d4f9ca', 'bb481eae02085bbae08742f702b9ab7d8b2ff9df2fbefeee9fac51f7c77dd01f', '9facc652efe19f634639585d692a53dd6c2a8e2f0c9baebdfd85b9b41ec58851', 'b2c23ddb04531158da6a0abcaca78fec0ae5c6f64f60166e4f36f4a161efd76f', '1b44d22643830cd4f23c9deadb0bd499fb392fb2cd9526d81547d93077d983df', 'd2ce593bddf9998ce3b76328c0151d0ba4b644c293aca7f6254e521c448b305f', 'bbce7ebc40323a0eff6574d0c3842f50f907f55fbfb46c777f0ed9a49e98ff9b', 'd910b2b1be8406caecfe31a503d412ffc4e3d488286242ebc7381836121dd4ef', '7f38885521586fc6011bef1314a9fb2aa1e4935bd581b2991e1d963395eab770', 'e66a97b2c77f3d66a7d3cebbc6a36c8c6259368a397f7b67647ed80ad53aa776', '589f86dee5b480a88dd4f77eeaffe2c4d70aefdf879a4096dde1fa4d41055b8f', 'e81c758e1ca177b0942ecad62cf8d321ffc315376135bcbed3df932a6e5b40c0', '9cbc0700317361236a9fca2eb1f8f79e3a7da17b1970c179cf453921a6136001', '6f8197baf738986a1ec3b6ba92b567863d897a739376b7cec5599ad6cecafdfc', '84e642d75ae6ece8147272418b6fe13d04db8d076fe306c4acedc329fceab564', 'd7d12a2acc47a94961aeb56fd56e8a0873016af75f5dd10915de9db8af8e4f5e', 'e66f25e175abab08ecb4e5f6859db64a211e0ddffb262d7e727b9d9bd4aad2d2', '449a9c32e53a37c8a86e01c199155c8da3958b631088e10f6fe43c2119defe51', '2dd3356f2dcf470aec4003800744dfec6490e75d88011e1d835f4f3d60f88e7a', '6c85029f850d392791e13f74963391054ff54e508967bbd091ee510e9e58e011', '175dbb364bfefc9537931144861c9b6e08934df3992782c669c6fe4234319dfc', '53ad09e4348767bece0165884bf40c10b72ae18444e3f414a850442f02385efc', '815524d88283ba10ad597b87aa1967671db776df8004a0c4291b67fc2624c22a', '6fb82031f7fc5f4fa6e0bc2ef3421db19036b5c2cdd2725009ab465d66d61d72', '24a20f2a529cede5695df2422a3986505b5826bb10b10781d6db2074cf3de7b3', '6b72b61b80060a9e79a4747f9c5d5af135af9db466681c2d1086f784c7130699', 'b61d3fb0d0ebbee018346e0adeff9e9178f33aa95262779b3c196f93b4ace895', '2dec81a678ddcac2b110acffe82427d857695180bd841e3f9736a554acf832af', '4d4ebfcae4374165ea6ae7c7e18fd0ba5014c3c860ee2489c59e25ddd45e7a32', '4b274461c6d001a7a9aeaf5952b40ac4934d1be96b9c176edfd628a8f77e6df2', '4ff152d76db095f75c664dd48e41e8c9953fd0e784535883916383165e28a08e', 'a90cad45551d62c5cfa89517df8eb5e8f2f87f1a6e6678e606907afcbad91731', '420f43d21dbaba42bf8c0995b3a2c85537876d594433770c6c6f3d6b779ec15f', '40bcdad218ac5f0885fc247d88fcad9f729f55c81c79d241a8f1559b6d8c0574', '947c0d94c8213ac7aaa41c4efc95d854246550298259cf1bb489654d0e969050', 'bb8ebf465c968a5f6f715de5d9e2e664afd1bcaa533e0e3352ecea1cc5b6fb0d', 'f487cc82271cf84b4414552aa8b0a9d82d902451ebe8e8bc639d4121c1672ff7', '6bd18a218d25247dc456aed124c066a6397fb93086e860e4d04014bfa9c9555d', '45c3bdef1819ba7029990e159f61543ed25781d13fb4dc5d4de52e803debd7d3', 'd4d6c683f249d82518431603bf0206d05f2114ac871a99ffade0f5f61cf167e1', 'a1777737270c5f96c4523dff76e4097756f8f7d4c9d59bac079e31f9510deabd', 'c00ae67f72816daee468474026e30705003b2d3501f123579a4f0a6366b66aa1', '19f0653c33982a416feed56e5d1ce6849fd83314fd19dfa1c5b23c6b66e9868a', 'f01a9742c43a69f087700a43893f713878e537bae8e44f76b957f09519601ad6', '8d05fb18ee0cda107d56735cafa6197a31884e0a5092dc6d41760fb92ae23ab4', '15039b3acccc4257a1a442646a89b6e596b5eb4531637e6d8fa1c43203722c99', '2bf594e9d06f78b4b79d7ffb395497a0a91126b6b0d710d7a9cee21f5c3bd177', 'ef6634efb46567d87b811be786b18c4cd0e2cda23d79b65d6afe0d259ef3ade6', '309ba76b12ecb5ce28b99f3445b2b5dc54c0564c3c0e24c17e4c89a94a5d0535', 'c2a646a819f59a4e816e0ee8ea00ba10d5de9ac20b5a435c41192637790dabee', 'a7a581e6760df4701941670e73d72533e3b0fbd7563488ad92772b41f7709710', '98a463483fe3a56deacc8bc00ab8aa62668bd40ad0c70bbe7deb10d3e4aeb0c0', 'a246bcaa64af48ee5ca181cd594c0fc43466e7614406eb8bc01199a16ebc95d0', '7d40ea6ead1bec903f26d9046d291aedcb12a584b4d3b337ea252b34c7d86072', '40b00d701695d8ea5d59f95ac39e18004040c96d17fbc1a539317c674eca084b', '9bf9f3dcadeb152a9a26b23e2fb199dcf9b2b17660b1646326f5b10cbf51eaee', 'ecb36c90cdd20245d89173c106f3c6a2d124d07bdea0ae202fb1efa49b0cd169', '45cc00f2ef95da6698bf590663e319d7c0ed4fb99d42dd3cf4060887da74fb81', '02903040e19ddf92f452907644ad3822918f54af41dd85e5a3fe3e1b6d6f9339', '8de0b1a2e8f614af29fe5fafeaa5bdf55e6b3e65edf36355f19b707f7649ce2b', '91cc2e0d4d6e2c1ad59a8d63bcbe3e2ea8bc7f8e642e942a0113450181e73379', '93cfd412c7de5210bbd262ec3a602cfea65072e9272e9fce9b5339a5b9436eb7', '8f6597cd978c060378177df76e554d0578b97eab471e237dbe0adc0dd0d93d63', '8f27ebc74164eddfe989a98a754dcf5a9c85ef599a1321de24bcf097df1814ca', '8ecdb93582b2d5270457b36651b62776256ade3aaa2d7432ae65c14f07432d49', 'bff985591dd5d6303018a6e9a3dcfb336771a414ad4605c24ce1c1155fc86a96', '8f6e49e474ebb649a1e99662243d51a46cc9ba0c9c8f1efe2e2b662a81b48de1', 'f113626a04125d97b27f21b45a0ce9a686d73dee7b5dbc0725d49194ba0203bd', '3b75fc03a1d12b29bd2870eb1f6fdb44174dbd1118dfc11c31f127bd87bd27ef', 'f26f4c2c70c38fe12e00d5a814d5116691f2ca548908126923fd76ddd665ed24', '5b12df18e4ae4df5af06052584cf0e6bef58ee2a220653890636eef88a944e14', '64eeef16fdc4e26523d27bfa71a1d38d2cb2e4fa116c0d0ea56b1322f806f0b9', '2dd9d8c797fc695665326fc8fd0eb5cd292139fa478ccb5acb7fb352f7030063', 'fec226e45f49ab81ab71e0eaa1248ba09b56a328338dce93a43f4044eababed5', 'cab4875269f44a701c5e58190a1d2f6fcb577ea79d842522dcab20ccb39b7ad2', 'ebc18868864ad075548cc1784f4f9a237bb98335f9645ee727dac8332a3e3716', '8d29c5a03e0560c8f9338e8eb7bccf47930149c8173f9ba4b9279fb87d86cf6d', '07761fa39f60dc37022dbbe8d8694595fd5b77ceb2af2a2724768c8e524d6770', '74a7785530687a11ecd073e772f90912d9967d02407a192bfab282c35f55ab94', 'a7f6194ddbeaefb1da571226a97785d09ccafc5893ce3c77078d2040bccfcb77', '16c3d5935ba94b720becc24b7a05741c26149e221e3401924080f41e2f891368', 'a1f50f101bc471e2d6967ebdb8ba81150588609e769f3b960f0801e4da5fdc6f', '6fc83b33896f58a4a067d8fdcf51f15d4ae9be05d8c3815d23336f1f2a8c45a1', '2349e95ece2857c89db7e4a8be8c88af0b45f3c4262608120cb3bd6ef51fd241', '1c8b905c9519061d6d091e702b45274f4485c80dcf7fb1491e6b2723f5002180', 'cdab367b30db47061df837c1ae9fa875d6057614f797332d37d3513517d6c694', 'df5cdd0ebe1bdf8dc870bc294b8f08961e083bc7f9be69e268454aa9091808b9', '7b5987a24dd57325e82812371b3f4df7edc528e0526754ba94cf3a1ea4df25d2', 'b76ff33ae9da28f9cd8bdce465d45f1eca399db3ffa83847535708e0d511fe38', '866a8cba7bfe1ea73e383d6cf492e53752579140c8b833bb56839a55bf79d855', 'a7f767ca9770b160f234780e172aeb35a50830ba10dc49c526f4712451abe1d2', 'da31f2aa8601afec5c45180a2c448cb9c4a8ec7b35e75190d6ba3588f69058c8', 'd35f25c8e3f7fca5232fc4d5e3faf14b025b20b3731af77fe971a5e2e9d69d28', 'ce9e1a58b58940039ae841466198b72ea21cc90584039a9294b47f5aef17ddfa', 'c322c72b9d411e631580fee9312885088b4bb14ed297aa4b246ec943533b3ffb', '84eeec681987753029eb83ea5f3ff7e8b5697783cdb2035f2882d40c9a3f1029', '1815cf307859b3e13669041d181aa3b3dbbac1a95aef4c42164b223110c09168', 'bf4a61bb81589c9a67e3343408befd3e135af5e88b50c17f998f2131d24bc271', '7b38c9173ebe69b4c6ba7e703c0c27f39305d9b2910f46405993d2ea7a963b80', 'f43169e3d8b4f71e687945b9e72cbfdfe2e40e68842568e6a30c60d64c1378b6', 'c0c4a829c8d33d16a02f5dc0411597329f4b4d726ed6a22b5530cf6c8e106c4e', '7773ac91af61ed041701b7c3b649598e3707cf04c0577f464fd31be687f538fe', '81e2dd950e6df28a4fe202a40afa98b202981f65a5ca05b389749290eb87c883', '5488e8df5440ee5161fdfae3aeccd2ee396636430065c90e3f1f73870a975991', '30311520606ec99b6a810ae1a9a753df991777d374212423bb075c408a98ed74', '3bfd6bb152310f93daa6f4e1867c10572946e874b3a30c9ba8e0fcdeb590300b', 'be26966900aa0e5b41d5a8ecafe04281b37deb05c5cd027968d7b74143398174', '0287e7ee5b007c91ae2bd7628d09735e70496bc6127ecb7f3dd043e04ce37426', 'ed4b8e0d756836be7acb2e2b7799c473b52424e3092a71d3c6d23558e500dc4c', 'a022908f1b7880838dbc0411e50828e64b4f5e0263afdf04295e30bb2ff58005', 'b98681c74842c4058bd2f88b06063731c26a90da083b1ef348e0ec734c58752b', '5afb7932e9c7328f4fb1d7a8166a3699d6cdc5192b93758a75e9956f1513c5a3', '1f9e429c12f4477221b5b855a5f494fda2ef6d064ff75b061ffaf093e91758c5', 'b560dba92fbf2af785739efced50d5866c86dc4dada9be3832138bef4c3524d2', '9586e48a9a4353f11898a6a4b7475a91574e8af82e99c4b7a5e1f1b18f345f7a', '516a0e20327d6dfcedcf57e3056115e4fb29cdf4cb349003bdfc75c9b7f5c2cf', 'a22b7882fa85b9f0fcef659a7b82bfcddf01710f9a7617a9e036e84ac6901841', '1a11552569160f0b1ea10bedbd628ce6c14f29edec5092034c2309c556df833e', 'fa751ff3a6332c95cb5cb1d28563553914295e9e7d35c4b6bd267241e8a0787c', '6d327ab4f0e3604fa6e9b8041c7e6db86ab809890d886c691f6e59c9168b7fbe', '0280fa8f60f6bcae0f97d93c28f60be194f9309ff610dc5845e60455b0f87c21', 'fc22db33a2495f58f118bc182c0087e140df14ccb8dad51373e1a54381f683de', '4e1c889de3764694d0dea41e5682fedb265eaf2cdbe72ff6c1f518747d709464', '8175a55b711c948fe383bd3b91b6ca1b9e048a5241e0be13aff31ce2674fbe6d', 'd1dbc6ee7c44a7027e935d040e496793186b884a1028d0e26284a206c6f5aff0', 'e4ae1ceddb279bac30273ca7ac480025ce2e7287328f5272234b5bbca6d13135', 'f0c9f135c62572f3669a75b2c735e4477dc77fac85e653426ee2b3bcfbed7aaf', 'f81ca7ee25e733ff37240c34c8e3044d9937bb0166e315952ebde3f237ecb86f', '5c235b945b25b9905b9b0429ce59f1db51d0d0c7d48c2c21ab9f3ca54b0715e6', '7f4d7b549d0f1a110191e2aded872943d85892bc30667f19fe9de97a5370b08e', '718751b439c05bdd589f04fcef321a86be3ecb35292a435138e295e05eb2e771', '608ff81c8a0c8b622f6648a9c7f935d85f0c503f515ef2ac3728387be1953ee8', '0121d6759c5adb290c8e828fc882f37dfaf3663ec885c663859948c154a443ed', 'a08166d91d2cca263d2dd52764dc25c9c582b7a5ece2b802749fa4be33187c49', 'd32ea6d318626ca14a967d0c1ad3218aebfe636624a8d1173f5150dde8ff38cf', '0bf33d3db4282d918ec3da7112d0bf0427d4eafe74b3ee0bb419770eefe8d7d6', '9cdac2870cfe65b6cb61bd151020068a3b427118a27343767b07ea39483fee32', '03398329ced0c23b9ac3fac84dd53a87d9ffe4d9d10f1b5fe8df8fac12380776', 'a3a65623e079af7988b0c1cf1e54041003c6d730c91ecf200b71c47b93a67ed6', '8b77284d6f37ab3fc826139ebadaec3b9d81c552fe525c3547bbbd6c65ac0d83', '0ddd8deaf1696db68b00c600601c6a74a0502caaf274222c8367bdc31458ae7e', '1bd0f2b3000b7c7723f25335fabfcdddcdf4595dd7de1b142d52bb7a186885f0', '2a2032c4ed78f3fc64de7e5efd0bec26a81680b07404eaa54a1744b7ab3f8365', '33d0a9b24c25852ce35274b4b1777484ccd21f44dbe35491cc926e5948c1ce3e', '139946af9e2c7ef4f0298e622b831dbef5e5c0cd088eb5bc3382f8df9355443d', '7798ca1ddb3133563e290c36228bc8f8f3c9f224e096f442ef0653856662d121', '5f9d29d6388c700f35a3c29fa1b1ce0c1cba6667d05fdb70bd1e89004dcf71ed', '953211bcc0192e2298087d30e708dba68def9e0c13a3ff3326a18b0962c63adc', '4bf6a5ec42032bb8dbbb10d25fdc5211b2fe1ce44b6e577ef89dbda17697d819', '9c95eae11da041189e84cda20bdfb75716a6594684de4b6ce12a9aaadbb874c9', '9620c33d8ef2772dbc5bd152429f507bd7fafb27e12109003292b671e556b089', 'c75139ef0546d2240b37afb3219eb74a06b7977818697d5c3138796472483af3', '1ec74a26e772966df764e063f1391109a60d803cff9d15680093641ed691bf72', '3bf7873f11823f4b64422f49c8248dd95c0d01f9ae9075ae3d233bbb21a3d875', '351771edfc5db5665ded8aa4940257276b6526663c76e3b60b92a52584d8943c', '4ae4f936a9ade472764dad80f60f7168e4be067aa66ce9d06d60ebe34951dca4', 'dbbfe08a52688d0ac8de9161cbb17cb201e3991aacab8ab8a77fe0e203a69481', '1ee4a111f0e0bb9b001121b94ff98ca736fad03797b25285fe33a47046b3e4b0', 'f4faa3a409014db1865074c5f66a0255f71ae3faba03265da0b3b91f68e8a8f0', 'cbff60361ded0570e5d50429a1aa51d81471819bc9b38359f03cfef76de0038c', '610f32e2d9d270d740aec501dcf0c89595e4e623468ad43272adab90520a8f96', '777f7c4269279951ae05b56e806745e613297d411d048c0bce8964afd7d71a4b', '4e92129f4e8066d6f560d6022cd343a2245939aa49d8b06cddbd9bfc7e7eeb0e', '094afe36759e7daffe12188ab5987581d405b06720f1d5acf3f2614f404df380', '0e5edb072788c7b1da8829b02a49ba25668b09f7201cf2b70b111fc3b853d14f', '0e21d7b3eea8cdbbed60d51d72f4f8c1974c5d76a8a3893a7d5835c85284132e', '97126a9791f0c1176e4563ad679a301dac27c59011f579e808bbd6e9f4cd1034', 'f29fd9c52e04403cd2c7d43b6fe2479292e53b2f61969d25256d2d2aca7c6a81', '9fb32aba1c2fd53273dca9abefac944ba747f578da82dfaa1249f332a2324944', '30f65741053db713b3f328d31d3234b6fedbe31df65c1a8ea29be28146cab789', '623cf6987b3fac8f384c09f40d98c5e739c097aa9a9627054542aa27f7d38db1', '4e23ecf65040f86420e0201134e538951acdeda84fbb274311f995682044dd64', 'a0de55384fada5cbc46bd7a41f6feeef93b67d088497c7316079ccec39c2a834', '3582166ee20755856adf4882a8bfacb616fce4247911605a109c4862de421bcd', 'df9a4212ecb67bb4e58eba62f293b91f9d6f1dde73e38fa891c75661d419fc97', '21408476af0506331e8b5d49b385833e5ef1fbb90815fbf9af9d19b4bb145f76', '55ff2b0ec48b76e10c7ee18add5794005cd551697f96af865c763d50da78dd9c', '8c3ef7aa7ed29b62a65b1c394d2b4a24aa3da25aebfdf3d29dbfc8ad1b08e95a', 'd2815f2f616d92be35c7e8dcfe592deec88516aef9ffc9b21257f52b7d6d0354', 'cb4df20a83b2f38b394c67f1d9d4aef29f9794d5345da3576318374ec3a11490', 'c620631271a56407d6d69fa1a69451ca99c50dcc30e29db04cf6fb7cacbde8cb', '4185b9369fc8bdcc7e7c68f2129b9a7442237cd0f836a4b6d13ef64bf0ef572a', 'dad607a203483439fcbc2acecd0a39fb5e5a94a32a94348f5c802c79cfeb6e7c', '0b0d577159f0d6c266f360f7b8dfde46e16fa665138bf577ec3c6f9c70c0cd1e', '0402a81e75262469925ea893b6706183832e85324f7b1e08e634129f5d522cdd', '538b7673d507014d83af238876e03617396b70fe27f525f8205a4a96900fbb8e', 'abc781c8721fe04b877a7e324494eb75aa5bce94950a0e4e4d7d6ffc9e74da62', '2cfa61bef6542dd359717e9131ce6f076c415a3bd7f48cb093b0d7f3b2ca785d', '70827e40a7155391984e56703c6df3392fb4a94bbd6c7008da6a6ca3244965d9', '1a75de9e11303142864efed27e69ea1960dbd82ca910de221a777ed2caf35a6b', '8bef203fce625e4d8c89dca728158be4662dfdfdcd4dc73a6aa39a908c1631bc', 'c15c652c08153fb781a5349123ab8f80bb2a8680a41eb8e89e547ae01b7a5441', '20b20ab049372d184c705acebe7af026d3580f5fd5a72ed796e3622e1685af2f', '75120baa6abcbfe750a4eb223b8c10ae6bc3bebdda7b00d9a78bc2472fa28625', '2ad489c11ed8b77a9d8a2339ac64ffc38e79281c03a2507db4688fd3186c0fe5', '72b18a405555ad491721e29454e5cd325055ce81a9e78524b56f2c058a4d2327', '6af82abb29539000be4696884fc822d3cafcb2105906dc7582c92dccad8948c5', '1b2bf5933b0fb82918d278983bee66e9532b53807c3638efd9af66d20a2bae88', 'd0f2a00d3155c243048bc48944aef93fb08e2258d1fa5f9ccadd9140082bc22f', 'b1a239838c7dbb34ffea851ad537899f24da62f4e3f3fd6d835ff7b922f27313', '13f2bec0a24c70345372febb14c4352877b1b6c1b01896246048e83c345c0914', '79fe419488ba98494e3baa35c6fef9662eda1efe325d0ab0ac002f5383245d96', '03b9306f44e9b8951461623dcbd615550cdcf36ea93b203f2c8fa58ed1dffcbe', '4a424e0cb845cf6fd4d9fe62875552c7b89a4e0276cf16ebf46babe4656a794e', 'f4b7c24baf69b8752c49d0eb5db4b7b5e1524945d48e54925bff401d5658045d', '8cdbdda8b3a64c97409c0160bcfb06eb8e876cedc3691aa63ca16dbafae6f948', '5cc036b65f7f2d5480e2be111a561f3713ac021683a9a9138dc49492a29ce856', '40946065f7e4b6038599fbfd419f2a67e7635b6f89db3ed6c0d67c8801521af1', 'e5384c905e9879cb6e8ff5250fb03155bc1db035d8dde458eece9078b7de8ff1', '7ba20aa731cc21af74a8d940254176cbad1bdc44f240b550341c6d9c27509daa', 'f73e37957c74f554be132986f38b6f1d75339f636dfe2b681a0cf3f88d2733af', '1609b1b8480ee52652a644403b3f7d5511410a016750aa3b9a4c8ddb3e893e8e', '0c2550a23b8a0f29a7575de8c61690d3c31bc897dd5ba66caec201d201a278c2', 'e216ec5063d3562b793e434c491051bd8867f6c2e571e41137c7c560cc0e6a03', '3874755f6222e83006fdad4d664ec0d9697c13af4fbe24b2f9a059bb13075186', '57b49733c5a3c268b013553635a826e6a1b10e699bbd19c3b842375fe0adf344', 'b3b1626f8ad156acb2963d1faa6a368f9378a266c3b90d9321087fdc5b3032b4', '9e4f8ec60a0d622a02c0e16eedcc0101f88ddefbcec2383946c4572b57a1e43a', '65c8527c16a016191118e8adc3d307fe3a73d37cbe05597a95aebd75daf8d051', '2b50b1e3fa5c5aa39bc84ebfaea9961b7199c4d2488ae0b48d0b3459807d59d2', '4dbbb275960ab9e4ec2c66c8d3000f7c70c8dce5112df591b95db84e25efa6e9', '1b518cd2ea84a389c267662840f3d902d0129fab27696215db2488de6d4316c5', '1e8408fbb1619e7a0bcdd0bcd21fae57e7cb1f297d4c79787a9d0f5695d77073', '76a372bfd3fad3ea30cb163b560e52607a8281f5b042484c3a0fc6d0aa5a7450', '700afb1cd830a808e3c6125749612e5d23fd9f9726049a9e0c2061997514e1a7', '4d2cff9a0c8df3a7ef6100fda6f66e865a7670af6a18564767d8019b9ed2fd7b', '62057502c387145ed4f8f7f0d5e5bedcb72d3bcec15fa71cb0310dee32871461', '072ff14c1d3245bf49ad6f1d4c71cdb18f1cb78a8e06fd2f53767e28f727cb81', '08ae2741df2f5ac815c0f272a8c532b5167ee853be9b939b9b8b7fa93560868a', '8f94a80b95a881d0efdec36affc915dca9609f4cba8134c4a91b219d418778aa', '3d0ca3498d97edebd28dbc7035eced40baa4af199af09cbb7251792accaa69fe', '56d0da5b663ddd49955478c00ca03118c367ff7dd6a646b8c875b0acb207d1c5', '319b6cb8b0d24b38db5e3c6fbb13b062e2766d9af5ff9bccb8f439ac0d870e52', 'ce37f6dd0615d45e66e41a8f2ed6fbc0bbe3103a290394ad474207507710eacc', '1c681dfa5cf7e413305d2e90ee47553a46e29cce4f6ed034c8297e511714f867', '670ebd9d674be236b9bf0b28650ad3f68e1891b06e16a9021fd069ca7ef32b78', '9bb6e39d5f4415bc7554842ee5d1280403a602f2ba56122b87f453a62d37c06e', '6c67b78e8164801059375ed9a607f61e67a7ae347e92e36a7f20514224541d56', '0bda515e370294ed94efd36bd53782288acacb040c171df2ed97fd691fc9d8fe', '2c83c86dd4e5dacc024b55629375567fb8e320a82ef86f541cfe54764040fc25', 'c043d5ac9dd466052e53491d0d513b0684f493d320b820f6dc2e05330ce58ec3', 'f8e74d4006dd68c1dbe68df7be905835e00d8ba4916f3b18884509a15fdc0b55', '5bb8508ff8ec8683fc6a8aa6bd470f6feb3af4eccdca07f51a1ebc9dad67cfb8', '20e209f6ffa120a72712e1b4c1d3e24d1339227e2936abd4bbd49a636fada423', '8055957570d7b38f0acecdb56f3078a963a1a7307ca03fcca62212e0e95e5845', '5419302571113e9aa74c7c0a9575333ca539b871a16c86ee92b35170b4ddc52e', '61a15ccbfebb9d2fc54c068472a75d7babfb3f48fea008470e7db807585f9510', '3bfa8b3b01fd24a28477f103063d17368a7398b27331e020f3a0ef59bf68c940', '45f059cf21d85ecfce0eb93260516f1e2443d210e9a52f9ae2271d604aa3fcc5', '86f9087eb1d0875ffb1a28cca7645b14d6c66f995c7d96aa13969d2f8115d533', 'b214800de5ed4cc558f44d569495970f93c8c047f8e464c51d4bd5c276118423', '0532c64c2fd0c4d3188cc751cdfd566b1cfba3d269358717295bab1504c7c275', 'a3a1b8f9794ef589b71faa9f35fd97ad6761c4488718fbcf766e95e31afa8606', 'b909aa8f6f4bec37c3fb6ff5a85d166162d07983506fcc57be742b0f9dbafbf7', 'b67a6e5da8b1cfa5319d94a7d3f8b706725753346c37a4636bf7382e98b3c5df', '05a8f65ebd0b30d3b210f30b4d640c847c2e710d0d135e0aeeaccbe1988e3b6e', 'c0f172831b8017c769ff0e80f85b096ac939e79de3d524e0826fbb95221365da', 'b8fdc02d915206bb2564e1f7da962f2b9d9d491b11afa00a76622b7932366480', '9520aff4efe87bd8f3901652fa2dde9b4bc9c679325966145ce00c1ca33f35de', '602f267432e7a573e1092f1cf48135c82d0fbc8722bc028b9330ec801a40bb18', '00ae65c1c6631ae6f2be1a449902976e6eb8483bf6b0740d00530220832c6d3e', 'b0d6dfcc95e4d087d232378f860fc3ef9f95ea5a4c26d623a0be091f820a793f', 'c53326fe49fc26b7fe602b9d8c0c2da2cb157690b44c2b9351a93f8d9bd8043d', '33a5b0ff232b425796ee6a9dd5b516ff9aad54ca723b4ec490bf5cd9b2e2a731', '0d3640c1f1b80f24e94cc9a5f3e1d9e8db7bf6af7d4aba920265f46cadc25e37', '648636ee314d7bdba3ab2fc0fe49a863de35c3e2caf619039f678df67b526868', '245b995878370ef4ea977568b2b67f93d4ecaa9308761b9d3e148e0803780183', '2817299fd3b88670e86a9db5651ba24333c299d1d41e5491aabfcd95aee84174', '3b957237bc1e09740b58a414282393d3a91dde996b061e7061f4198fb03dab2e', '3a3fee427e6ef7dfd0d82681e2bcee2d054f80287aea7dfa3fa4447666f929b9', '2e172afb1f43b359f1f0208da9386aefe97c0c1afe202abfe6ec09cdca820990', 'a9d884ba0929dac87c2052ce5b15034163685317d7cff45c40b0f7bd9bd4d9e7', '2255d5aba044256bb92f6b7cbed0fca46d972c7b6b1a59dcbe7f682c5777d074', 'e4fc936ba57a936aaa5941ccc70946ab18fcebcb6e8d85a097c584aff9ca4d88', '958114e5f37d5e1420b410bd716753b3e874b175f2b6958ebf1ec2bdf776e41f', '01d44a26f6680c42ba94c9bc6339228579a95d0e2695b149b7cc0c9592b21baf', '619429303c1af7540916509fe7900cf483eba4391b06aac87ff7f66ca1ab6483', '9a71a416f98971aa14f63ef91242654cc9191a1414ce8bbd38066fe94559aa4f', 'b4d902d42c93dea77b541456f8d905f35eeb24fc3a5b0b15b5678d78e0aabe0c', 'af576e8ec3a8d0b57eb6a311299e9e4fd2047970d3dd9d6f52e54ea6a91109da', 'a4c729efb5059893a8b62c7abeba171cb516836f8a20468f6b176dfe2f6f84d1', 'ed5be4b63e9506ad64660dd92a098ffcc0325195298c13c815a73773f1efc279'] []\n",
            "stage1_train/7ac468eb217b7058d22c1711285d21949b4121bf3fa3217e3e51453666ebecff ['masks', 'images'] []\n",
            "stage1_train/7ac468eb217b7058d22c1711285d21949b4121bf3fa3217e3e51453666ebecff/masks [] ['5ad80de3b80eb293059c11b8fbe4f90e6c4bcfbf3262222be597fef1ff9f7b67.png', 'ff4af0a3894f1f3b9ebf8d3de07ec62cf9bf4d95728992b387ca12118de9fd76.png', 'd784d8f4b9bafbe01d9d1a852c16dd6f8ef4eca6798f77ebd67ee123d5f40b15.png', '414b0e7d65189683dfe2683c62cd447bb017119d14f9161d5144efa992e3ab4f.png', 'b2aa688a85843a65e0841c1a644bf2147bdcf2b868bc41b759cb36d80ca78f80.png', '0949747feb62ccbfaf3ad42b24068e8cb731e28786b3dc8d2bc72cd16402adbb.png']\n",
            "stage1_train/7ac468eb217b7058d22c1711285d21949b4121bf3fa3217e3e51453666ebecff/images [] ['7ac468eb217b7058d22c1711285d21949b4121bf3fa3217e3e51453666ebecff.png']\n"
          ],
          "name": "stdout"
        }
      ]
    },
    {
      "metadata": {
        "id": "WF429qebhRoQ",
        "colab_type": "code",
        "colab": {
          "autoexec": {
            "startup": false,
            "wait_interval": 0
          }
        }
      },
      "cell_type": "code",
      "source": [
        "# Get train and test IDs (Next() returns the next item from the iterator)\n",
        "train_ids = next(os.walk(TRAIN_PATH))[1] #We are interested in list at index 1: List with directories ('str' format) at path \n",
        "test_ids = next(os.walk(TEST_PATH))[1]"
      ],
      "execution_count": 0,
      "outputs": []
    },
    {
      "metadata": {
        "id": "kA5xc0VNe5lj",
        "colab_type": "code",
        "colab": {
          "autoexec": {
            "startup": false,
            "wait_interval": 0
          },
          "output_extras": [
            {
              "item_id": 1
            }
          ],
          "base_uri": "https://localhost:8080/",
          "height": 12512
        },
        "outputId": "c1e919d3-5ce0-4479-bd03-0f6eece9e354",
        "executionInfo": {
          "status": "ok",
          "timestamp": 1520193671833,
          "user_tz": 480,
          "elapsed": 318,
          "user": {
            "displayName": "Cristian Bartolomé",
            "photoUrl": "//lh5.googleusercontent.com/-Vh9VldPKiCs/AAAAAAAAAAI/AAAAAAAAAEs/_EFLAevi5gk/s50-c-k-no/photo.jpg",
            "userId": "110624641621226096756"
          }
        }
      },
      "cell_type": "code",
      "source": [
        "train_ids, test_ids"
      ],
      "execution_count": 38,
      "outputs": [
        {
          "output_type": "execute_result",
          "data": {
            "text/plain": [
              "(['7ac468eb217b7058d22c1711285d21949b4121bf3fa3217e3e51453666ebecff',\n",
              "  '4217e25defac94ff465157d53f5a24b8a14045b763d8606ec4a97d71d99ee381',\n",
              "  '10ba6cbee4873b32d5626a118a339832ba2b15d8643f66dddcd7cb2ec80fbc28',\n",
              "  '8e8a7a14749d0b2e48de3d10e2e80063f17b165ad921c8afc0623f08500f3259',\n",
              "  'c169a7782a69ea2f38f64d2739de189e88adbcfd4a829721def8c89ecabe8b71',\n",
              "  '4590d7d47f521df62f3bcb0bf74d1bca861d94ade614d8afc912d1009d607b94',\n",
              "  '4ee5850b63549794eb3ecd3d5f5673164ac16936e36ecc3700da886e3b616149',\n",
              "  'b4de1e3eec159d8af1bd5447696f8996c31709edaf33e26ba9613816705847db',\n",
              "  'dbe5ad05b6f87018159a3228c1d1725892a1bfb9fa9f8fcc2e8bfe70d69d0355',\n",
              "  '1db1cddf28e305c9478519cfac144eee2242183fe59061f1f15487e925e8f5b5',\n",
              "  'eb96fc6cbf6880bf05c4309857ae33844a4bc2152e228eff31024e5265cf9fc3',\n",
              "  'ea00f5a91ca75e745d675201cc62d7db266f8e2787033e15a7dd5f1cc5c0ad72',\n",
              "  'd8607b21411c9c8ab532faaeba15f8818a92025897950f94ee4da4f74f53660a',\n",
              "  '615985773f1469fbc00915b3e82d1d4942051c09ddea2667e37ad361ed2e9d59',\n",
              "  'dabfee30b46d23569c63fa7253ef10b2407fbe8023035a5030252313cb718097',\n",
              "  '57d88f45e479ce3821839b2706d667758c63ac769d76800d815c73d2507c1e42',\n",
              "  '9d429167633b4d9d7f41544a461975cf8e688a3affa6a8916799202874809f2a',\n",
              "  '1f6b7cead15344593b32d5f2345fc26713dc74d9b31306c824209d67da401fd8',\n",
              "  'be1916d0e5592c17f971315b5de720ef6894173087399daed94a52ef109c1572',\n",
              "  'ee927e8255096971ddae1bd975cf80c4ad7c847c82d0b5f5dd2ddfe5407007ee',\n",
              "  '2c840a94d216f5ef4e499b53ae885e9b022cbf639e004ec788436093837823b2',\n",
              "  'e5a6c5e01e6a4ef676a2d975374e995dd55792ea317a8e110bebc37da83a4ce8',\n",
              "  '0acd2c223d300ea55d0546797713851e818e5c697d073b7f4091b96ce0f3d2fe',\n",
              "  '92f31f591929a30e4309ab75185c96ff4314ce0a7ead2ed2c2171897ad1da0c7',\n",
              "  '8e507d58f4c27cd2a82bee79fe27b069befd62a46fdaed20970a95a2ba819c7b',\n",
              "  '76faaed50ed6ea6814ac36199964b86fb09ba7f41a6f213bceaa80d625adc2e1',\n",
              "  '08151b19806eebd58e5acec7e138dbfbb1761f41a1ab9620466584ecc7d5fada',\n",
              "  '20468e8779c43e089dc0ff30f25e6cf3872d5aa6a0fdad6f8aca382da43e8582',\n",
              "  '88678981648b184b23b6c04999f29210cbe351f85b61d2bf99e306fd67a2998a',\n",
              "  'a02ec007ae8feddb758078b1dfb8010c26886fd3c8babdc308ead8b4a63acbdb',\n",
              "  '1e488c42eb1a54a3e8412b1f12cde530f950f238d71078f2ede6a85a02168e1f',\n",
              "  '4d09672bcf5a2661eea00891bbb8191225a06619a849aece37ad10d9dedbde3e',\n",
              "  '2ab91a4408860ae8339689ed9f87aa9359de1bdd4ca5c2eab7fff7724dbd6707',\n",
              "  'c04fa1a74a980d790ba6f3e595fd9851f14370bb71c7cbb7846c33ca9d72687f',\n",
              "  'a102535b0e88374bea4a1cfd9ee7cb3822ff54f4ab2a9845d428ec22f9ee2288',\n",
              "  'da79a2b105f055ce75404a04bf53bbb51d518d9381af7b4ac714c137f101d920',\n",
              "  '89be66f88612aae541f5843abcd9c015832b5d6c54a28103b3019f7f38df8a6d',\n",
              "  '97158b2fe38783d88d4e44ba1b7bc6c84f225f8b35fcccc2f9265c65f14e7c8b',\n",
              "  '93c5638e7e6433b5c9cc87c152bcbe28873d2f9d6a392cca0642520807542a77',\n",
              "  '7978812d0e2e034ee1f9c141f019705582fcaa290e4a01c6c75a62753285cb23',\n",
              "  '5908488d940e846cc121c768758da9b1bd5b9922417e20c9101a4e254fa98af8',\n",
              "  '305a8baaf726d7c9e695bff31d3a6a61445999a4732f0a3e6174dc9dcbe43931',\n",
              "  'fdda64c47361b0d1a146e5b7b48dc6b7de615ea80b31f01227a3b16469589528',\n",
              "  'f534b43bf37ff946a310a0f08315d76c3fb3394681cf523acef7c0682240072a',\n",
              "  '0a7d30b252359a10fd298b638b90cb9ada3acced4e0c0e5a3692013f432ee4e9',\n",
              "  '4e07a653352b30bb95b60ebc6c57afbc7215716224af731c51ff8d430788cd40',\n",
              "  '52a6b8ae4c8e0a8a07a31b8e3f401d8811bf1942969c198e51dfcbd98520aa60',\n",
              "  'e7a3a7c99483c243742b6cfa74e81cd48f126dcef004016ad0151df6c16a6243',\n",
              "  '930f246a8e4ff273a72a6e4b3cf8e8caff94fca4eaf1dbe6f93ba37b8195c0a0',\n",
              "  'c7d546766518703580f63d5d8f11d54971044753f53c0b257d19c2f99d4bfdd0',\n",
              "  '7f2b154541166210f468d89bb0a7184f10e51168a181dbb8b686c14654ffa317',\n",
              "  '66236902b874b7e4b3891db63a69f6d56f6edcec6aca7ba3c6871d73e7b4c34f',\n",
              "  '673baf65ae5c571d6be452eb41e79ef3fc2eb3fd238e621c6b7621763b429989',\n",
              "  'adc315bd40d699fd4e4effbcce81cd7162851007f485d754ad3b0472f73a86df',\n",
              "  '14cc1424c59808274e123db51292e9dbb5b037ef3e7c767a8c45c9ac733b91bf',\n",
              "  'cf26c41245febfe67c2a1682cc4ee8752ee40ae3e49610314f45923b8bf5b08a',\n",
              "  'e2d22d3d283915df8350d039278e314a23e6e8f2b41bdfc16df849e22dd13b36',\n",
              "  '5d21acedb3015c1208b31778561f8b1079cca7487399300390c3947f691e3974',\n",
              "  '4193474b2f1c72f735b13633b219d9cabdd43c21d9c2bb4dfc4809f104ba4c06',\n",
              "  '785555c0cbb49dad835635217085287a8cc61c27d26f0e106b70c1dfd05784dc',\n",
              "  '8d9b4205ddb10fa49a2973b4f3a2dc6923407ae015081e1a52c4b4c2fe8faa53',\n",
              "  '2f929b067a59f88530b6bfa6f6889bc3a38adf88d594895973d1c8b2549fd93d',\n",
              "  'a486f6ed4b8781e7883e433d06a83dd66db3e8b36d45b9976c4214820ee22629',\n",
              "  '9f073db4acd7e634fd578af50d4e77218742f63a4d423a99808d6fd7cb0d3cdb',\n",
              "  'b82548ab19466b461614e6055aaf49fbc24c03a2d20e65575b680c7c28268807',\n",
              "  'ae570a676961482848b5097038ef5e407df7a66a8e1c9b0567da599565a6b142',\n",
              "  '66612c188d73e931e1863af2c99d2af782c32f65fd97d224abb40bbadb87263f',\n",
              "  'e23e11414ee645b51081fb202d38b793f0c8ef2940f8228ded384899d21b02c2',\n",
              "  '237802ac5005f9cf782367156c46c383efd9e05088e5768ca883cbbe24abadb1',\n",
              "  '573e1480b500c395f8d3f1800e1998bf553af0d3d43039333d33cf37d08f64e5',\n",
              "  '00071198d059ba7f5914a526d124d28e6d010c92466da21d4a04cd5413362552',\n",
              "  '831218e6a1a54b23d4be56c5799854e7eb978811b89215319dc138900bd563e6',\n",
              "  '58c593bcb98386e7fd42a1d34e291db93477624b164e83ab2afa3caa90d1d921',\n",
              "  '0ea221716cf13710214dcd331a61cea48308c3940df1d28cfc7fd817c83714e1',\n",
              "  '4829177d0b36abdd92c4ef0c7834cbc49f95232076bdd7e828f1f7cbb5ed80ec',\n",
              "  'c3bec1066aae20f48b82975e7e8b684cd67635a8baf211e4d9e3e13bc54c5d06',\n",
              "  'e5f8ad0f0a43af8ca57e31e16800108abdfb44a7e962a71d246f72d2dbde42bf',\n",
              "  '547ef286ee5f4e5dce533e982e6992ada67b7d727fdd3cfa6576f24c631a7ae6',\n",
              "  'a65bbfc5673e8053b6ce49f39c79cf3a846fe5cc46dd93105f74fb07cf44606d',\n",
              "  '317832f90f02c5e916b2ac0f3bcb8da9928d8e400b747b2c68e544e56adacf6b',\n",
              "  'e9b8ad127f2163438b6236c74938f43d7b4863aaf39a16367f4af59bfd96597b',\n",
              "  'd4d88391bc399a3715440d4da9f8b7a973e010dc1edd9551df2e5a538685add5',\n",
              "  'edd36ed822e7ed760ff73e0524df22aa5bf5c565efcdc6c39603239c0896e7a8',\n",
              "  'a6e81120d1cb9f71f8a25f90a5d56c4b714a642fc496a705e38921fd90a3f69c',\n",
              "  'dae976f161fe42dc58dee87d4bf2eb9f65736597cab0114138641b2a39a5c42b',\n",
              "  '8efed2e62c919e6d70a2ab548b1a33014877fe8a23f177ef25a9dee25ffe8842',\n",
              "  '813f41ef376c3cbcc9d6e2ce6a51c2ee068226d1c1b13404eb238dcfdd447c97',\n",
              "  'f728de04267283f0b4daab9a840e7433b2c6034baf195fd526850439c9297687',\n",
              "  '4d4f254f3b8b4408d661df3735591554b2f6587ce1952928d619b48010d55467',\n",
              "  '797945873ca2a95f028671714b71eb3f883efe9dae7fcd3fc0ea1521efb73aaa',\n",
              "  'c0152b1a260e71f9823d17f4fbb4bf7020d5dce62b4a12b3099c1c8e52a1c43a',\n",
              "  '04acab7636c4cf61d288a5962f15fa456b7bde31a021e5deedfbf51288e4001e',\n",
              "  '337b6eed0726f07531cd467cd62b6676c31a8c9e716bdbc49433986c022252cf',\n",
              "  '0e4c2e2780de7ec4312f0efcd86b07c3738d21df30bb4643659962b4da5505a3',\n",
              "  '76c4f14e35210f87a29e93c46dbb25c8f5dc5c04d1d3134672708bcdfbc7e959',\n",
              "  'f6b16c885c0b2bc0d0eb2bb2eeb0a2753ebafb5a7a91da10e89b0b0478984637',\n",
              "  '1d4a5e729bb96b08370789cad0791f6e52ce0ffe1fcc97a04046420b43c851dd',\n",
              "  'c901794d1a421d52e5734500c0a2a8ca84651fb93b19cec2f411855e70cae339',\n",
              "  'd6a880b1f6056f3086679de5c810e7af87cdf3bbbd0533a83e3681817fce40fc',\n",
              "  'fa73f24532b3667718ede7ac5c2e24ad7d3cae17b0a42ed17bbb81b15c28f4ae',\n",
              "  '1c2f9e121fc207efff79d46390df1a740566b683ff56a96d8cabe830a398dd2e',\n",
              "  '573a657d5e5fcb9574a758b0ab34b09c79d7ba374ceb71227c3dc88f009a3f6b',\n",
              "  '356d9903d16074f152fe8f2f0ef555d9959c53264228eae7373cad5cf35d4e85',\n",
              "  'be771d6831e3f8f1af4696bc08a582f163735db5baf9906e4729acc6a05e1187',\n",
              "  '353ab00e964f71aa720385223a9078b770b7e3efaf5be0f66e670981f68fe606',\n",
              "  '2abc40c118bc7303592c8bb95a80361e27560854b8971ab34dcf91966575b1f2',\n",
              "  'b6c9b58de0388891221b8f7a83cbf0b8f8379b51b5c9a127bf43a4fc49f1cc48',\n",
              "  '4948e3dfe0483c2198b9616612071ead5474dffd223071cf0a567aea9aca0b9e',\n",
              "  'eeb142344e9de3250ab748f93940bf06be70d5078337680998468a134a101698',\n",
              "  'aa58ba4512955771b4f9b459cb4e6a8adb71d11cd6cae662ec2df31d688a5fe0',\n",
              "  '10328b822b836e67b547b4144e0b7eb43747c114ce4cacd8b540648892945b00',\n",
              "  'a6001531274f9ad16e0ced40380f9667b9149558dea7053f7a7db18f5cd028c0',\n",
              "  '308084bdd358e0bd3dc7f2b409d6f34cc119bce30216f44667fc2be43ff31722',\n",
              "  '12aeefb1b522b283819b12e4cfaf6b13c1264c0aadac3412b4edd2ace304cb40',\n",
              "  '212b858a66f0d23768b8e3e1357704fc2f4cf4bbe7eed8cd59b5d01031d553e6',\n",
              "  '94a5a37c3b1153d5c5aef2eca53c960b9f21f2ef1758209d7ec502ec324b03a3',\n",
              "  'bfe8ef193a68a0a86a5e4ae1ddc27bda3f9ffe170494395be4030ba72737c565',\n",
              "  'b2c5d8653c621207e97b699e5c4c05d13df4f02d9db3e594b1f0c22e5b746aae',\n",
              "  '33618678c167c5e07be02c49d0c43bcd90493ba5d83110a631409a4d3ccc1e51',\n",
              "  '7f55678298adb736987d9fb5d1d2daefb08fe5bf4d81b2380bedf9449f79cc38',\n",
              "  '6034456567632f4b48dc3dfbb98534b5953c151990f4235df6c912c0a9c08397',\n",
              "  '193ffaa5272d5c421ae02130a64d98ad120ec70e4ed97a72cdcd4801ce93b066',\n",
              "  '29dd28df98ee51b4ab1a87f5509538ecc3e4697fc57c40c6165658f61b0d8e3a',\n",
              "  'e5a7b8a9924b26b3abf039255a8a3bb00258f4966f68ff3349560b4350af9367',\n",
              "  'c89ac06daef5c819309f03d6a35792d1a8a66abb8cb3414013ffe71d3dd9fe96',\n",
              "  'ff599c7301daa1f783924ac8cbe3ce7b42878f15a39c2d19659189951f540f48',\n",
              "  'fd8065bcb1afdbed19e028465d5d00cd2ecadc4558de05c6fa28bea3c817aa22',\n",
              "  'ea94ba4b01d1bd5f7768d10e0ac547743791033df545c71fcec442d0cb5cb5e7',\n",
              "  '80632d6be60c8462e50d51bcf5caf15308931603095d6b5e772a115cd0d0470c',\n",
              "  '3ab9cab6212fabd723a2c5a1949c2ded19980398b56e6080978e796f45cbbc90',\n",
              "  '54793624413c7d0e048173f7aeee85de3277f7e8d47c82e0a854fe43e879cd12',\n",
              "  'a6515d73077866808ad4cb837ecdac33612527b8a1041e82135e40fce2bb9380',\n",
              "  'ddf1bf458312de2895dd9cc5ce7ec9d334ad54c35edc96ad6001d20b1d8588d8',\n",
              "  '7c0157913223365720209ac83ff2e0b1b2b460173acd615c67646014093a2b97',\n",
              "  'ad473063dab4bf4f2461d9a99a9c0166d4871f156516d9e0a523484e7cf2258d',\n",
              "  'a4c44fc5f5bf213e2be6091ccaed49d8bf039d78f6fbd9c4d7b7428cfcb2eda4',\n",
              "  'fc9269fb2e651cd4a32b65ae164f79b0a2ea823e0a83508c85d7985a6bed43cf',\n",
              "  'a31deaf0ac279d5f34fb2eca80cc2abce6ef30bd64e7aca40efe4b2ba8e9ad3d',\n",
              "  'ff3407842ada5bc18be79ae453e5bdaa1b68afc842fc22fa618ac6e6599d0bb3',\n",
              "  'da8ca06ccbb4e2a8718f7c2939ef6cc3a4088981f660842ad885a8273e740d55',\n",
              "  '942d56861fc83e195e9c559a000bb86627d8682f8dcc2300818458e5b6850dd0',\n",
              "  'ae9f76b5360df3f60f3cdd389652b96e823080bb830dd8c79e7f1e597d51bc1c',\n",
              "  'c304a1fdf3bca2f4b4580d2cac59942e2224a7678001bf5ed9d9852f57708932',\n",
              "  '79dfcbc9361edd3a1ffe81a5bdaa22a197ad1341f3fa64b86a646c2607d6b324',\n",
              "  'f6cb37ebf29c225284c8415962f7287abe7007fae8fe3d8a3899b608b832d7d5',\n",
              "  'a6593632dcbbe4c9e9429a9cec573d26fd8c91a47d554d315f25e7c2e0280ee3',\n",
              "  '4ca5081854df7bbcaa4934fcf34318f82733a0f8c05b942c2265eea75419d62f',\n",
              "  'e4537e7893e631f3ba6ae5b1023e24b233c78249a31c2f5e561f6c4cad88fcf6',\n",
              "  '6fe2df6de1d962b90146c822bcefc84d0d3d6926fdfbacd3acdc9de830ee5622',\n",
              "  '1400420310c9094361a8a243545187f1d4c2365e081b3bb08c5fa29c7491a55b',\n",
              "  '1a75e9f15481d11084fe66bc2a5afac6dc5bec20ed56a7351a6d65ef0fe8762b',\n",
              "  'b6d50fa22380ae3a7e8c52c5bc44a254e7b2596fd8927980dbe2c160cb5689b5',\n",
              "  '8aa1a883f61f0bb5af3d3d60acaaf33af45ef4fbffaac15ae838bc1ce37b6fbf',\n",
              "  '2e2d29fc44444a85049b162eb359a523dec108ccd5bd75022b25547491abf0c7',\n",
              "  'db45946a4412a2137674ec075b6892ccd682b77826aba618210569bbc65cf2b0',\n",
              "  '876423522bdec1602917b94163a21e05fc7b692045219b7bc96cdaf638c33c25',\n",
              "  'bbfc4aab5645637680fa0ef00925eea733b93099f1944c0aea09b78af1d4eef2',\n",
              "  'c96109cbebcf206f20035cbde414e43872074eee8d839ba214feed9cd36277a1',\n",
              "  '2d53d7ec0c579fffd6710c956288537d46c719a93c6a04ac0d6550f75a6a6493',\n",
              "  'd1ba6089cae2f90cb7275ece10ca393c25f60ea17e5c9c3cea2399d31fd41869',\n",
              "  'd7db360fabfce9828559a21f6bffff589ae868e0dc6101d7c1212de34a25e3cb',\n",
              "  '091944f1d2611c916b98c020bd066667e33f4639159b2a92407fe5a40788856d',\n",
              "  'fc5452f612a0f972fe55cc677055ede662af6723b5c1615ad539b8a4bd279bdb',\n",
              "  '243443ae303cc09cfbea85bfd22b0c4f026342f3dfc3aa1076f27867910d025b',\n",
              "  '77ceeb87f560775ac150b8b9b09684ed3e806d0af6f26cce8f10c5fc280f5df2',\n",
              "  'e49fc2b4f1f39d481a6525225ab3f688be5c87f56884456ad54c953315efae83',\n",
              "  'b3a9f4c9035a0df7e033b18c63bfb0f0d87ff5a4d9aa8bdf417159bb733abb80',\n",
              "  '9774c82396327929fea05e40ae153cabf0107178b2ae3e40a5709b409793887e',\n",
              "  'fe80a2cf3c93dafad8c364fdd1646b0ba4db056cdb7bdb81474f957064812bba',\n",
              "  '3ca8181367fc1258a418f7bf5044533c83e02a59c1a96def043295c429c297a8',\n",
              "  'f6863b83d75e5927b30e2e326405b588293283c25aaef2251b30c343296b9cb1',\n",
              "  '853a4c67900c411abd04467f7bc7813d3c58a5f565c8b0807e13c6e6dea21344',\n",
              "  '5d58600efa0c2667ec85595bf456a54e2bd6e6e9a5c0dff42d807bc9fe2b822e',\n",
              "  'ead9464a50a17f74bf1b6471d94ecce8d887cf518c8fedc6c6048eb948bc4e49',\n",
              "  'ec031f176dafe0b36547068ce42eab39428ec7995dac1b3ea52d1db79b61fdeb',\n",
              "  '60cb718759bff13f81c4055a7679e81326f78b6a193a2d856546097c949b20ff',\n",
              "  '4c032609d377bd980e01f888e0b298600bf8af0e33c4271a1f3aaf76964dce06',\n",
              "  '7f34dfccd1bc2e2466ee3d6f74ff05821a0e5404e9cf2c9568da26b59f7afda5',\n",
              "  '6aa7dd0c88bec4f96cdd497f9c37779733033d9ec6513307461302d36bd32ac7',\n",
              "  '62570c4ff1c5ab6d9d383aba9f25e604768520b4266afd40fdf4734a694c8bc3',\n",
              "  '54fe2d3416951cbc48f8718624c86a7ae58b6022a7fa75591b13f625cf53658b',\n",
              "  '371a67232f7c871ec11332292c83cd9bb16063b91d58e86f0b76ef8817bc9465',\n",
              "  '49edc2f7715100fb0390916e52b3fd11a921f02e59509dc987f67840a36250fc',\n",
              "  '358e47eaa1e9222252793fe0fb8c77028d4e0d4360b95a07c9fe6df6a2066556',\n",
              "  '751f421d322940d6efe3bd570a66ecda16d08a1b90bc32a6d7ae1af89856fd49',\n",
              "  '1d5f4717e179a03675a5aac3fc1c862fb442ddc3e373923016fd6b1430da889b',\n",
              "  '9ebcfaf2322932d464f15b5662cae4d669b2d785b8299556d73fffcae8365d32',\n",
              "  '0d2bf916cc8de90d02f4cd4c23ea79b227dbc45d845b4124ffea380c92d34c8c',\n",
              "  'f9ac03b0344ce8c48bc058448541f9211a1e5f4c94fdaf633dd534328d8610ab',\n",
              "  '6b0ac2ab04c09dced54058ec504a4947f8ecd5727dfca7e0b3f69de71d0d31c7',\n",
              "  '003cee89357d9fe13516167fd67b609a164651b21934585648c740d2c3d86dc1',\n",
              "  '72e8c49dea44787114fd191f9e97e260f961c6e7ae4715bc95cc91db8d91a4e3',\n",
              "  'ac8169a0debed11560f3f0e246c05ea82d03c66346f1576cc8268554cb3f549f',\n",
              "  'b1e3aeb0c56261c17eb71c747d116057b8da7e8c8a6845bdc01b2b3ee2299229',\n",
              "  '5ef4442e5b8b0b4cf824b61be4050dfd793d846e0a6800afa4425a2f66e91456',\n",
              "  'bb61fc17daf8bdd4e16fdcf50137a8d7762bec486ede9249d92e511fcb693676',\n",
              "  '5ba4facefc949c920d7054813a3e846b000969da2ed860148bdfd18456f59bcc',\n",
              "  '3a22fe593d9606d4f137461dd6802fd3918f9fbf36f4a65292be69670365e2ca',\n",
              "  '5ddbfba2519484316e4b7ccabfa605e6e6fd96c3d87ac8cdfd2c134571a15311',\n",
              "  'f93ec5e683d81005ffc2a84a1c0299b2406ad14b764b824e013f7ca3a13833b5',\n",
              "  'a90401357d50e1376354ae6e5f56a2e4dff3fdb5a4e8d50316673b2b8f1f293b',\n",
              "  '431b9b0c520a28375b5a0c18d0a5039dd62cbca7c4a0bcc25af3b763d4a81bec',\n",
              "  '94519eb45cbe1573252623b7ea06a8b43c19c930f5c9b685edb639d0db719ab0',\n",
              "  'feffce59a1a3eb0a6a05992bb7423c39c7d52865846da36d89e2a72c379e5398',\n",
              "  'd7ec8003735996458b56ccb8ae34d080eb2a6adabef931323239632515b4b220',\n",
              "  'aa83f5b4fca02ae43a6b9456ab42707b0beabc6e7c5c4e66c0d2572fb80f3615',\n",
              "  '449f41710769584b5e4eca8ecb4c76d5272605f27da2949e6285de0860d2cbc0',\n",
              "  '708eb41a3fc8f2b6cd1f529cdf38dc4ad5d5f00ad30bdcba92884f37ff78d614',\n",
              "  '5e263abff938acba1c0cff698261c7c00c23d7376e3ceacc3d5d4a655216b16d',\n",
              "  '483b89aa683542f1c63e62f5f71ae8ae1f959caf1c379cd61230a71cd1036732',\n",
              "  'bc115ff727e997a88f7cfe4ce817745731a6c753cb9fab6a36e7e66b415a1d3d',\n",
              "  'ce88df7356d9d4a8d5944a93768f4c4b593de2d35616f7448c2b37b9fd60dd1f',\n",
              "  'f20eb4592e7d3cf58d421a9c34832d33adcdcbd0e17b7bf009a013847608da27',\n",
              "  'a0325cb7aa59e9c0a75e64ba26855d8032c46161aa4bca0c01bac5e4a836485e',\n",
              "  '724b6b7044522f6d5ea35b55f8fa71d0a45a28687be2b7cac3149943ab816eec',\n",
              "  '58cc121d37fb7f1b4a5252024d88415936781e540252b8f734faeedd29b682d5',\n",
              "  '6bc8cda54f5b66a2a27d962ac219f8075bf7cc43b87ba0c9e776404370429e80',\n",
              "  '1b6044e4858a9b7cee9b0028d8e54fbc8fb72e6c4424ab5b9f3859bfc72b33c5',\n",
              "  '7c318172e976ae5a962c9c7a4e9fe46d7fb985765ddd3a3e2108e893a90b92b2',\n",
              "  '9b25b8ffd5f52b6c3d235a42d51d380503d1f80b61ef0f62eeb696f5977c38e6',\n",
              "  '8a65e41c630d85c0004ce1772ff66fbc87aca34cb165f695255b39343fcfc832',\n",
              "  '4d14a3629b6af6de86d850be236b833a7bfcbf6d8665fd73c6dc339e06c14607',\n",
              "  'a5e695fce80dc03efb6665a9ec14500ab47f4ee9f6437531388dd3cc32c90db1',\n",
              "  '5953af5080d981b554529971903d8bee9871457a4361b51f04ba04f43793dd8f',\n",
              "  'e1bcb583985325d0ef5f3ef52957d0371c96d4af767b13e48102bca9d5351a9b',\n",
              "  'c9f305be17312bdb9530fb4f1adc6d29730ddbe0e74730cbf031de174bf437b7',\n",
              "  'fc345dac2205deb169bd70197f07f053bada80b61ffa69fdfb490758323ead69',\n",
              "  '295ac4ecf2ee0211c065cf5dbb93b1eb8e61347153447209cd110e9c3e355e81',\n",
              "  '50a7ea80dd73232a17f98b5c83f62ec89989e892fe25b79b36f99b3872a7d182',\n",
              "  '7aae06bc4558829473071defec0b7ab3bfa9c5005548a13da95596bb6a66d105',\n",
              "  '44ab6a09eedee848b072ea3acd0f4e781f9c43b8d4e3d62598e1024584bf0b01',\n",
              "  '1d02c4b5921e916b9ddfb2f741fd6cf8d0e571ad51eb20e021c826b5fb87350e',\n",
              "  '442c4eb0185698fe7d148c108a46f74abd399aecda2f4f22981a1671cd95dd7d',\n",
              "  'bde3727f3a9e8b2b58f383ebc762b2157eb50cdbff23e69b025418b43967556b',\n",
              "  '3477024fd843e46097840360f9cdee24b76bf5c593ed27a9aee7a5728a06aa51',\n",
              "  'ff3e512b5fb860e5855d0c05b6cf5a6bcc7792e4be1f0bdab5a00af0e18435c0',\n",
              "  'abbfff07379bceb69dba41dad8b0db5eb80cc8baf3d4af87b7ee20b0dac32215',\n",
              "  '1023509cf8d4c155467800f89508690be9513431992f470594281cd37dbd020d',\n",
              "  'a101a00fea63f0c43abe5323f4f890bec881eb0caa3bc8498991ff5fd207ed91',\n",
              "  'f67e72b7fe0b1e3648ea745ffd395c80705c89b0c0c48227991fe6f5815b2a18',\n",
              "  '8fdc34509a0c3721f7b5e235c8a93e1f553343aa17ad103a1e89e3509a3e1570',\n",
              "  '52a4ac5a875be7a6c886035d54fb63f5f397dc43508c4831898f6b2f8debc7f3',\n",
              "  '2227fd9b01d67c2bcdb407d3205214e6dfeff9fd0725828e3b3651959942ff4a',\n",
              "  'ec486143ecfec847c22cd8cbc207d85312bcf38e61c9b9a805e0d12add62da8d',\n",
              "  'c8ca945abc29d262a5525e4c2585541bba33fa77c86a47c94575d8e5b54c83fb',\n",
              "  '5b2ccfb94dedf2ec8797c0404fc324888e35ab903c41bb26f070552033ca8e6c',\n",
              "  'd751ccb64fa767a65a966061218438bd1860695d96bbef11fdb2f0d3b8dedba8',\n",
              "  '11a0170f44e3ab4a8d669ae8ea9546d3a32ebfe6486d9066e5648d30b4e1cb69',\n",
              "  '1631352dbafb8a90f11219fffd3bea368a30bc3bad3bbe0e84e19bd720df4945',\n",
              "  '6bd330234b763b77796d4804de8e224881c0fc8dd02650fa708b2edfd8c7461f',\n",
              "  'e856511ac1c34d24320eb7c56c05a4a3340d06667b4f5b8e8df615d415c7f650',\n",
              "  '61dc249314d7b965eb4561ec739eab9b0f60af55c97b25ced8cb2a42a0be128e',\n",
              "  '2869fad54664677e81bacbf00c2256e89a7b90b69d9688c9342e2c736ff5421c',\n",
              "  '87ea72894f6534b28e740cc34cf5c9eb75d0d8902687fce5fcc08a92e9f41386',\n",
              "  'c1afe66cd139f996fd984f5f2622903730ec2f1192d90608154f07f7ef6cdb4b',\n",
              "  'afa272dc01825d4b929b3bfc79a10f68dd3c163c450d858b964d1ce0bc93e131',\n",
              "  'f4c4db3df4ff0de90f44b027fc2e28c16bf7e5c75ea75b0a9762bbb7ac86e7a3',\n",
              "  '4c465a54e329ec7b0f4bc5f6acdfd3192707d6c0fbdf557339485581c5a6b3c1',\n",
              "  'd256b32adda37f2301c9e46f34b7f9a36cce273256369ceb5dc2c73c3007e3c4',\n",
              "  'f0a75e0322f11cead4219aa530673fe5eef67580fb6fccc254963c9fc6b58aa1',\n",
              "  'b1eb0123fe2d8c825694b193efb7b923d95effac9558ee4eaf3116374c2c94fe',\n",
              "  '136000dc18fa6def2d6c98d4d0b2084d13c22eaffe82e26c665bcaa2a9e51261',\n",
              "  '98c5ead89cd066637efd5c93a6edc55c85908eb66807471f0d246d5457341f9c',\n",
              "  'b3bfd873fca7ff9b2e90f507dfdbe165bb8c153399b6ba5829aa59bae677a91d',\n",
              "  '4d40de30a3db3bc4f241cb7f48e8497c11e8f20a99bf55788bdce17242029745',\n",
              "  '7aa1aaa5e032a980f434c8ed63efb57ab0d338d6154c47f7bb75afdc89f43c04',\n",
              "  '2cfa857e63be1b418c91ad5ea1f8d136fd1b80fc856e1d4277274c3dea28011c',\n",
              "  'cbca32daaae36a872a11da4eaff65d1068ff3f154eedc9d3fc0c214a4e5d32bd',\n",
              "  '20c37b1ad2f510ed7396969e855fe93d0d05611738f6e706e8ca1d1aed3ded45',\n",
              "  'c6216cdc42f61bc345434986db42e2ef9b9741aee3210b7a808e952e319d2305',\n",
              "  '1740b0a67ca337ea31648b57c81bcfbb841c7bb5cad185199a9f4da596d531b9',\n",
              "  '29780b28e6a75fac7b96f164a1580666513199794f1b19a5df8587fe0cb59b67',\n",
              "  '0bf4b144167694b6846d584cf52c458f34f28fcae75328a2a096c8214e01c0d0',\n",
              "  '449fe932622db3b49366a260ddd20077219f96fb2dc0f912ad4f60b087876f3b',\n",
              "  '34c9f4eb2af8b8f46b1d88b74bde16f4614cd08948c2f1d817eb629afc512e7a',\n",
              "  '0c6507d493bf79b2ba248c5cca3d14df8b67328b89efa5f4a32f97a06a88c92c',\n",
              "  'b0e35e06b85da49bfe3ea737711a72b551a6add446e30eabb01aa683a79873c5',\n",
              "  'e52960d31f8bddf85400259beb4521383f5ceface1080be3429f2f926cc9b5c2',\n",
              "  '55f98f43c152aa0dc8bea513f8ba558cc57494b81ae4ee816977816e79629c50',\n",
              "  'a0afead3b4fe393f6a6159de040ecb2e66f8a89090abf0d0bf5b8e1d38ae667c',\n",
              "  '57bd029b19c1b382bef9db3ac14f13ea85e36a6053b92e46caedee95c05847ab',\n",
              "  'b7a86f4968071e0f963fa87ef314fdd1b6c73a66355431cc53a37e193ba6be9b',\n",
              "  '06c779330d6d3447be21df2b9f05d1088f5b3b50dc48724fc130b1fd2896a68c',\n",
              "  'd52958107d0b1f0288f50f346a833df3df485b92d5516cfcb536e73ab7adafd0',\n",
              "  '63d981a107091e1e3059102ce08870744dde173afe324bc2274c17d42f661778',\n",
              "  'ed8c31b001a0c23c33402f94a5ee6b0209e0c6419eb52d5d02255513e3a672fc',\n",
              "  'b6edad733399c83c8eb7a59c0d37b54e10cc0d59894e39ff843884d84f61dee1',\n",
              "  '2a1a294e21d76efd0399e4eb321b45f44f7510911acd92c988480195c5b4c812',\n",
              "  '12f89395ad5d21491ab9cec137e247652451d283064773507d7dc362243c5b8e',\n",
              "  'ac782d2cad7f515ce7276926209820e386248e3d619b2df81e22d5e3c160b7cb',\n",
              "  '514ccfc78cb55988a238d3ac9dc83460aa88382c95d56bcc0559962d9fe481ef',\n",
              "  'c35e6e3ea39a718e1b7aff66e4cc678efd662f9b5336b74d69c1d6bca7aaf288',\n",
              "  '4327d27591871e9c8d317071a390d1b3dcedad05a9746175b005c41ea0d797b2',\n",
              "  'a891bbc89143bca7a717386144eb061ec2d599cba24681389bcb3a2fedb8ff8c',\n",
              "  '23830d0e51245fc0c9e410efa4c17d2a7d83a0104a3777130119ab892de47a4e',\n",
              "  '27c30f9011492f234e4587c9a4b53c787037d486f658821196fe354240ac3c47',\n",
              "  '3594684b9ea0e16196f498815508f8d364d55fea2933a2e782122b6f00375d04',\n",
              "  '3b3f516ebc9a16cff287a5ffd3a1861a345a6d38bedbba74f1c0b0e0eac62afd',\n",
              "  'd827a7d80fc67487a3237135e0d43ae01b7bbcb135e1a167601fc974a8348c51',\n",
              "  'abd8dde78f8d37b68b28da67459371ed65f0a575523e94bc4ecbc88e6fedf0d0',\n",
              "  'fadeb0ab092833f27daaeb3e24223eb090f9536b83f68cde8f49df7c544f711b',\n",
              "  'eb1df8ed879d04b36980b0958a0e8fc446ad08c0bdcf3b5f42e3db023187c7e5',\n",
              "  'dd54adb80393de7769b9853c0aa2ee9b240905d0e99c59d4ccd99401f327aa05',\n",
              "  '5b0bde771bc67c505d1b59405cbcad0a2766ec3ee4e35852e959552c1b454233',\n",
              "  '68f833de9f8c631cedd7031b8ed9b908c42cbbc1e14254722728a8b7d596fd4c',\n",
              "  '08275a5b1c2dfcd739e8c4888a5ee2d29f83eccfa75185404ced1dc0866ea992',\n",
              "  'b24ea5c268469a95ed155eeaf809e36030b78a2eb530a0cb2380cdc1ccdb7dd1',\n",
              "  '8a26b134fe9343c0c794513dae7787b7ac1debec3bb2a7096ab0b874a31d8175',\n",
              "  '92e7e86e765e05ce331c07a6d14f0a696eac7ee40058699243900f40b696d7aa',\n",
              "  'd1b173875e2261f55014bd27bd7174b9ae1c769338c1b31b5d737e9e60175993',\n",
              "  '3ebd2ab34ba86e515feb79ffdeb7fc303a074a98ba39949b905dbde3ff4b7ec0',\n",
              "  '5c6eb9a47852754d4e45eceb9a696c64c7cfe304afc5ea491cdfef11d55c17f3',\n",
              "  'aa47f0b303b1d525b52452ae3a8553b2d61d719a28aee547e2ef1fc6730a078f',\n",
              "  '3934a094e8537841e973342c7f8880606f7a2712b14930340d6f6c2afe178c25',\n",
              "  '709e094e39629a9ca21e187f007b331074694e443db40289447c1111f7e267e7',\n",
              "  'f7e5dcfc9c93183c668c5a4ab028d5faad54fb54298711f2caae0508aa978300',\n",
              "  '7af09f98ec299ba0658d759eebc4c34e1c98289ea6ce37f233e9f5e4e2fc84f4',\n",
              "  '6b61ab2e3ff0e2c7a55fd71e290b51e142555cf82bc7574fc27326735e8acbd1',\n",
              "  '29ea4f6eb4545f43868a9b40a60000426bf8dfd9d062546656a37bd2a2aaf9ec',\n",
              "  'cc88627344305b9a9b07f8bd042cb074c7a834c13de67ff4b24914ac68f07f6e',\n",
              "  '3a508d2dc03db46e7f97a2a30eabb62ab2886f3cedfea303de8f6a42e50d20eb',\n",
              "  'e321cfa987e77c21373a0f8b1236c83d6636306949a82a7f5b07fc0838e7777f',\n",
              "  '077f026f4ab0f0bcc0856644d99cbf639e443ec4f067d7b708bc6cecac609424',\n",
              "  '05040e2e959c3f5632558fc9683fec88f0010026c555b499066346f67fdd0e13',\n",
              "  '5d75a63972ef643efd7c42f20668b167f2af43635d6263962d84e62e7609ab51',\n",
              "  'b1f23c4d27afed8af7b6b64793a3760bfea31b65f582d48aaa62d2b988ef2eac',\n",
              "  'aa4d989d262c618ac2793579e200cc71b3767f84698ae5f669867f23cdfe2568',\n",
              "  '6eefe1f0d9c2d2c2380db3ecd2113a566ace7dfc917687bb5033b4af5b8293aa',\n",
              "  'c6de542205b891eed5c40e6d8ae3d03a6ca39b26dc445b4dbc64340d4d64dd2d',\n",
              "  'a815a986800a95de0957116c6585deea8ffb6ee09ad00ccc687306937ac698d0',\n",
              "  'aaa52100fafaa50877e777229cdf6cde7c422f145ff6719449b80631d9a3b0f6',\n",
              "  '37ed50eea5a1e0bade3e6753793b6caeb061cd4c2f365658c257f69cab1f6288',\n",
              "  'b0defa611b75645c0283464ee4163917bad382d335b61e8509f065bf371fa15f',\n",
              "  '76c44d1addac92a65f1331f2d93f4e3b130bd4e538a6e5239c3ac1f4c403608a',\n",
              "  'ef3ef194e5657fda708ecbd3eb6530286ed2ba23c88efb9f1715298975c73548',\n",
              "  '6ab24e7e1f6c9fdd371c5edae1bbb20abeeb976811f8ab2375880b4483860f4d',\n",
              "  '4596961c789d3b41916492918797724fe75128239fefc516c3ee75322b7926f0',\n",
              "  '220b37f4ca7cab486d2b71cd87a46ee7411a5aa142799d96ed98015ab5ba538a',\n",
              "  'dec1764c00e8b3c4bf1fc7a2fda341279218ff894186b0c2664128348683c757',\n",
              "  'bf566e75d5cb0196de4139573f8bbbda0fa38d5048edf7267fe8793dcc094a66',\n",
              "  'af6b6173c59450bc76b2cc461cf233921fbfdb6feb8dd6da03a0d44193221fd0',\n",
              "  'ba3997edd3fcb2f823ecdf870d2b607f08bff848f72a5cf72340bae5aca7c5ce',\n",
              "  'da5f98f2b8a64eee735a398de48ed42cd31bf17a6063db46a9e0783ac13cd844',\n",
              "  '03f583ec5018739f4abb9b3b4a580ac43bd933c4337ad8877aa18b1dfb59fc9a',\n",
              "  '2c61fdcb36fd1b2944895af6204279e9f6c164ba894198b40c8b7a3c9bf500ea',\n",
              "  '35ca5f142a7d7a3e4b59f1a767a31f87cb00d66348226bc64094ee3d1e46531c',\n",
              "  '3b0709483b1e86449cc355bb797e841117ba178c6ae1ed955384f4da6486aa20',\n",
              "  '43cf6b2ec0b0745ac2b87b4d8780f62e9050d3f5d50a1fcefa42d166191e84c6',\n",
              "  '6b6d4e6ff52de473a4b6f8bd0f11ae22242d508cc4117ff38ec39cbb88088aaa',\n",
              "  '5d2c98fd6fda3c7d739461c3b3d4a0c7f8456121a14519dc5955a1775227b053',\n",
              "  'd7fc0d0a7339211f2433829c6553b762e2b9ef82cfe218d58ecae6643fa8e9c7',\n",
              "  'cfabf7379c5591d40aa4a20c86b4197c6a25ab55887a9fca4f06c2dfc0f0e973',\n",
              "  '58406ed8ef944831c413c3424dc2b07e59aef13eb1ff16acbb3402b38b5de0bd',\n",
              "  '13c8ff1f49886e91c98ce795c93648ad8634c782ff57eb928ce29496b0425057',\n",
              "  '88d5a03f8ecd459f076a06e0d5035149193bfdd727c30905de19054dcb9018ae',\n",
              "  'e414b54f2036bcab61b9c0a966f65adf4b169097c13c740e03d6292ac076258c',\n",
              "  '3f9fc8e63f87e8a56d3eaef7db26f1b6db874d19f12abd5a752821b78d47661e',\n",
              "  '8b12e18670e4b24d03567d1e17c0c24fadf0ea2c1e763983dd6bb4c44b7376a6',\n",
              "  'c395870ad9f5a3ae651b50efab9b20c3e6b9aea15d4c731eb34c0cf9e3800a72',\n",
              "  '54cb3328e778d87f76062b0550e3bc190f46384acd8efbe58c297265d1906e84',\n",
              "  'f7eaaf420b5204c4a42577428b7cd897a53ef07b759ccbba3ed30a3548ca5605',\n",
              "  '564fa390d9a9c26f986bf860d9091cbd84244bc1c8e3c9369f2f2e5b5fd99b92',\n",
              "  '28d33efef218392e79e385906deb88055d94b65ad217de78c07e85476f80f45a',\n",
              "  'ad9d305cbf193d4250743ead466bdaefe910835d7e352c544e22320e8336f5c1',\n",
              "  '07fb37aafa6626608af90c1e18f6a743f29b6b233d2e427dcd1102df6a916cf5',\n",
              "  '693bc64581275f04fc456da74f031d583733360a1f6032fa38b3fbf592ff4352',\n",
              "  '1f0008060150b5b93084ae2e4dabd160ab80a95ce8071a321b80ec4e33b58aca',\n",
              "  'a5fe0b7412dd152c41f7afc34ffdf276d4261b6942fa6d36803648e90f2cfc06',\n",
              "  '150b0ffa318c87b31d78af0e87d60390dbcd84b5f228a8c1fb3225cbe5df3e3f',\n",
              "  '5bda829acd824821bc1f3f6573cf065d364653d5322f033a4af943f7a6170566',\n",
              "  'df33b11184427e05c8a450f921586685975fe975f57315e686a0f26fddb93db1',\n",
              "  'e5aeb5b3577abbebe8982b5dd7d22c4257250ad3000661a42f38bf9248d291fd',\n",
              "  'af8621ef0db8c26b0bce6385bd5609b584bfd678fcf7a234b8a15e6bb05c15ac',\n",
              "  '0b2e702f90aee4fff2bc6e4326308d50cf04701082e718d4f831c8959fbcda93',\n",
              "  '3441821ebea04face181c9e2f4d0d09727c764827ac51b9e7fbadbebabeab225',\n",
              "  '1e61ecf354cb93a62a9561db87a53985fb54e001444f98112ed0fc623fad793e',\n",
              "  '4cbd6c37f3a55a538d759d440344c287cac66260d3047a83f429e63e7a0f7f20',\n",
              "  'd3ce382f190ee24729bd2e80684c11bef72bc9c733cdbbc19a17d2c1b2e775f7',\n",
              "  'e50ac10d1dce6496d092d966784ed3795969128ca0bc58199a36d558ed529203',\n",
              "  '2246874c8b5ba218d01ad8153a201ad4660195f3e4c65da6b9d4ccaf82cb7edf',\n",
              "  'f9ea1a1159c33f39bbe5f18bb278d961188b40508277eab7c0b4b91219b37b5d',\n",
              "  'f952cc65376009cfad8249e53b9b2c0daaa3553e897096337d143c625c2df886',\n",
              "  '5afcbfd0dd64392aa1e233b996d0bfb4354ee7119f30ae111c33d0fe4df11590',\n",
              "  'df53d0b6c2c4e45d759b2c474011e2b2b32552cd100ca4b22388ab9ca1750ee2',\n",
              "  'f35ab34528e3e2d2589d24cbffc0e10024dfc474a68585d0b5feb7b05aa0067f',\n",
              "  'bf7691b0a79811fa068b7408cbce636a73f01ef9e971a95da1a2d96df73782b6',\n",
              "  'c44ed955eb2e5c8d820b01477e122b32eff6dd475343e11229c33d8af3473b22',\n",
              "  '3852c7e45bd885b9537e276861ab50b99bb42f0f8e717d2f88174c62862ca3ff',\n",
              "  '06350c7cc618be442c15706db7a68e91f313758d224de4608f9b960106d4f9ca',\n",
              "  'bb481eae02085bbae08742f702b9ab7d8b2ff9df2fbefeee9fac51f7c77dd01f',\n",
              "  '9facc652efe19f634639585d692a53dd6c2a8e2f0c9baebdfd85b9b41ec58851',\n",
              "  'b2c23ddb04531158da6a0abcaca78fec0ae5c6f64f60166e4f36f4a161efd76f',\n",
              "  '1b44d22643830cd4f23c9deadb0bd499fb392fb2cd9526d81547d93077d983df',\n",
              "  'd2ce593bddf9998ce3b76328c0151d0ba4b644c293aca7f6254e521c448b305f',\n",
              "  'bbce7ebc40323a0eff6574d0c3842f50f907f55fbfb46c777f0ed9a49e98ff9b',\n",
              "  'd910b2b1be8406caecfe31a503d412ffc4e3d488286242ebc7381836121dd4ef',\n",
              "  '7f38885521586fc6011bef1314a9fb2aa1e4935bd581b2991e1d963395eab770',\n",
              "  'e66a97b2c77f3d66a7d3cebbc6a36c8c6259368a397f7b67647ed80ad53aa776',\n",
              "  '589f86dee5b480a88dd4f77eeaffe2c4d70aefdf879a4096dde1fa4d41055b8f',\n",
              "  'e81c758e1ca177b0942ecad62cf8d321ffc315376135bcbed3df932a6e5b40c0',\n",
              "  '9cbc0700317361236a9fca2eb1f8f79e3a7da17b1970c179cf453921a6136001',\n",
              "  '6f8197baf738986a1ec3b6ba92b567863d897a739376b7cec5599ad6cecafdfc',\n",
              "  '84e642d75ae6ece8147272418b6fe13d04db8d076fe306c4acedc329fceab564',\n",
              "  'd7d12a2acc47a94961aeb56fd56e8a0873016af75f5dd10915de9db8af8e4f5e',\n",
              "  'e66f25e175abab08ecb4e5f6859db64a211e0ddffb262d7e727b9d9bd4aad2d2',\n",
              "  '449a9c32e53a37c8a86e01c199155c8da3958b631088e10f6fe43c2119defe51',\n",
              "  '2dd3356f2dcf470aec4003800744dfec6490e75d88011e1d835f4f3d60f88e7a',\n",
              "  '6c85029f850d392791e13f74963391054ff54e508967bbd091ee510e9e58e011',\n",
              "  '175dbb364bfefc9537931144861c9b6e08934df3992782c669c6fe4234319dfc',\n",
              "  '53ad09e4348767bece0165884bf40c10b72ae18444e3f414a850442f02385efc',\n",
              "  '815524d88283ba10ad597b87aa1967671db776df8004a0c4291b67fc2624c22a',\n",
              "  '6fb82031f7fc5f4fa6e0bc2ef3421db19036b5c2cdd2725009ab465d66d61d72',\n",
              "  '24a20f2a529cede5695df2422a3986505b5826bb10b10781d6db2074cf3de7b3',\n",
              "  '6b72b61b80060a9e79a4747f9c5d5af135af9db466681c2d1086f784c7130699',\n",
              "  'b61d3fb0d0ebbee018346e0adeff9e9178f33aa95262779b3c196f93b4ace895',\n",
              "  '2dec81a678ddcac2b110acffe82427d857695180bd841e3f9736a554acf832af',\n",
              "  '4d4ebfcae4374165ea6ae7c7e18fd0ba5014c3c860ee2489c59e25ddd45e7a32',\n",
              "  '4b274461c6d001a7a9aeaf5952b40ac4934d1be96b9c176edfd628a8f77e6df2',\n",
              "  '4ff152d76db095f75c664dd48e41e8c9953fd0e784535883916383165e28a08e',\n",
              "  'a90cad45551d62c5cfa89517df8eb5e8f2f87f1a6e6678e606907afcbad91731',\n",
              "  '420f43d21dbaba42bf8c0995b3a2c85537876d594433770c6c6f3d6b779ec15f',\n",
              "  '40bcdad218ac5f0885fc247d88fcad9f729f55c81c79d241a8f1559b6d8c0574',\n",
              "  '947c0d94c8213ac7aaa41c4efc95d854246550298259cf1bb489654d0e969050',\n",
              "  'bb8ebf465c968a5f6f715de5d9e2e664afd1bcaa533e0e3352ecea1cc5b6fb0d',\n",
              "  'f487cc82271cf84b4414552aa8b0a9d82d902451ebe8e8bc639d4121c1672ff7',\n",
              "  '6bd18a218d25247dc456aed124c066a6397fb93086e860e4d04014bfa9c9555d',\n",
              "  '45c3bdef1819ba7029990e159f61543ed25781d13fb4dc5d4de52e803debd7d3',\n",
              "  'd4d6c683f249d82518431603bf0206d05f2114ac871a99ffade0f5f61cf167e1',\n",
              "  'a1777737270c5f96c4523dff76e4097756f8f7d4c9d59bac079e31f9510deabd',\n",
              "  'c00ae67f72816daee468474026e30705003b2d3501f123579a4f0a6366b66aa1',\n",
              "  '19f0653c33982a416feed56e5d1ce6849fd83314fd19dfa1c5b23c6b66e9868a',\n",
              "  'f01a9742c43a69f087700a43893f713878e537bae8e44f76b957f09519601ad6',\n",
              "  '8d05fb18ee0cda107d56735cafa6197a31884e0a5092dc6d41760fb92ae23ab4',\n",
              "  '15039b3acccc4257a1a442646a89b6e596b5eb4531637e6d8fa1c43203722c99',\n",
              "  '2bf594e9d06f78b4b79d7ffb395497a0a91126b6b0d710d7a9cee21f5c3bd177',\n",
              "  'ef6634efb46567d87b811be786b18c4cd0e2cda23d79b65d6afe0d259ef3ade6',\n",
              "  '309ba76b12ecb5ce28b99f3445b2b5dc54c0564c3c0e24c17e4c89a94a5d0535',\n",
              "  'c2a646a819f59a4e816e0ee8ea00ba10d5de9ac20b5a435c41192637790dabee',\n",
              "  'a7a581e6760df4701941670e73d72533e3b0fbd7563488ad92772b41f7709710',\n",
              "  '98a463483fe3a56deacc8bc00ab8aa62668bd40ad0c70bbe7deb10d3e4aeb0c0',\n",
              "  'a246bcaa64af48ee5ca181cd594c0fc43466e7614406eb8bc01199a16ebc95d0',\n",
              "  '7d40ea6ead1bec903f26d9046d291aedcb12a584b4d3b337ea252b34c7d86072',\n",
              "  '40b00d701695d8ea5d59f95ac39e18004040c96d17fbc1a539317c674eca084b',\n",
              "  '9bf9f3dcadeb152a9a26b23e2fb199dcf9b2b17660b1646326f5b10cbf51eaee',\n",
              "  'ecb36c90cdd20245d89173c106f3c6a2d124d07bdea0ae202fb1efa49b0cd169',\n",
              "  '45cc00f2ef95da6698bf590663e319d7c0ed4fb99d42dd3cf4060887da74fb81',\n",
              "  '02903040e19ddf92f452907644ad3822918f54af41dd85e5a3fe3e1b6d6f9339',\n",
              "  '8de0b1a2e8f614af29fe5fafeaa5bdf55e6b3e65edf36355f19b707f7649ce2b',\n",
              "  '91cc2e0d4d6e2c1ad59a8d63bcbe3e2ea8bc7f8e642e942a0113450181e73379',\n",
              "  '93cfd412c7de5210bbd262ec3a602cfea65072e9272e9fce9b5339a5b9436eb7',\n",
              "  '8f6597cd978c060378177df76e554d0578b97eab471e237dbe0adc0dd0d93d63',\n",
              "  '8f27ebc74164eddfe989a98a754dcf5a9c85ef599a1321de24bcf097df1814ca',\n",
              "  '8ecdb93582b2d5270457b36651b62776256ade3aaa2d7432ae65c14f07432d49',\n",
              "  'bff985591dd5d6303018a6e9a3dcfb336771a414ad4605c24ce1c1155fc86a96',\n",
              "  '8f6e49e474ebb649a1e99662243d51a46cc9ba0c9c8f1efe2e2b662a81b48de1',\n",
              "  'f113626a04125d97b27f21b45a0ce9a686d73dee7b5dbc0725d49194ba0203bd',\n",
              "  '3b75fc03a1d12b29bd2870eb1f6fdb44174dbd1118dfc11c31f127bd87bd27ef',\n",
              "  'f26f4c2c70c38fe12e00d5a814d5116691f2ca548908126923fd76ddd665ed24',\n",
              "  '5b12df18e4ae4df5af06052584cf0e6bef58ee2a220653890636eef88a944e14',\n",
              "  '64eeef16fdc4e26523d27bfa71a1d38d2cb2e4fa116c0d0ea56b1322f806f0b9',\n",
              "  '2dd9d8c797fc695665326fc8fd0eb5cd292139fa478ccb5acb7fb352f7030063',\n",
              "  'fec226e45f49ab81ab71e0eaa1248ba09b56a328338dce93a43f4044eababed5',\n",
              "  'cab4875269f44a701c5e58190a1d2f6fcb577ea79d842522dcab20ccb39b7ad2',\n",
              "  'ebc18868864ad075548cc1784f4f9a237bb98335f9645ee727dac8332a3e3716',\n",
              "  '8d29c5a03e0560c8f9338e8eb7bccf47930149c8173f9ba4b9279fb87d86cf6d',\n",
              "  '07761fa39f60dc37022dbbe8d8694595fd5b77ceb2af2a2724768c8e524d6770',\n",
              "  '74a7785530687a11ecd073e772f90912d9967d02407a192bfab282c35f55ab94',\n",
              "  'a7f6194ddbeaefb1da571226a97785d09ccafc5893ce3c77078d2040bccfcb77',\n",
              "  '16c3d5935ba94b720becc24b7a05741c26149e221e3401924080f41e2f891368',\n",
              "  'a1f50f101bc471e2d6967ebdb8ba81150588609e769f3b960f0801e4da5fdc6f',\n",
              "  '6fc83b33896f58a4a067d8fdcf51f15d4ae9be05d8c3815d23336f1f2a8c45a1',\n",
              "  '2349e95ece2857c89db7e4a8be8c88af0b45f3c4262608120cb3bd6ef51fd241',\n",
              "  '1c8b905c9519061d6d091e702b45274f4485c80dcf7fb1491e6b2723f5002180',\n",
              "  'cdab367b30db47061df837c1ae9fa875d6057614f797332d37d3513517d6c694',\n",
              "  'df5cdd0ebe1bdf8dc870bc294b8f08961e083bc7f9be69e268454aa9091808b9',\n",
              "  '7b5987a24dd57325e82812371b3f4df7edc528e0526754ba94cf3a1ea4df25d2',\n",
              "  'b76ff33ae9da28f9cd8bdce465d45f1eca399db3ffa83847535708e0d511fe38',\n",
              "  '866a8cba7bfe1ea73e383d6cf492e53752579140c8b833bb56839a55bf79d855',\n",
              "  'a7f767ca9770b160f234780e172aeb35a50830ba10dc49c526f4712451abe1d2',\n",
              "  'da31f2aa8601afec5c45180a2c448cb9c4a8ec7b35e75190d6ba3588f69058c8',\n",
              "  'd35f25c8e3f7fca5232fc4d5e3faf14b025b20b3731af77fe971a5e2e9d69d28',\n",
              "  'ce9e1a58b58940039ae841466198b72ea21cc90584039a9294b47f5aef17ddfa',\n",
              "  'c322c72b9d411e631580fee9312885088b4bb14ed297aa4b246ec943533b3ffb',\n",
              "  '84eeec681987753029eb83ea5f3ff7e8b5697783cdb2035f2882d40c9a3f1029',\n",
              "  '1815cf307859b3e13669041d181aa3b3dbbac1a95aef4c42164b223110c09168',\n",
              "  'bf4a61bb81589c9a67e3343408befd3e135af5e88b50c17f998f2131d24bc271',\n",
              "  '7b38c9173ebe69b4c6ba7e703c0c27f39305d9b2910f46405993d2ea7a963b80',\n",
              "  'f43169e3d8b4f71e687945b9e72cbfdfe2e40e68842568e6a30c60d64c1378b6',\n",
              "  'c0c4a829c8d33d16a02f5dc0411597329f4b4d726ed6a22b5530cf6c8e106c4e',\n",
              "  '7773ac91af61ed041701b7c3b649598e3707cf04c0577f464fd31be687f538fe',\n",
              "  '81e2dd950e6df28a4fe202a40afa98b202981f65a5ca05b389749290eb87c883',\n",
              "  '5488e8df5440ee5161fdfae3aeccd2ee396636430065c90e3f1f73870a975991',\n",
              "  '30311520606ec99b6a810ae1a9a753df991777d374212423bb075c408a98ed74',\n",
              "  '3bfd6bb152310f93daa6f4e1867c10572946e874b3a30c9ba8e0fcdeb590300b',\n",
              "  'be26966900aa0e5b41d5a8ecafe04281b37deb05c5cd027968d7b74143398174',\n",
              "  '0287e7ee5b007c91ae2bd7628d09735e70496bc6127ecb7f3dd043e04ce37426',\n",
              "  'ed4b8e0d756836be7acb2e2b7799c473b52424e3092a71d3c6d23558e500dc4c',\n",
              "  'a022908f1b7880838dbc0411e50828e64b4f5e0263afdf04295e30bb2ff58005',\n",
              "  'b98681c74842c4058bd2f88b06063731c26a90da083b1ef348e0ec734c58752b',\n",
              "  '5afb7932e9c7328f4fb1d7a8166a3699d6cdc5192b93758a75e9956f1513c5a3',\n",
              "  '1f9e429c12f4477221b5b855a5f494fda2ef6d064ff75b061ffaf093e91758c5',\n",
              "  'b560dba92fbf2af785739efced50d5866c86dc4dada9be3832138bef4c3524d2',\n",
              "  '9586e48a9a4353f11898a6a4b7475a91574e8af82e99c4b7a5e1f1b18f345f7a',\n",
              "  '516a0e20327d6dfcedcf57e3056115e4fb29cdf4cb349003bdfc75c9b7f5c2cf',\n",
              "  'a22b7882fa85b9f0fcef659a7b82bfcddf01710f9a7617a9e036e84ac6901841',\n",
              "  '1a11552569160f0b1ea10bedbd628ce6c14f29edec5092034c2309c556df833e',\n",
              "  'fa751ff3a6332c95cb5cb1d28563553914295e9e7d35c4b6bd267241e8a0787c',\n",
              "  '6d327ab4f0e3604fa6e9b8041c7e6db86ab809890d886c691f6e59c9168b7fbe',\n",
              "  '0280fa8f60f6bcae0f97d93c28f60be194f9309ff610dc5845e60455b0f87c21',\n",
              "  'fc22db33a2495f58f118bc182c0087e140df14ccb8dad51373e1a54381f683de',\n",
              "  '4e1c889de3764694d0dea41e5682fedb265eaf2cdbe72ff6c1f518747d709464',\n",
              "  '8175a55b711c948fe383bd3b91b6ca1b9e048a5241e0be13aff31ce2674fbe6d',\n",
              "  'd1dbc6ee7c44a7027e935d040e496793186b884a1028d0e26284a206c6f5aff0',\n",
              "  'e4ae1ceddb279bac30273ca7ac480025ce2e7287328f5272234b5bbca6d13135',\n",
              "  'f0c9f135c62572f3669a75b2c735e4477dc77fac85e653426ee2b3bcfbed7aaf',\n",
              "  'f81ca7ee25e733ff37240c34c8e3044d9937bb0166e315952ebde3f237ecb86f',\n",
              "  '5c235b945b25b9905b9b0429ce59f1db51d0d0c7d48c2c21ab9f3ca54b0715e6',\n",
              "  '7f4d7b549d0f1a110191e2aded872943d85892bc30667f19fe9de97a5370b08e',\n",
              "  '718751b439c05bdd589f04fcef321a86be3ecb35292a435138e295e05eb2e771',\n",
              "  '608ff81c8a0c8b622f6648a9c7f935d85f0c503f515ef2ac3728387be1953ee8',\n",
              "  '0121d6759c5adb290c8e828fc882f37dfaf3663ec885c663859948c154a443ed',\n",
              "  'a08166d91d2cca263d2dd52764dc25c9c582b7a5ece2b802749fa4be33187c49',\n",
              "  'd32ea6d318626ca14a967d0c1ad3218aebfe636624a8d1173f5150dde8ff38cf',\n",
              "  '0bf33d3db4282d918ec3da7112d0bf0427d4eafe74b3ee0bb419770eefe8d7d6',\n",
              "  '9cdac2870cfe65b6cb61bd151020068a3b427118a27343767b07ea39483fee32',\n",
              "  '03398329ced0c23b9ac3fac84dd53a87d9ffe4d9d10f1b5fe8df8fac12380776',\n",
              "  'a3a65623e079af7988b0c1cf1e54041003c6d730c91ecf200b71c47b93a67ed6',\n",
              "  '8b77284d6f37ab3fc826139ebadaec3b9d81c552fe525c3547bbbd6c65ac0d83',\n",
              "  '0ddd8deaf1696db68b00c600601c6a74a0502caaf274222c8367bdc31458ae7e',\n",
              "  '1bd0f2b3000b7c7723f25335fabfcdddcdf4595dd7de1b142d52bb7a186885f0',\n",
              "  '2a2032c4ed78f3fc64de7e5efd0bec26a81680b07404eaa54a1744b7ab3f8365',\n",
              "  '33d0a9b24c25852ce35274b4b1777484ccd21f44dbe35491cc926e5948c1ce3e',\n",
              "  '139946af9e2c7ef4f0298e622b831dbef5e5c0cd088eb5bc3382f8df9355443d',\n",
              "  '7798ca1ddb3133563e290c36228bc8f8f3c9f224e096f442ef0653856662d121',\n",
              "  '5f9d29d6388c700f35a3c29fa1b1ce0c1cba6667d05fdb70bd1e89004dcf71ed',\n",
              "  '953211bcc0192e2298087d30e708dba68def9e0c13a3ff3326a18b0962c63adc',\n",
              "  '4bf6a5ec42032bb8dbbb10d25fdc5211b2fe1ce44b6e577ef89dbda17697d819',\n",
              "  '9c95eae11da041189e84cda20bdfb75716a6594684de4b6ce12a9aaadbb874c9',\n",
              "  '9620c33d8ef2772dbc5bd152429f507bd7fafb27e12109003292b671e556b089',\n",
              "  'c75139ef0546d2240b37afb3219eb74a06b7977818697d5c3138796472483af3',\n",
              "  '1ec74a26e772966df764e063f1391109a60d803cff9d15680093641ed691bf72',\n",
              "  '3bf7873f11823f4b64422f49c8248dd95c0d01f9ae9075ae3d233bbb21a3d875',\n",
              "  '351771edfc5db5665ded8aa4940257276b6526663c76e3b60b92a52584d8943c',\n",
              "  '4ae4f936a9ade472764dad80f60f7168e4be067aa66ce9d06d60ebe34951dca4',\n",
              "  'dbbfe08a52688d0ac8de9161cbb17cb201e3991aacab8ab8a77fe0e203a69481',\n",
              "  '1ee4a111f0e0bb9b001121b94ff98ca736fad03797b25285fe33a47046b3e4b0',\n",
              "  'f4faa3a409014db1865074c5f66a0255f71ae3faba03265da0b3b91f68e8a8f0',\n",
              "  'cbff60361ded0570e5d50429a1aa51d81471819bc9b38359f03cfef76de0038c',\n",
              "  '610f32e2d9d270d740aec501dcf0c89595e4e623468ad43272adab90520a8f96',\n",
              "  '777f7c4269279951ae05b56e806745e613297d411d048c0bce8964afd7d71a4b',\n",
              "  '4e92129f4e8066d6f560d6022cd343a2245939aa49d8b06cddbd9bfc7e7eeb0e',\n",
              "  '094afe36759e7daffe12188ab5987581d405b06720f1d5acf3f2614f404df380',\n",
              "  '0e5edb072788c7b1da8829b02a49ba25668b09f7201cf2b70b111fc3b853d14f',\n",
              "  '0e21d7b3eea8cdbbed60d51d72f4f8c1974c5d76a8a3893a7d5835c85284132e',\n",
              "  '97126a9791f0c1176e4563ad679a301dac27c59011f579e808bbd6e9f4cd1034',\n",
              "  'f29fd9c52e04403cd2c7d43b6fe2479292e53b2f61969d25256d2d2aca7c6a81',\n",
              "  '9fb32aba1c2fd53273dca9abefac944ba747f578da82dfaa1249f332a2324944',\n",
              "  '30f65741053db713b3f328d31d3234b6fedbe31df65c1a8ea29be28146cab789',\n",
              "  '623cf6987b3fac8f384c09f40d98c5e739c097aa9a9627054542aa27f7d38db1',\n",
              "  '4e23ecf65040f86420e0201134e538951acdeda84fbb274311f995682044dd64',\n",
              "  'a0de55384fada5cbc46bd7a41f6feeef93b67d088497c7316079ccec39c2a834',\n",
              "  '3582166ee20755856adf4882a8bfacb616fce4247911605a109c4862de421bcd',\n",
              "  'df9a4212ecb67bb4e58eba62f293b91f9d6f1dde73e38fa891c75661d419fc97',\n",
              "  '21408476af0506331e8b5d49b385833e5ef1fbb90815fbf9af9d19b4bb145f76',\n",
              "  '55ff2b0ec48b76e10c7ee18add5794005cd551697f96af865c763d50da78dd9c',\n",
              "  '8c3ef7aa7ed29b62a65b1c394d2b4a24aa3da25aebfdf3d29dbfc8ad1b08e95a',\n",
              "  'd2815f2f616d92be35c7e8dcfe592deec88516aef9ffc9b21257f52b7d6d0354',\n",
              "  'cb4df20a83b2f38b394c67f1d9d4aef29f9794d5345da3576318374ec3a11490',\n",
              "  'c620631271a56407d6d69fa1a69451ca99c50dcc30e29db04cf6fb7cacbde8cb',\n",
              "  '4185b9369fc8bdcc7e7c68f2129b9a7442237cd0f836a4b6d13ef64bf0ef572a',\n",
              "  'dad607a203483439fcbc2acecd0a39fb5e5a94a32a94348f5c802c79cfeb6e7c',\n",
              "  '0b0d577159f0d6c266f360f7b8dfde46e16fa665138bf577ec3c6f9c70c0cd1e',\n",
              "  '0402a81e75262469925ea893b6706183832e85324f7b1e08e634129f5d522cdd',\n",
              "  '538b7673d507014d83af238876e03617396b70fe27f525f8205a4a96900fbb8e',\n",
              "  'abc781c8721fe04b877a7e324494eb75aa5bce94950a0e4e4d7d6ffc9e74da62',\n",
              "  '2cfa61bef6542dd359717e9131ce6f076c415a3bd7f48cb093b0d7f3b2ca785d',\n",
              "  '70827e40a7155391984e56703c6df3392fb4a94bbd6c7008da6a6ca3244965d9',\n",
              "  '1a75de9e11303142864efed27e69ea1960dbd82ca910de221a777ed2caf35a6b',\n",
              "  '8bef203fce625e4d8c89dca728158be4662dfdfdcd4dc73a6aa39a908c1631bc',\n",
              "  'c15c652c08153fb781a5349123ab8f80bb2a8680a41eb8e89e547ae01b7a5441',\n",
              "  '20b20ab049372d184c705acebe7af026d3580f5fd5a72ed796e3622e1685af2f',\n",
              "  '75120baa6abcbfe750a4eb223b8c10ae6bc3bebdda7b00d9a78bc2472fa28625',\n",
              "  '2ad489c11ed8b77a9d8a2339ac64ffc38e79281c03a2507db4688fd3186c0fe5',\n",
              "  '72b18a405555ad491721e29454e5cd325055ce81a9e78524b56f2c058a4d2327',\n",
              "  '6af82abb29539000be4696884fc822d3cafcb2105906dc7582c92dccad8948c5',\n",
              "  '1b2bf5933b0fb82918d278983bee66e9532b53807c3638efd9af66d20a2bae88',\n",
              "  'd0f2a00d3155c243048bc48944aef93fb08e2258d1fa5f9ccadd9140082bc22f',\n",
              "  'b1a239838c7dbb34ffea851ad537899f24da62f4e3f3fd6d835ff7b922f27313',\n",
              "  '13f2bec0a24c70345372febb14c4352877b1b6c1b01896246048e83c345c0914',\n",
              "  '79fe419488ba98494e3baa35c6fef9662eda1efe325d0ab0ac002f5383245d96',\n",
              "  '03b9306f44e9b8951461623dcbd615550cdcf36ea93b203f2c8fa58ed1dffcbe',\n",
              "  '4a424e0cb845cf6fd4d9fe62875552c7b89a4e0276cf16ebf46babe4656a794e',\n",
              "  'f4b7c24baf69b8752c49d0eb5db4b7b5e1524945d48e54925bff401d5658045d',\n",
              "  '8cdbdda8b3a64c97409c0160bcfb06eb8e876cedc3691aa63ca16dbafae6f948',\n",
              "  '5cc036b65f7f2d5480e2be111a561f3713ac021683a9a9138dc49492a29ce856',\n",
              "  '40946065f7e4b6038599fbfd419f2a67e7635b6f89db3ed6c0d67c8801521af1',\n",
              "  'e5384c905e9879cb6e8ff5250fb03155bc1db035d8dde458eece9078b7de8ff1',\n",
              "  '7ba20aa731cc21af74a8d940254176cbad1bdc44f240b550341c6d9c27509daa',\n",
              "  'f73e37957c74f554be132986f38b6f1d75339f636dfe2b681a0cf3f88d2733af',\n",
              "  '1609b1b8480ee52652a644403b3f7d5511410a016750aa3b9a4c8ddb3e893e8e',\n",
              "  '0c2550a23b8a0f29a7575de8c61690d3c31bc897dd5ba66caec201d201a278c2',\n",
              "  'e216ec5063d3562b793e434c491051bd8867f6c2e571e41137c7c560cc0e6a03',\n",
              "  '3874755f6222e83006fdad4d664ec0d9697c13af4fbe24b2f9a059bb13075186',\n",
              "  '57b49733c5a3c268b013553635a826e6a1b10e699bbd19c3b842375fe0adf344',\n",
              "  'b3b1626f8ad156acb2963d1faa6a368f9378a266c3b90d9321087fdc5b3032b4',\n",
              "  '9e4f8ec60a0d622a02c0e16eedcc0101f88ddefbcec2383946c4572b57a1e43a',\n",
              "  '65c8527c16a016191118e8adc3d307fe3a73d37cbe05597a95aebd75daf8d051',\n",
              "  '2b50b1e3fa5c5aa39bc84ebfaea9961b7199c4d2488ae0b48d0b3459807d59d2',\n",
              "  '4dbbb275960ab9e4ec2c66c8d3000f7c70c8dce5112df591b95db84e25efa6e9',\n",
              "  '1b518cd2ea84a389c267662840f3d902d0129fab27696215db2488de6d4316c5',\n",
              "  '1e8408fbb1619e7a0bcdd0bcd21fae57e7cb1f297d4c79787a9d0f5695d77073',\n",
              "  '76a372bfd3fad3ea30cb163b560e52607a8281f5b042484c3a0fc6d0aa5a7450',\n",
              "  '700afb1cd830a808e3c6125749612e5d23fd9f9726049a9e0c2061997514e1a7',\n",
              "  '4d2cff9a0c8df3a7ef6100fda6f66e865a7670af6a18564767d8019b9ed2fd7b',\n",
              "  '62057502c387145ed4f8f7f0d5e5bedcb72d3bcec15fa71cb0310dee32871461',\n",
              "  '072ff14c1d3245bf49ad6f1d4c71cdb18f1cb78a8e06fd2f53767e28f727cb81',\n",
              "  '08ae2741df2f5ac815c0f272a8c532b5167ee853be9b939b9b8b7fa93560868a',\n",
              "  '8f94a80b95a881d0efdec36affc915dca9609f4cba8134c4a91b219d418778aa',\n",
              "  '3d0ca3498d97edebd28dbc7035eced40baa4af199af09cbb7251792accaa69fe',\n",
              "  '56d0da5b663ddd49955478c00ca03118c367ff7dd6a646b8c875b0acb207d1c5',\n",
              "  '319b6cb8b0d24b38db5e3c6fbb13b062e2766d9af5ff9bccb8f439ac0d870e52',\n",
              "  'ce37f6dd0615d45e66e41a8f2ed6fbc0bbe3103a290394ad474207507710eacc',\n",
              "  '1c681dfa5cf7e413305d2e90ee47553a46e29cce4f6ed034c8297e511714f867',\n",
              "  '670ebd9d674be236b9bf0b28650ad3f68e1891b06e16a9021fd069ca7ef32b78',\n",
              "  '9bb6e39d5f4415bc7554842ee5d1280403a602f2ba56122b87f453a62d37c06e',\n",
              "  '6c67b78e8164801059375ed9a607f61e67a7ae347e92e36a7f20514224541d56',\n",
              "  '0bda515e370294ed94efd36bd53782288acacb040c171df2ed97fd691fc9d8fe',\n",
              "  '2c83c86dd4e5dacc024b55629375567fb8e320a82ef86f541cfe54764040fc25',\n",
              "  'c043d5ac9dd466052e53491d0d513b0684f493d320b820f6dc2e05330ce58ec3',\n",
              "  'f8e74d4006dd68c1dbe68df7be905835e00d8ba4916f3b18884509a15fdc0b55',\n",
              "  '5bb8508ff8ec8683fc6a8aa6bd470f6feb3af4eccdca07f51a1ebc9dad67cfb8',\n",
              "  '20e209f6ffa120a72712e1b4c1d3e24d1339227e2936abd4bbd49a636fada423',\n",
              "  '8055957570d7b38f0acecdb56f3078a963a1a7307ca03fcca62212e0e95e5845',\n",
              "  '5419302571113e9aa74c7c0a9575333ca539b871a16c86ee92b35170b4ddc52e',\n",
              "  '61a15ccbfebb9d2fc54c068472a75d7babfb3f48fea008470e7db807585f9510',\n",
              "  '3bfa8b3b01fd24a28477f103063d17368a7398b27331e020f3a0ef59bf68c940',\n",
              "  '45f059cf21d85ecfce0eb93260516f1e2443d210e9a52f9ae2271d604aa3fcc5',\n",
              "  '86f9087eb1d0875ffb1a28cca7645b14d6c66f995c7d96aa13969d2f8115d533',\n",
              "  'b214800de5ed4cc558f44d569495970f93c8c047f8e464c51d4bd5c276118423',\n",
              "  '0532c64c2fd0c4d3188cc751cdfd566b1cfba3d269358717295bab1504c7c275',\n",
              "  'a3a1b8f9794ef589b71faa9f35fd97ad6761c4488718fbcf766e95e31afa8606',\n",
              "  'b909aa8f6f4bec37c3fb6ff5a85d166162d07983506fcc57be742b0f9dbafbf7',\n",
              "  'b67a6e5da8b1cfa5319d94a7d3f8b706725753346c37a4636bf7382e98b3c5df',\n",
              "  '05a8f65ebd0b30d3b210f30b4d640c847c2e710d0d135e0aeeaccbe1988e3b6e',\n",
              "  'c0f172831b8017c769ff0e80f85b096ac939e79de3d524e0826fbb95221365da',\n",
              "  'b8fdc02d915206bb2564e1f7da962f2b9d9d491b11afa00a76622b7932366480',\n",
              "  '9520aff4efe87bd8f3901652fa2dde9b4bc9c679325966145ce00c1ca33f35de',\n",
              "  '602f267432e7a573e1092f1cf48135c82d0fbc8722bc028b9330ec801a40bb18',\n",
              "  '00ae65c1c6631ae6f2be1a449902976e6eb8483bf6b0740d00530220832c6d3e',\n",
              "  'b0d6dfcc95e4d087d232378f860fc3ef9f95ea5a4c26d623a0be091f820a793f',\n",
              "  'c53326fe49fc26b7fe602b9d8c0c2da2cb157690b44c2b9351a93f8d9bd8043d',\n",
              "  '33a5b0ff232b425796ee6a9dd5b516ff9aad54ca723b4ec490bf5cd9b2e2a731',\n",
              "  '0d3640c1f1b80f24e94cc9a5f3e1d9e8db7bf6af7d4aba920265f46cadc25e37',\n",
              "  '648636ee314d7bdba3ab2fc0fe49a863de35c3e2caf619039f678df67b526868',\n",
              "  '245b995878370ef4ea977568b2b67f93d4ecaa9308761b9d3e148e0803780183',\n",
              "  '2817299fd3b88670e86a9db5651ba24333c299d1d41e5491aabfcd95aee84174',\n",
              "  '3b957237bc1e09740b58a414282393d3a91dde996b061e7061f4198fb03dab2e',\n",
              "  '3a3fee427e6ef7dfd0d82681e2bcee2d054f80287aea7dfa3fa4447666f929b9',\n",
              "  '2e172afb1f43b359f1f0208da9386aefe97c0c1afe202abfe6ec09cdca820990',\n",
              "  'a9d884ba0929dac87c2052ce5b15034163685317d7cff45c40b0f7bd9bd4d9e7',\n",
              "  '2255d5aba044256bb92f6b7cbed0fca46d972c7b6b1a59dcbe7f682c5777d074',\n",
              "  'e4fc936ba57a936aaa5941ccc70946ab18fcebcb6e8d85a097c584aff9ca4d88',\n",
              "  '958114e5f37d5e1420b410bd716753b3e874b175f2b6958ebf1ec2bdf776e41f',\n",
              "  '01d44a26f6680c42ba94c9bc6339228579a95d0e2695b149b7cc0c9592b21baf',\n",
              "  '619429303c1af7540916509fe7900cf483eba4391b06aac87ff7f66ca1ab6483',\n",
              "  '9a71a416f98971aa14f63ef91242654cc9191a1414ce8bbd38066fe94559aa4f',\n",
              "  'b4d902d42c93dea77b541456f8d905f35eeb24fc3a5b0b15b5678d78e0aabe0c',\n",
              "  'af576e8ec3a8d0b57eb6a311299e9e4fd2047970d3dd9d6f52e54ea6a91109da',\n",
              "  'a4c729efb5059893a8b62c7abeba171cb516836f8a20468f6b176dfe2f6f84d1',\n",
              "  'ed5be4b63e9506ad64660dd92a098ffcc0325195298c13c815a73773f1efc279'],\n",
              " ['4f949bd8d914bbfa06f40d6a0e2b5b75c38bf53dbcbafc48c97f105bee4f8fac',\n",
              "  '8b59819fbc92eefe45b1db95c0cc3a467ddcfc755684c7f2ba2f6ccb9ad740ab',\n",
              "  '0114f484a16c152baa2d82fdd43740880a762c93f436c8988ac461c5c9dbe7d5',\n",
              "  '9f17aea854db13015d19b34cb2022cfdeda44133323fcd6bb3545f7b9404d8ab',\n",
              "  'df40099c6306ca1f47fcc8a62e2fa39486d4e223177afdc51b2ad189691802d8',\n",
              "  '8922a6ac8fd0258ec27738ca101867169b20d90a60fc84f93df77acd5bf7c80b',\n",
              "  '0ed3555a4bd48046d3b63d8baf03a5aa97e523aa483aaa07459e7afa39fb96c6',\n",
              "  '9ab2d381f90b485a68b82bc07f94397a0373e3215ad20935a958738e55f3cfc2',\n",
              "  'd616d323a9eeb9da1b66f8d5df671d63c092c9919cb2c0b223e29c63257c944d',\n",
              "  '78a981bd27ba0c65a9169548665a17bda9f49050d0d3893a6567d1eb92cd003d',\n",
              "  '519dc0d672d1c295fc69b629af8721ccb1a1f136d1976685a68487e62547ffe0',\n",
              "  '505bc0a3928d8aef5ce441c5a611fdd32e1e8eccdc15cc3a52b88030acb50f81',\n",
              "  'd6eb7ce7723e2f6dc13b90b41a29ded27dbd815bad633fdf582447c686018896',\n",
              "  '52b267e20519174e3ce1e1994b5d677804b16bc670aa5f6ffb6344a0fdf63fde',\n",
              "  '336d3e4105766f8ad328a7ee9571e743f376f8cbcf6a969ca7e353fe3235c523',\n",
              "  '259b35151d4a7a5ffdd7ab7f171b142db8cfe40beeee67277fac6adca4d042c4',\n",
              "  '472b1c5ff988dadc209faea92499bc07f305208dbda29d16262b3d543ac91c71',\n",
              "  '38f5cfb55fc8b048e82a5c895b25fefae7a70c71ab9990c535d1030637bf6a1f',\n",
              "  '1747f62148a919c8feb6d607faeebdf504b5e2ad42b6b1710b1189c37ebcdb2c',\n",
              "  'eea70a7948d25a9a791dbcb39228af4ea4049fe5ebdee9c04884be8cca3da835',\n",
              "  '43a71aeb641faa18742cb826772a8566c6c947d7050f9ab15459de6cc2b3b6af',\n",
              "  '550450e4bff4036fd671decdc5d42fec23578198d6a2fd79179c4368b9d6da18',\n",
              "  '1879f4f4f05e2bada0ffeb46c128b8df7a79b14c84f38c3e216a69653495153b',\n",
              "  '44afae184c89e6ba55985b4d341acc1ae1e8b6ef96312064e0e6e630e022b078',\n",
              "  'fe9adb627a6f45747c5a8223b671774791ededf9364f6544be487c540107fa4f',\n",
              "  'a4816cc1fb76cb3c5e481186833fc0ae9cf426a1406a2607e974e65e9cddba4f',\n",
              "  'b83d1d77935b6cfd44105b54600ffc4b6bd82de57dec65571bcb117fa8398ba3',\n",
              "  '7f4cbe0b36b5d09466476a7d4e01f4f976c67872d549f4ff47b3e1e3a2b403af',\n",
              "  '0999dab07b11bc85fb8464fc36c947fbd8b5d6ec49817361cb780659ca805eac',\n",
              "  '191b2b2205f2f5cc9da04702c5d422bc249faf8bca1107af792da63cccfba829',\n",
              "  'bdc789019cee8ddfae20d5f769299993b4b330b2d38d1218646cf89e77fbbd4d',\n",
              "  'e17b7aedd251a016c01ef9158e6e4aa940d9f1b35942d86028dc1222192a9258',\n",
              "  '0e132f71c8b4875c3c2dd7a22997468a3e842b46aa9bd47cf7b0e8b7d63f0925',\n",
              "  '0f1f896d9ae5a04752d3239c690402c022db4d72c0d2c087d73380896f72c466',\n",
              "  '31f1fbe85b8899258ea5bcf5f93f7ac8238660c386aeab40649c715bd2e38a0a',\n",
              "  '1962d0c5faf3e85cda80e0578e0cb7aca50826d781620e5c1c4cc586bc69f81a',\n",
              "  '648c8ffa496e1716017906d0bf135debfc93386ae86aa3d4adbda9a505985fd9',\n",
              "  '17b9bf4356db24967c4677b8376ac38f826de73a88b93a8d73a8b452e399cdff',\n",
              "  'da6c593410340b19bb212b9f6d274f95b08c0fc8f2570cd66bc5ed42c560acab',\n",
              "  '5cee644e5ffbef1ba021c7f389b33bafd3b1841f04d3edd7922d5084c2c4e0c7',\n",
              "  'dab46d798d29aff2e99c23f47ed3064f5cafb1644629b015c95a2dd2ee593bb4',\n",
              "  '912a679e4b9b1d1a75170254fd675b8c24b664d80ad7ea7e460241a23535a406',\n",
              "  'ade080c6618cbbb0a25680cf847f312b5e19b22bfe1cafec0436987ebe5b1e7e',\n",
              "  'd8d4bf68a76e4e4c5f21de7ac613451f7115a04db686151e78b8ec0b6a22022b',\n",
              "  'f5effed21f671bbf4551ecebb7fe95f3be1cf09c16a60afe64d2f0b95be9d1eb',\n",
              "  'fac507fa4d1649e8b24c195d990f1fc3ca3633d917839e1751a9d412a14ab5e3',\n",
              "  '3c4c675825f7509877bc10497f498c9a2e3433bf922bd870914a2eb21a54fd26',\n",
              "  'ab298b962a63e4be9582513aaa84a5e270adba5fd2b16a50e59540524f63c3b8',\n",
              "  '4727d94c6a57ed484270fdd8bbc6e3d5f2f15d5476794a4e37a40f2309a091e2',\n",
              "  'a984e7fb886aa02e29d112766d3ce26a4f78eac540ce7bbdbd42af2761928f6d',\n",
              "  'f0d0ab13ff53adc3c4d57e95a5f83d80b06f2cbc0bf002b52cf7b496612e0ce4',\n",
              "  '51c70bb8a299943b27f8b354571272692d8f2705036a1a9562156c76da5f025b',\n",
              "  '0a849e0eb15faa8a6d7329c3dd66aabe9a294cccb52ed30a90c8ca99092ae732',\n",
              "  '699f2992cd71e2e28cf45f81347ff22e76b37541ce88087742884cd0e9aadc68',\n",
              "  '1cdbfee1951356e7b0a215073828695fe1ead5f8b1add119b6645d2fdc8d844e',\n",
              "  '697a05c6fe4a07c601d46da80885645ad574ea19b47ee795ccff216c9f1f1808',\n",
              "  '4be73d68f433869188fe5e7f09c7f681ed51003da6aa5d19ce368726d8e271ee',\n",
              "  '1ef68e93964c2d9230100c1347c328f6385a7bc027879dc3d4c055e6fe80cb3c',\n",
              "  '1d9eacb3161f1e2b45550389ecf7c535c7199c6b44b1c6a46303f7b965e508f1',\n",
              "  '7bdb668e6127b7eafc837a883f0648002bd063c736f55a4f673e787250a3fb04',\n",
              "  'ca20076870e8fb604e61802605a9ac45419c82dd3e23404c56c4869f9502a5ef',\n",
              "  'c8e79ff4ac55f4b772057de28e539727b7f4f2a3de73bf7a082a0ace86d609eb',\n",
              "  '295682d9eb5acb5c1976a460c085734bfaf38482b0a3f02591c2bfdcd4128549',\n",
              "  '432f367a4c5b5674de2e2977744d10289a064e5704b21af6607b4975be47c580',\n",
              "  '53df5150ee56253fe5bc91a9230d377bb21f1300f443ba45a758bcb01a15c0e4'])"
            ]
          },
          "metadata": {
            "tags": []
          },
          "execution_count": 38
        }
      ]
    },
    {
      "metadata": {
        "id": "U8rO-nCwe5lm",
        "colab_type": "text"
      },
      "cell_type": "markdown",
      "source": [
        "### II. Data Loading"
      ]
    },
    {
      "metadata": {
        "id": "IgPmWeZQe5ln",
        "colab_type": "text"
      },
      "cell_type": "markdown",
      "source": [
        "#### a) Image and Mask storage/visualization\n",
        "\n",
        "In this subsection, we will import all the images and associated masks. This will allow us to understand our data in terms of dimensionality and appearance."
      ]
    },
    {
      "metadata": {
        "id": "bayS4QMVe5ln",
        "colab_type": "code",
        "colab": {
          "autoexec": {
            "startup": false,
            "wait_interval": 0
          },
          "output_extras": [
            {
              "item_id": 1
            }
          ],
          "base_uri": "https://localhost:8080/",
          "height": 34
        },
        "outputId": "2d0808e4-9f25-411b-c1ad-e04f9dea41b8",
        "executionInfo": {
          "status": "ok",
          "timestamp": 1520193672331,
          "user_tz": 480,
          "elapsed": 264,
          "user": {
            "displayName": "Cristian Bartolomé",
            "photoUrl": "//lh5.googleusercontent.com/-Vh9VldPKiCs/AAAAAAAAAAI/AAAAAAAAAEs/_EFLAevi5gk/s50-c-k-no/photo.jpg",
            "userId": "110624641621226096756"
          }
        }
      },
      "cell_type": "code",
      "source": [
        "print(\"Size of the training set: \" + str(len(train_ids)))"
      ],
      "execution_count": 39,
      "outputs": [
        {
          "output_type": "stream",
          "text": [
            "Size of the training set: 670\n"
          ],
          "name": "stdout"
        }
      ]
    },
    {
      "metadata": {
        "id": "YWGrsD4Ee5lr",
        "colab_type": "code",
        "colab": {
          "autoexec": {
            "startup": false,
            "wait_interval": 0
          },
          "output_extras": [
            {
              "item_id": 1
            }
          ],
          "base_uri": "https://localhost:8080/",
          "height": 34
        },
        "outputId": "56a59929-4fca-4137-9cbe-37a5b91dd8b1",
        "executionInfo": {
          "status": "ok",
          "timestamp": 1520193672710,
          "user_tz": 480,
          "elapsed": 260,
          "user": {
            "displayName": "Cristian Bartolomé",
            "photoUrl": "//lh5.googleusercontent.com/-Vh9VldPKiCs/AAAAAAAAAAI/AAAAAAAAAEs/_EFLAevi5gk/s50-c-k-no/photo.jpg",
            "userId": "110624641621226096756"
          }
        }
      },
      "cell_type": "code",
      "source": [
        "print(\"Size of the test set: \" + str(len(test_ids)))"
      ],
      "execution_count": 40,
      "outputs": [
        {
          "output_type": "stream",
          "text": [
            "Size of the test set: 65\n"
          ],
          "name": "stdout"
        }
      ]
    },
    {
      "metadata": {
        "id": "1b5Glh3le5lu",
        "colab_type": "text"
      },
      "cell_type": "markdown",
      "source": [
        "Visualization of the training dataset + Dimensionality of the images:"
      ]
    },
    {
      "metadata": {
        "id": "p5jsYUxUe6jn",
        "colab_type": "code",
        "colab": {
          "autoexec": {
            "startup": false,
            "wait_interval": 0
          },
          "output_extras": [
            {
              "item_id": 16
            }
          ],
          "base_uri": "https://localhost:8080/",
          "height": 34
        },
        "outputId": "4394cfcc-f24d-44c7-d8c9-45bf3ac31ad0",
        "executionInfo": {
          "status": "ok",
          "timestamp": 1520193676897,
          "user_tz": 480,
          "elapsed": 4060,
          "user": {
            "displayName": "Cristian Bartolomé",
            "photoUrl": "//lh5.googleusercontent.com/-Vh9VldPKiCs/AAAAAAAAAAI/AAAAAAAAAEs/_EFLAevi5gk/s50-c-k-no/photo.jpg",
            "userId": "110624641621226096756"
          }
        }
      },
      "cell_type": "code",
      "source": [
        "imgs_train_original = [] #List with all np.arrays that store pixel information of all training images\n",
        "for n, id_ in tqdm(enumerate(train_ids), total=len(train_ids)):\n",
        "    path = TRAIN_PATH + id_\n",
        "    img = skimage.io.imread(path + '/images/' + id_ + '.png')[:,:,:] #Gets a np.array from an image\n",
        "    imgs_train_original.append(img)\n",
        "    #skimage.io.imshow(img[:,:,:IMG_CHANNELS])\n",
        "    #plt.show()\n",
        "    #print(img[:,:,:IMG_CHANNELS].shape)"
      ],
      "execution_count": 41,
      "outputs": [
        {
          "output_type": "stream",
          "text": [
            "100%|██████████| 670/670 [00:03<00:00, 179.16it/s]\n"
          ],
          "name": "stderr"
        }
      ]
    },
    {
      "metadata": {
        "id": "Nq1x_uDzeijK",
        "colab_type": "code",
        "colab": {
          "autoexec": {
            "startup": false,
            "wait_interval": 0
          },
          "output_extras": [
            {
              "item_id": 1
            },
            {
              "item_id": 2
            },
            {
              "item_id": 3
            }
          ],
          "base_uri": "https://localhost:8080/",
          "height": 472
        },
        "outputId": "b3ec0eac-051f-4a77-c814-f7842b39343b",
        "executionInfo": {
          "status": "ok",
          "timestamp": 1520193677809,
          "user_tz": 480,
          "elapsed": 855,
          "user": {
            "displayName": "Cristian Bartolomé",
            "photoUrl": "//lh5.googleusercontent.com/-Vh9VldPKiCs/AAAAAAAAAAI/AAAAAAAAAEs/_EFLAevi5gk/s50-c-k-no/photo.jpg",
            "userId": "110624641621226096756"
          }
        }
      },
      "cell_type": "code",
      "source": [
        "skimage.io.imshow(img[:,:,:IMG_CHANNELS])\n",
        "plt.show()\n",
        "print(img[:,:,:IMG_CHANNELS].shape)"
      ],
      "execution_count": 42,
      "outputs": [
        {
          "output_type": "stream",
          "text": [
            "/usr/local/lib/python3.6/dist-packages/skimage/io/_plugins/matplotlib_plugin.py:51: FutureWarning: Conversion of the second argument of issubdtype from `float` to `np.floating` is deprecated. In future, it will be treated as `np.float64 == np.dtype(float).type`.\n",
            "  out_of_range_float = (np.issubdtype(image.dtype, np.float) and\n"
          ],
          "name": "stderr"
        },
        {
          "output_type": "display_data",
          "data": {
            "image/png": "[encoded data removed]",
            "text/plain": [
              "<matplotlib.figure.Figure at 0x7f501653b550>"
            ]
          },
          "metadata": {
            "tags": []
          }
        },
        {
          "output_type": "stream",
          "text": [
            "(256, 320, 3)\n"
          ],
          "name": "stdout"
        }
      ]
    },
    {
      "metadata": {
        "id": "w_WmfbDre6js",
        "colab_type": "text"
      },
      "cell_type": "markdown",
      "source": [
        "**Observation**: Training images have different dimensions (#pixels!)"
      ]
    },
    {
      "metadata": {
        "id": "EBaW2J8be6ju",
        "colab_type": "code",
        "colab": {
          "autoexec": {
            "startup": false,
            "wait_interval": 0
          },
          "output_extras": [
            {
              "item_id": 1
            }
          ],
          "base_uri": "https://localhost:8080/",
          "height": 34
        },
        "outputId": "9cc80f5c-747f-4154-b682-eda9005e1296",
        "executionInfo": {
          "status": "ok",
          "timestamp": 1520193678110,
          "user_tz": 480,
          "elapsed": 262,
          "user": {
            "displayName": "Cristian Bartolomé",
            "photoUrl": "//lh5.googleusercontent.com/-Vh9VldPKiCs/AAAAAAAAAAI/AAAAAAAAAEs/_EFLAevi5gk/s50-c-k-no/photo.jpg",
            "userId": "110624641621226096756"
          }
        }
      },
      "cell_type": "code",
      "source": [
        "#Sanity Check\n",
        "print(len(imgs_train_original))\n",
        "#print(imgs_original[0])"
      ],
      "execution_count": 43,
      "outputs": [
        {
          "output_type": "stream",
          "text": [
            "670\n"
          ],
          "name": "stdout"
        }
      ]
    },
    {
      "metadata": {
        "id": "qYAjJhd4e6j0",
        "colab_type": "code",
        "colab": {
          "autoexec": {
            "startup": false,
            "wait_interval": 0
          },
          "output_extras": [
            {
              "item_id": 1
            }
          ],
          "base_uri": "https://localhost:8080/",
          "height": 34
        },
        "outputId": "18511070-1fef-46bd-9083-53ad0c541254",
        "executionInfo": {
          "status": "ok",
          "timestamp": 1520193678545,
          "user_tz": 480,
          "elapsed": 246,
          "user": {
            "displayName": "Cristian Bartolomé",
            "photoUrl": "//lh5.googleusercontent.com/-Vh9VldPKiCs/AAAAAAAAAAI/AAAAAAAAAEs/_EFLAevi5gk/s50-c-k-no/photo.jpg",
            "userId": "110624641621226096756"
          }
        }
      },
      "cell_type": "code",
      "source": [
        "imgs_train_original[4].shape"
      ],
      "execution_count": 44,
      "outputs": [
        {
          "output_type": "execute_result",
          "data": {
            "text/plain": [
              "(360, 360, 4)"
            ]
          },
          "metadata": {
            "tags": []
          },
          "execution_count": 44
        }
      ]
    },
    {
      "metadata": {
        "id": "MyYw6OaEe6j2",
        "colab_type": "text"
      },
      "cell_type": "markdown",
      "source": [
        "What is the fourth dimension? Let's dive deeper into the data:"
      ]
    },
    {
      "metadata": {
        "id": "mMsPuUGge6j3",
        "colab_type": "code",
        "colab": {
          "autoexec": {
            "startup": false,
            "wait_interval": 0
          },
          "output_extras": [
            {
              "item_id": 1
            }
          ],
          "base_uri": "https://localhost:8080/",
          "height": 34
        },
        "outputId": "bea9e955-56a9-4680-8959-0d97386d0bc0",
        "executionInfo": {
          "status": "ok",
          "timestamp": 1520193680443,
          "user_tz": 480,
          "elapsed": 273,
          "user": {
            "displayName": "Cristian Bartolomé",
            "photoUrl": "//lh5.googleusercontent.com/-Vh9VldPKiCs/AAAAAAAAAAI/AAAAAAAAAEs/_EFLAevi5gk/s50-c-k-no/photo.jpg",
            "userId": "110624641621226096756"
          }
        }
      },
      "cell_type": "code",
      "source": [
        "imgs_train_original[100][2][0]"
      ],
      "execution_count": 45,
      "outputs": [
        {
          "output_type": "execute_result",
          "data": {
            "text/plain": [
              "array([ 21,  21,  21, 255], dtype=uint8)"
            ]
          },
          "metadata": {
            "tags": []
          },
          "execution_count": 45
        }
      ]
    },
    {
      "metadata": {
        "id": "2o_dD9Ase6j8",
        "colab_type": "text"
      },
      "cell_type": "markdown",
      "source": [
        "**Observation**: The fourth data number associated to each pixel is 255, always! -->No worries"
      ]
    },
    {
      "metadata": {
        "id": "9k1aN_JEe6j9",
        "colab_type": "text"
      },
      "cell_type": "markdown",
      "source": [
        "Visualization of the test dataset + Dimensionality of the images:"
      ]
    },
    {
      "metadata": {
        "id": "J4ioSBpGe6j-",
        "colab_type": "code",
        "colab": {
          "autoexec": {
            "startup": false,
            "wait_interval": 0
          },
          "output_extras": [
            {
              "item_id": 1
            }
          ],
          "base_uri": "https://localhost:8080/",
          "height": 34
        },
        "outputId": "c96a1e41-2462-48c4-b7fc-219a98a05fe9",
        "executionInfo": {
          "status": "ok",
          "timestamp": 1520193682074,
          "user_tz": 480,
          "elapsed": 619,
          "user": {
            "displayName": "Cristian Bartolomé",
            "photoUrl": "//lh5.googleusercontent.com/-Vh9VldPKiCs/AAAAAAAAAAI/AAAAAAAAAEs/_EFLAevi5gk/s50-c-k-no/photo.jpg",
            "userId": "110624641621226096756"
          }
        }
      },
      "cell_type": "code",
      "source": [
        "imgs_test_original = [] #List with all np.arrays that store pixel information\n",
        "for n, id_ in tqdm(enumerate(test_ids), total=len(test_ids)):\n",
        "    path = TEST_PATH + id_\n",
        "    img = skimage.io.imread(path + '/images/' + id_ + '.png')[:,:,:] #Gets a np.array from an image\n",
        "    imgs_test_original.append(img)\n",
        "    #skimage.io.imshow(img[:,:,:IMG_CHANNELS])\n",
        "    #plt.show()\n",
        "    #print(img[:,:,:IMG_CHANNELS].shape)"
      ],
      "execution_count": 46,
      "outputs": [
        {
          "output_type": "stream",
          "text": [
            "100%|██████████| 65/65 [00:00<00:00, 151.75it/s]\n"
          ],
          "name": "stderr"
        }
      ]
    },
    {
      "metadata": {
        "id": "UM_SP6Tbe6kO",
        "colab_type": "code",
        "colab": {
          "autoexec": {
            "startup": false,
            "wait_interval": 0
          },
          "output_extras": [
            {
              "item_id": 1
            }
          ],
          "base_uri": "https://localhost:8080/",
          "height": 34
        },
        "outputId": "fff03aa9-f06c-4806-c16b-ade7c3817ce0",
        "executionInfo": {
          "status": "ok",
          "timestamp": 1520193682670,
          "user_tz": 480,
          "elapsed": 249,
          "user": {
            "displayName": "Cristian Bartolomé",
            "photoUrl": "//lh5.googleusercontent.com/-Vh9VldPKiCs/AAAAAAAAAAI/AAAAAAAAAEs/_EFLAevi5gk/s50-c-k-no/photo.jpg",
            "userId": "110624641621226096756"
          }
        }
      },
      "cell_type": "code",
      "source": [
        "#Sanity Check\n",
        "print(len(imgs_test_original))"
      ],
      "execution_count": 47,
      "outputs": [
        {
          "output_type": "stream",
          "text": [
            "65\n"
          ],
          "name": "stdout"
        }
      ]
    },
    {
      "metadata": {
        "id": "N6zsbeApe6kT",
        "colab_type": "text"
      },
      "cell_type": "markdown",
      "source": [
        "#### b) Downsampling of images\n",
        "\n",
        "We will downsample both the training and test images to keep things light and manageable, but we need to keep a record of the original sizes of the test images to upsample our predicted masks and create correct run-length encodings later on. We will use the function resize from skimage (see [doc](http://scikit-image.org/docs/dev/auto_examples/transform/plot_rescale.html))."
      ]
    },
    {
      "metadata": {
        "id": "cw8KYMpqe6kU",
        "colab_type": "code",
        "colab": {
          "autoexec": {
            "startup": false,
            "wait_interval": 0
          },
          "output_extras": [
            {
              "item_id": 1
            },
            {
              "item_id": 431
            },
            {
              "item_id": 432
            },
            {
              "item_id": 433
            }
          ],
          "base_uri": "https://localhost:8080/",
          "height": 85
        },
        "outputId": "10130827-9b82-4bcb-c05a-45abf6a53d3d",
        "executionInfo": {
          "status": "ok",
          "timestamp": 1520193847621,
          "user_tz": 480,
          "elapsed": 164646,
          "user": {
            "displayName": "Cristian Bartolomé",
            "photoUrl": "//lh5.googleusercontent.com/-Vh9VldPKiCs/AAAAAAAAAAI/AAAAAAAAAEs/_EFLAevi5gk/s50-c-k-no/photo.jpg",
            "userId": "110624641621226096756"
          }
        }
      },
      "cell_type": "code",
      "source": [
        "# Get and resize train images and masks(Initialize containers for storing downsampled images)\n",
        "\n",
        "X_train = np.zeros((len(train_ids), IMG_HEIGHT, IMG_WIDTH, IMG_CHANNELS), dtype=np.uint8) #dtype recommended for pixels\n",
        "Y_train = np.zeros((len(train_ids), IMG_HEIGHT, IMG_WIDTH, 1), dtype=np.bool) #dtype recommended for boolean matric\n",
        "\n",
        "#Note that the output of the NN in image segmentation (two classes) is a boolean matrix \n",
        "#with the dimensions of the image\n",
        "\n",
        "print('Getting and resizing train images and masks ... ')\n",
        "\n",
        "sys.stdout.flush() #forces it to \"flush\" the buffer\n",
        "\n",
        "#Tip: Use tqdm() on top of the iterator to have a progress bar\n",
        "#enumerate() returns a tuple (index, item) of the iterator. Define 2 looping variables if you use enumerate() \n",
        "\n",
        "for n, id_ in tqdm(enumerate(train_ids), total=len(train_ids)):\n",
        "    path = TRAIN_PATH + id_\n",
        "    img = skimage.io.imread(path + '/images/' + id_ + '.png')[:,:,:IMG_CHANNELS]\n",
        "    #Image resizing to lower resolution\n",
        "    img = skimage.transform.resize(img, (IMG_HEIGHT, IMG_WIDTH), mode='constant', preserve_range=True)\n",
        "    #X_train is a tensor of order 4: A \"cube\" of data <-> n matrices stacked together\n",
        "    X_train[n] = img\n",
        "    \n",
        "    mask = np.zeros((IMG_HEIGHT, IMG_WIDTH, 1), dtype=np.bool) #Initialize container of the mask\n",
        "    for mask_file in next(os.walk(path + '/masks/'))[2]:           #Use index 2 for getting name of files (.png)\n",
        "        mask_ = skimage.io.imread(path + '/masks/' + mask_file)\n",
        "        #print(mask_.shape) Remove the comment to see how that mask_ is an array of two dimensions! Not three!\n",
        "        #Insert a new axis\n",
        "        mask_ = np.expand_dims(skimage.transform.resize(mask_, (IMG_HEIGHT, IMG_WIDTH), mode='constant', \n",
        "                                      preserve_range=True), axis=-1) #preserve_range=True is important!\n",
        "        #axis = -1 adds an axis at the end of the tuple of dimensions of a np.array\n",
        "        mask = np.maximum(mask, mask_)\n",
        "        #mask gets updated at each loop and includes all the masks!\n",
        "    Y_train[n] = mask #Stores all the masks (true labels in a tensor of order 4: 1 tensor of order 3 per mask)\n",
        "\n",
        "print('\\n Training images succesfully downsampled!')"
      ],
      "execution_count": 48,
      "outputs": [
        {
          "output_type": "stream",
          "text": [
            "Getting and resizing train images and masks ... \n"
          ],
          "name": "stdout"
        },
        {
          "output_type": "stream",
          "text": [
            "100%|██████████| 670/670 [02:44<00:00,  4.08it/s]"
          ],
          "name": "stderr"
        },
        {
          "output_type": "stream",
          "text": [
            "\n",
            " Training images succesfully downsampled!\n"
          ],
          "name": "stdout"
        },
        {
          "output_type": "stream",
          "text": [
            "\n"
          ],
          "name": "stderr"
        }
      ]
    },
    {
      "metadata": {
        "id": "JSeJ5k5Me6ka",
        "colab_type": "text"
      },
      "cell_type": "markdown",
      "source": [
        "Useful documentation: [np.expand_dims()](https://www.tutorialspoint.com/numpy/numpy_expand_dims.htm), [skimage.transform.resize()](http://scikit-image.org/docs/dev/api/skimage.transform.html#skimage.transform.resize)"
      ]
    },
    {
      "metadata": {
        "id": "TNrn732se6kb",
        "colab_type": "code",
        "colab": {
          "autoexec": {
            "startup": false,
            "wait_interval": 0
          },
          "output_extras": [
            {
              "item_id": 1
            },
            {
              "item_id": 7
            },
            {
              "item_id": 8
            },
            {
              "item_id": 9
            }
          ],
          "base_uri": "https://localhost:8080/",
          "height": 85
        },
        "outputId": "ea2a12ae-a9dc-4c93-f100-b18ee4698f31",
        "executionInfo": {
          "status": "ok",
          "timestamp": 1520193849373,
          "user_tz": 480,
          "elapsed": 1647,
          "user": {
            "displayName": "Cristian Bartolomé",
            "photoUrl": "//lh5.googleusercontent.com/-Vh9VldPKiCs/AAAAAAAAAAI/AAAAAAAAAEs/_EFLAevi5gk/s50-c-k-no/photo.jpg",
            "userId": "110624641621226096756"
          }
        }
      },
      "cell_type": "code",
      "source": [
        "# Get and resize test images\n",
        "X_test = np.zeros((len(test_ids), IMG_HEIGHT, IMG_WIDTH, IMG_CHANNELS), dtype=np.uint8)\n",
        "sizes_test = []\n",
        "print('Getting and resizing test images ... ')\n",
        "sys.stdout.flush()\n",
        "for n, id_ in tqdm(enumerate(test_ids), total=len(test_ids)):\n",
        "    path = TEST_PATH + id_\n",
        "    img = skimage.io.imread(path + '/images/' + id_ + '.png')[:,:,:IMG_CHANNELS]\n",
        "    sizes_test.append([img.shape[0], img.shape[1]])\n",
        "    img = skimage.transform.resize(img, (IMG_HEIGHT, IMG_WIDTH), mode='constant', preserve_range=True)\n",
        "    X_test[n] = img\n",
        "    \n",
        "print('\\n Test images successfully downsampled!')"
      ],
      "execution_count": 49,
      "outputs": [
        {
          "output_type": "stream",
          "text": [
            "Getting and resizing test images ... \n"
          ],
          "name": "stdout"
        },
        {
          "output_type": "stream",
          "text": [
            "100%|██████████| 65/65 [00:01<00:00, 48.85it/s]"
          ],
          "name": "stderr"
        },
        {
          "output_type": "stream",
          "text": [
            "\n",
            " Test images successfully downsampled!\n"
          ],
          "name": "stdout"
        },
        {
          "output_type": "stream",
          "text": [
            "\n"
          ],
          "name": "stderr"
        }
      ]
    },
    {
      "metadata": {
        "id": "HXFY7FcSe6kf",
        "colab_type": "text"
      },
      "cell_type": "markdown",
      "source": [
        "Let's see if things look all right by drawing some random images and their associated masks."
      ]
    },
    {
      "metadata": {
        "id": "qa3s7OE0e6kf",
        "colab_type": "code",
        "colab": {
          "autoexec": {
            "startup": false,
            "wait_interval": 0
          },
          "output_extras": [
            {
              "item_id": 1
            },
            {
              "item_id": 2
            },
            {
              "item_id": 3
            }
          ],
          "base_uri": "https://localhost:8080/",
          "height": 839
        },
        "outputId": "96de5524-ff0b-4caf-e1a7-4314454b9f75",
        "executionInfo": {
          "status": "ok",
          "timestamp": 1520193850187,
          "user_tz": 480,
          "elapsed": 719,
          "user": {
            "displayName": "Cristian Bartolomé",
            "photoUrl": "//lh5.googleusercontent.com/-Vh9VldPKiCs/AAAAAAAAAAI/AAAAAAAAAEs/_EFLAevi5gk/s50-c-k-no/photo.jpg",
            "userId": "110624641621226096756"
          }
        }
      },
      "cell_type": "code",
      "source": [
        "# Check if training data looks all right (downsampled data)\n",
        "ix = random.randint(0, len(train_ids)) #Generate an indez randomly\n",
        "skimage.io.imshow(X_train[ix])\n",
        "plt.show() #Remember: need imshow in conjunction with plt.show() to see images!\n",
        "skimage.io.imshow(np.squeeze(Y_train[ix]))\n",
        "plt.show()"
      ],
      "execution_count": 50,
      "outputs": [
        {
          "output_type": "stream",
          "text": [
            "/usr/local/lib/python3.6/dist-packages/skimage/io/_plugins/matplotlib_plugin.py:51: FutureWarning: Conversion of the second argument of issubdtype from `float` to `np.floating` is deprecated. In future, it will be treated as `np.float64 == np.dtype(float).type`.\n",
            "  out_of_range_float = (np.issubdtype(image.dtype, np.float) and\n"
          ],
          "name": "stderr"
        },
        {
          "output_type": "display_data",
          "data": {
            "image/png": "[encoded data removed]",
            "text/plain": [
              "<matplotlib.figure.Figure at 0x7f5011948588>"
            ]
          },
          "metadata": {
            "tags": []
          }
        },
        {
          "output_type": "display_data",
          "data": {
            "image/png": "[encoded data removed]",
            "text/plain": [
              "<matplotlib.figure.Figure at 0x7f5011989ba8>"
            ]
          },
          "metadata": {
            "tags": []
          }
        }
      ]
    },
    {
      "metadata": {
        "id": "uWk-le4Ue6ki",
        "colab_type": "text"
      },
      "cell_type": "markdown",
      "source": [
        "### III. Definition of the evaluation metric for the competition"
      ]
    },
    {
      "metadata": {
        "id": "--LzZp4He6ki",
        "colab_type": "text"
      },
      "cell_type": "markdown",
      "source": [
        "In this section, we try to define the mean average precision at different intersection over union (IoU) thresholds metric in Keras. TensorFlow has a mean IoU metric, but it doesn't have any native support for the mean over multiple thresholds, so we need to implement this by ourselves. However, in a first stage, we used the [Dice Coefficient](https://stats.stackexchange.com/questions/195006/is-the-dice-coefficient-the-same-as-accuracy/253992). **Needs review**\n",
        "\n",
        "The Dice score is not only a measure of how many positives you find, but it also penalizes for the false positives that the method finds, similar to precision. So it is more similar to precision than accuracy. The only difference is the denominator, where you have the total number of positives instead of only the positives that the method finds. So the Dice score is also penalizing for the positives that your algorithm/method could not find."
      ]
    },
    {
      "metadata": {
        "id": "nZOqL7E7giRZ",
        "colab_type": "code",
        "colab": {
          "autoexec": {
            "startup": false,
            "wait_interval": 0
          },
          "output_extras": [
            {
              "item_id": 1
            }
          ],
          "base_uri": "https://localhost:8080/",
          "height": 54
        },
        "outputId": "3c6578a4-512a-4f5e-bd73-779c8552de9a",
        "executionInfo": {
          "status": "ok",
          "timestamp": 1520193850481,
          "user_tz": 480,
          "elapsed": 258,
          "user": {
            "displayName": "Cristian Bartolomé",
            "photoUrl": "//lh5.googleusercontent.com/-Vh9VldPKiCs/AAAAAAAAAAI/AAAAAAAAAEs/_EFLAevi5gk/s50-c-k-no/photo.jpg",
            "userId": "110624641621226096756"
          }
        }
      },
      "cell_type": "code",
      "source": [
        "'''smooth = 1e-5\n",
        "\n",
        "# Metric function\n",
        "def dice_coef(y_true, y_pred):\n",
        "    y_true_f = K.flatten(y_true)\n",
        "    y_pred_f = K.flatten(y_pred)\n",
        "    intersection = K.sum(y_true_f * y_pred_f)\n",
        "    return (2. * intersection + smooth) / (K.sum(y_true_f) + K.sum(y_pred_f) + smooth)\n",
        "\n",
        "# Loss funtion\n",
        "def dice_coef_loss(y_true, y_pred):\n",
        "    return -dice_coef(y_true, y_pred)\n",
        "'''"
      ],
      "execution_count": 51,
      "outputs": [
        {
          "output_type": "execute_result",
          "data": {
            "text/plain": [
              "'smooth = 1e-5\\n\\n# Metric function\\ndef dice_coef(y_true, y_pred):\\n    y_true_f = K.flatten(y_true)\\n    y_pred_f = K.flatten(y_pred)\\n    intersection = K.sum(y_true_f * y_pred_f)\\n    return (2. * intersection + smooth) / (K.sum(y_true_f) + K.sum(y_pred_f) + smooth)\\n\\n# Loss funtion\\ndef dice_coef_loss(y_true, y_pred):\\n    return -dice_coef(y_true, y_pred)\\n'"
            ]
          },
          "metadata": {
            "tags": []
          },
          "execution_count": 51
        }
      ]
    },
    {
      "metadata": {
        "id": "28OWEDlAmGnJ",
        "colab_type": "text"
      },
      "cell_type": "markdown",
      "source": [
        "Now, we are going to try to define a IoU metric"
      ]
    },
    {
      "metadata": {
        "id": "zvymDW_be6kk",
        "colab_type": "code",
        "colab": {
          "autoexec": {
            "startup": false,
            "wait_interval": 0
          }
        }
      },
      "cell_type": "code",
      "source": [
        "#Define IoU metric\n",
        "def mean_iou(y_true, y_pred):\n",
        "    prec = []\n",
        "    for t in np.arange(0.5, 1.0, 0.05):\n",
        "        y_pred_ = tf.to_int32(y_pred > t)\n",
        "        score, up_opt = tf.metrics.mean_iou(y_true, y_pred_, 2, y_true)\n",
        "        K.get_session().run(tf.local_variables_initializer())\n",
        "        with tf.control_dependencies([up_opt]):\n",
        "            score = tf.identity(score)\n",
        "        prec.append(score)\n",
        "    return K.mean(K.stack(prec), axis=0)"
      ],
      "execution_count": 0,
      "outputs": []
    },
    {
      "metadata": {
        "id": "bhi_DGtne6kl",
        "colab_type": "text"
      },
      "cell_type": "markdown",
      "source": [
        "### IV. Definition and training of the Neural Network (U-net)"
      ]
    },
    {
      "metadata": {
        "id": "c-4lIwf-e6km",
        "colab_type": "text"
      },
      "cell_type": "markdown",
      "source": [
        "Some observations on the functions used:\n",
        "\n",
        "-->```keras.layers.Input()```:\n",
        "\n",
        "A Keras tensor is a tensor object from the underlying backend (Theano, TensorFlow or CNTK), which we augment with certain attributes that allow us to build a Keras model just by knowing the inputs and outputs of the model. (see [doc](https://keras.io/layers/core/))\n",
        "\n",
        "-->```keras.layers.core.Lambda()```:\n",
        "\n",
        "Wraps arbitrary expression as a Layer object. (see [doc](https://keras.io/layers/core/))\n",
        "\n",
        "\n",
        "\n",
        "\n",
        "\n"
      ]
    },
    {
      "metadata": {
        "id": "gDIxGe-Ye6kn",
        "colab_type": "code",
        "colab": {
          "autoexec": {
            "startup": false,
            "wait_interval": 0
          },
          "output_extras": [
            {
              "item_id": 1
            }
          ],
          "base_uri": "https://localhost:8080/",
          "height": 1972
        },
        "outputId": "60dad03d-2ded-4b5e-fbae-79ce5a94b775",
        "executionInfo": {
          "status": "ok",
          "timestamp": 1520212969119,
          "user_tz": 480,
          "elapsed": 20260,
          "user": {
            "displayName": "Cristian Bartolomé",
            "photoUrl": "//lh5.googleusercontent.com/-Vh9VldPKiCs/AAAAAAAAAAI/AAAAAAAAAEs/_EFLAevi5gk/s50-c-k-no/photo.jpg",
            "userId": "110624641621226096756"
          }
        }
      },
      "cell_type": "code",
      "source": [
        "# Build U-Net model\n",
        "\n",
        "from keras.layers.merge import concatenate\n",
        "\n",
        "#### Input Layer\n",
        "\n",
        "inputs = keras.layers.Input((IMG_HEIGHT, IMG_WIDTH, IMG_CHANNELS)) # Input() is used to instantiate a Keras tensor\n",
        "\n",
        "s = keras.layers.core.Lambda(lambda x: x / 255) (inputs) #Normalize all pixels\n",
        "\n",
        "##### Block 1: 2 Conv + Dropout + Maxpool\n",
        "\n",
        "c1 = keras.layers.convolutional.Conv2D(16, (3, 3), \n",
        "                                       activation='elu', kernel_initializer='he_normal', padding='same')(s)  #params: num filters, kernel_size\n",
        "\n",
        "c1 = keras.layers.BatchNormalization()(c1)\n",
        "\n",
        "c1 = keras.layers.core.Dropout(0.3) (c1)\n",
        "\n",
        "c1 = keras.layers.convolutional.Conv2D(16, (3, 3), \n",
        "                                       activation='elu', kernel_initializer='he_normal', padding='same', \n",
        "                                       kernel_regularizer=keras.regularizers.l2(0.45)) (c1)\n",
        "\n",
        "c1 = keras.layers.BatchNormalization()(c1)\n",
        "\n",
        "p1 = keras.layers.pooling.MaxPooling2D((2, 2)) (c1)\n",
        "\n",
        "##### Block 2: 2 Conv + Dropout + Maxpool\n",
        "\n",
        "c2 = keras.layers.convolutional.Conv2D(32, (3, 3), \n",
        "                                       activation='elu', kernel_initializer='he_normal', padding='same',\n",
        "                                       kernel_regularizer=keras.regularizers.l2(0.45)) (p1)\n",
        "\n",
        "c2 = keras.layers.BatchNormalization()(c2)\n",
        "\n",
        "c2 = keras.layers.core.Dropout(0.3) (c2)\n",
        "\n",
        "c2 = keras.layers.convolutional.Conv2D(32, (3, 3),  \n",
        "                                       activation='elu', kernel_initializer='he_normal', padding='same',\n",
        "                                       kernel_regularizer=keras.regularizers.l2(0.45)) (c2)\n",
        "\n",
        "c2 = keras.layers.BatchNormalization()(c2)\n",
        "\n",
        "p2 = keras.layers.pooling.MaxPooling2D((2, 2)) (c2)\n",
        "\n",
        "##### Block 3: 2 Conv + Dropout + Maxpool\n",
        "\n",
        "c3 = keras.layers.convolutional.Conv2D(64, (3, 3),   \n",
        "                                       activation='elu', kernel_initializer='he_normal', padding='same',\n",
        "                                       kernel_regularizer=keras.regularizers.l2(0.45)) (p2)\n",
        "\n",
        "c3 = keras.layers.BatchNormalization()(c3)\n",
        "\n",
        "c3 = keras.layers.core.Dropout(0.3) (c3)\n",
        "\n",
        "c3 = keras.layers.convolutional.Conv2D(64, (3, 3),   \n",
        "                                       activation='elu', kernel_initializer='he_normal', padding='same',\n",
        "                                       kernel_regularizer=keras.regularizers.l2(0.45)) (c3)\n",
        "\n",
        "c3 = keras.layers.BatchNormalization()(c3)\n",
        "\n",
        "p3 = keras.layers.pooling.MaxPooling2D((2, 2)) (c3)\n",
        "\n",
        "##### Block 4: 2 Conv + Dropout + Maxpool\n",
        "\n",
        "c4 = keras.layers.convolutional.Conv2D(128, (3, 3),  \n",
        "                                       activation='elu', kernel_initializer='he_normal', padding='same',\n",
        "                                       kernel_regularizer=keras.regularizers.l2(0.45)) (p3)\n",
        "\n",
        "c4 = keras.layers.BatchNormalization()(c4)\n",
        "\n",
        "c4 = keras.layers.core.Dropout(0.4) (c4)\n",
        "\n",
        "c4 = keras.layers.convolutional.Conv2D(128, (3, 3),  \n",
        "                                       activation='elu', kernel_initializer='he_normal', padding='same',\n",
        "                                       kernel_regularizer=keras.regularizers.l2(0.45)) (c4)\n",
        "\n",
        "c4 = keras.layers.BatchNormalization()(c4)\n",
        "\n",
        "p4 = keras.layers.pooling.MaxPooling2D(pool_size=(2, 2)) (c4)\n",
        "\n",
        "##### Block 5: 2 Conv + Dropout + Maxpool\n",
        "\n",
        "c5 = keras.layers.convolutional.Conv2D(256, (3, 3),  \n",
        "                                       activation='elu', kernel_initializer='he_normal', padding='same',\n",
        "                                       kernel_regularizer=keras.regularizers.l2(0.45)) (p4)\n",
        "\n",
        "c5 = keras.layers.BatchNormalization()(c5)\n",
        "\n",
        "c5 = keras.layers.core.Dropout(0.4) (c5)\n",
        "\n",
        "c5 = keras.layers.convolutional.Conv2D(256, (3, 3),  \n",
        "                                       activation='elu', kernel_initializer='he_normal', padding='same',\n",
        "                                       kernel_regularizer=keras.regularizers.l2(0.45)) (c5)\n",
        "\n",
        "c5 = keras.layers.BatchNormalization()(c5)\n",
        "\n",
        "#### Block 6: Deconvolution + Concatenate + Convolution + Dropout + Convolution\n",
        "\n",
        "u6 = keras.layers.convolutional.Conv2DTranspose(128, (2, 2), strides=(2, 2), padding='same', \n",
        "                                                kernel_regularizer=keras.regularizers.l2(0.)) (c5)\n",
        "\n",
        "u6 = concatenate([u6, c4])\n",
        "\n",
        "c6 = keras.layers.convolutional.Conv2D(128, (3, 3),  \n",
        "                                       activation='elu', kernel_initializer='he_normal', padding='same',\n",
        "                                       kernel_regularizer=keras.regularizers.l2(0.)) (u6)\n",
        "\n",
        "c6 = keras.layers.core.Dropout(0.4) (c6)\n",
        "\n",
        "c6 = keras.layers.convolutional.Conv2D(128, (3, 3),  \n",
        "                                       activation='elu', kernel_initializer='he_normal', padding='same',\n",
        "                                       kernel_regularizer=keras.regularizers.l2(0.)) (c6)\n",
        "\n",
        "#### Block 7: Deconvolution + Concatenate + Convolution + Dropout + Convolution\n",
        "\n",
        "u7 = keras.layers.convolutional.Conv2DTranspose(64, (2, 2), strides=(2, 2), padding='same', \n",
        "                                               kernel_regularizer=keras.regularizers.l2(0.)) (c6)  \n",
        "u7 = concatenate([u7, c3])\n",
        "\n",
        "c7 = keras.layers.convolutional.Conv2D(64, (3, 3),   \n",
        "                                       activation='elu', kernel_initializer='he_normal', padding='same', \n",
        "                                       kernel_regularizer=keras.regularizers.l2(0.)) (u7)\n",
        "c7 = keras.layers.core.Dropout(0.4) (c7)\n",
        "c7 = keras.layers.convolutional.Conv2D(64, (3, 3),   \n",
        "                                       activation='elu', kernel_initializer='he_normal', padding='same', \n",
        "                                       kernel_regularizer=keras.regularizers.l2(0.)) (c7)\n",
        "\n",
        "#### Block 8: Deconvolution + Concatenate + Convolution + Dropout + Convolution\n",
        "\n",
        "u8 = keras.layers.convolutional.Conv2DTranspose(32, (2, 2), strides=(2, 2), padding='same', \n",
        "                                                kernel_regularizer=keras.regularizers.l2(0.)) (c7)\n",
        "\n",
        "u8 = concatenate([u8, c2])\n",
        "\n",
        "c8 = keras.layers.convolutional.Conv2D(32, (3, 3),   \n",
        "                                       activation='elu', kernel_initializer='he_normal', padding='same',\n",
        "                                       kernel_regularizer=keras.regularizers.l2(0.)) (u8)\n",
        "\n",
        "c8 = keras.layers.core.Dropout(0.3) (c8)\n",
        "\n",
        "c8 = keras.layers.convolutional.Conv2D(32, (3, 3),   \n",
        "                                       activation='elu', kernel_initializer='he_normal', padding='same',\n",
        "                                       kernel_regularizer=keras.regularizers.l2(0.)) (c8)\n",
        "\n",
        "#### Block 9: Deconvolution + Concatenate + Convolution + Dropout + Convolution\n",
        "\n",
        "u9 = keras.layers.convolutional.Conv2DTranspose(16, (2, 2), strides=(2, 2), padding='same', \n",
        "                                               kernel_regularizer=keras.regularizers.l2(0.)) (c8)\n",
        "\n",
        "u9 = concatenate([u9, c1], axis=3)\n",
        "\n",
        "c9 = keras.layers.convolutional.Conv2D(16, (3, 3),   \n",
        "                                       activation='elu', kernel_initializer='he_normal', padding='same', \n",
        "                                       kernel_regularizer=keras.regularizers.l2(0.)) (u9)\n",
        "\n",
        "c9 = keras.layers.core.Dropout(0.3) (c9)\n",
        "\n",
        "c9 = keras.layers.convolutional.Conv2D(16, (3, 3),   \n",
        "                                       activation='elu', kernel_initializer='he_normal', padding='same',\n",
        "                                       kernel_regularizer=keras.regularizers.l2(0.)) (c9)\n",
        "\n",
        "#### Output Layer: Logistic Unit\n",
        "\n",
        "outputs = keras.layers.convolutional.Conv2D(1, (1, 1), activation='sigmoid') (c9)\n",
        "\n",
        "model = keras.models.Model(inputs=[inputs], outputs=[outputs])\n",
        "model.compile(optimizer='adam', loss='binary_crossentropy', metrics=[mean_iou])\n",
        "model.summary()"
      ],
      "execution_count": 99,
      "outputs": [
        {
          "output_type": "stream",
          "text": [
            "__________________________________________________________________________________________________\n",
            "Layer (type)                    Output Shape         Param #     Connected to                     \n",
            "==================================================================================================\n",
            "input_5 (InputLayer)            (None, 256, 256, 3)  0                                            \n",
            "__________________________________________________________________________________________________\n",
            "lambda_5 (Lambda)               (None, 256, 256, 3)  0           input_5[0][0]                    \n",
            "__________________________________________________________________________________________________\n",
            "conv2d_77 (Conv2D)              (None, 256, 256, 16) 448         lambda_5[0][0]                   \n",
            "__________________________________________________________________________________________________\n",
            "batch_normalization_41 (BatchNo (None, 256, 256, 16) 64          conv2d_77[0][0]                  \n",
            "__________________________________________________________________________________________________\n",
            "dropout_37 (Dropout)            (None, 256, 256, 16) 0           batch_normalization_41[0][0]     \n",
            "__________________________________________________________________________________________________\n",
            "conv2d_78 (Conv2D)              (None, 256, 256, 16) 2320        dropout_37[0][0]                 \n",
            "__________________________________________________________________________________________________\n",
            "batch_normalization_42 (BatchNo (None, 256, 256, 16) 64          conv2d_78[0][0]                  \n",
            "__________________________________________________________________________________________________\n",
            "max_pooling2d_17 (MaxPooling2D) (None, 128, 128, 16) 0           batch_normalization_42[0][0]     \n",
            "__________________________________________________________________________________________________\n",
            "conv2d_79 (Conv2D)              (None, 128, 128, 32) 4640        max_pooling2d_17[0][0]           \n",
            "__________________________________________________________________________________________________\n",
            "batch_normalization_43 (BatchNo (None, 128, 128, 32) 128         conv2d_79[0][0]                  \n",
            "__________________________________________________________________________________________________\n",
            "dropout_38 (Dropout)            (None, 128, 128, 32) 0           batch_normalization_43[0][0]     \n",
            "__________________________________________________________________________________________________\n",
            "conv2d_80 (Conv2D)              (None, 128, 128, 32) 9248        dropout_38[0][0]                 \n",
            "__________________________________________________________________________________________________\n",
            "batch_normalization_44 (BatchNo (None, 128, 128, 32) 128         conv2d_80[0][0]                  \n",
            "__________________________________________________________________________________________________\n",
            "max_pooling2d_18 (MaxPooling2D) (None, 64, 64, 32)   0           batch_normalization_44[0][0]     \n",
            "__________________________________________________________________________________________________\n",
            "conv2d_81 (Conv2D)              (None, 64, 64, 64)   18496       max_pooling2d_18[0][0]           \n",
            "__________________________________________________________________________________________________\n",
            "batch_normalization_45 (BatchNo (None, 64, 64, 64)   256         conv2d_81[0][0]                  \n",
            "__________________________________________________________________________________________________\n",
            "dropout_39 (Dropout)            (None, 64, 64, 64)   0           batch_normalization_45[0][0]     \n",
            "__________________________________________________________________________________________________\n",
            "conv2d_82 (Conv2D)              (None, 64, 64, 64)   36928       dropout_39[0][0]                 \n",
            "__________________________________________________________________________________________________\n",
            "batch_normalization_46 (BatchNo (None, 64, 64, 64)   256         conv2d_82[0][0]                  \n",
            "__________________________________________________________________________________________________\n",
            "max_pooling2d_19 (MaxPooling2D) (None, 32, 32, 64)   0           batch_normalization_46[0][0]     \n",
            "__________________________________________________________________________________________________\n",
            "conv2d_83 (Conv2D)              (None, 32, 32, 128)  73856       max_pooling2d_19[0][0]           \n",
            "__________________________________________________________________________________________________\n",
            "batch_normalization_47 (BatchNo (None, 32, 32, 128)  512         conv2d_83[0][0]                  \n",
            "__________________________________________________________________________________________________\n",
            "dropout_40 (Dropout)            (None, 32, 32, 128)  0           batch_normalization_47[0][0]     \n",
            "__________________________________________________________________________________________________\n",
            "conv2d_84 (Conv2D)              (None, 32, 32, 128)  147584      dropout_40[0][0]                 \n",
            "__________________________________________________________________________________________________\n",
            "batch_normalization_48 (BatchNo (None, 32, 32, 128)  512         conv2d_84[0][0]                  \n",
            "__________________________________________________________________________________________________\n",
            "max_pooling2d_20 (MaxPooling2D) (None, 16, 16, 128)  0           batch_normalization_48[0][0]     \n",
            "__________________________________________________________________________________________________\n",
            "conv2d_85 (Conv2D)              (None, 16, 16, 256)  295168      max_pooling2d_20[0][0]           \n",
            "__________________________________________________________________________________________________\n",
            "batch_normalization_49 (BatchNo (None, 16, 16, 256)  1024        conv2d_85[0][0]                  \n",
            "__________________________________________________________________________________________________\n",
            "dropout_41 (Dropout)            (None, 16, 16, 256)  0           batch_normalization_49[0][0]     \n",
            "__________________________________________________________________________________________________\n",
            "conv2d_86 (Conv2D)              (None, 16, 16, 256)  590080      dropout_41[0][0]                 \n",
            "__________________________________________________________________________________________________\n",
            "batch_normalization_50 (BatchNo (None, 16, 16, 256)  1024        conv2d_86[0][0]                  \n",
            "__________________________________________________________________________________________________\n",
            "conv2d_transpose_17 (Conv2DTran (None, 32, 32, 128)  131200      batch_normalization_50[0][0]     \n",
            "__________________________________________________________________________________________________\n",
            "concatenate_17 (Concatenate)    (None, 32, 32, 256)  0           conv2d_transpose_17[0][0]        \n",
            "                                                                 batch_normalization_48[0][0]     \n",
            "__________________________________________________________________________________________________\n",
            "conv2d_87 (Conv2D)              (None, 32, 32, 128)  295040      concatenate_17[0][0]             \n",
            "__________________________________________________________________________________________________\n",
            "dropout_42 (Dropout)            (None, 32, 32, 128)  0           conv2d_87[0][0]                  \n",
            "__________________________________________________________________________________________________\n",
            "conv2d_88 (Conv2D)              (None, 32, 32, 128)  147584      dropout_42[0][0]                 \n",
            "__________________________________________________________________________________________________\n",
            "conv2d_transpose_18 (Conv2DTran (None, 64, 64, 64)   32832       conv2d_88[0][0]                  \n",
            "__________________________________________________________________________________________________\n",
            "concatenate_18 (Concatenate)    (None, 64, 64, 128)  0           conv2d_transpose_18[0][0]        \n",
            "                                                                 batch_normalization_46[0][0]     \n",
            "__________________________________________________________________________________________________\n",
            "conv2d_89 (Conv2D)              (None, 64, 64, 64)   73792       concatenate_18[0][0]             \n",
            "__________________________________________________________________________________________________\n",
            "dropout_43 (Dropout)            (None, 64, 64, 64)   0           conv2d_89[0][0]                  \n",
            "__________________________________________________________________________________________________\n",
            "conv2d_90 (Conv2D)              (None, 64, 64, 64)   36928       dropout_43[0][0]                 \n",
            "__________________________________________________________________________________________________\n",
            "conv2d_transpose_19 (Conv2DTran (None, 128, 128, 32) 8224        conv2d_90[0][0]                  \n",
            "__________________________________________________________________________________________________\n",
            "concatenate_19 (Concatenate)    (None, 128, 128, 64) 0           conv2d_transpose_19[0][0]        \n",
            "                                                                 batch_normalization_44[0][0]     \n",
            "__________________________________________________________________________________________________\n",
            "conv2d_91 (Conv2D)              (None, 128, 128, 32) 18464       concatenate_19[0][0]             \n",
            "__________________________________________________________________________________________________\n",
            "dropout_44 (Dropout)            (None, 128, 128, 32) 0           conv2d_91[0][0]                  \n",
            "__________________________________________________________________________________________________\n",
            "conv2d_92 (Conv2D)              (None, 128, 128, 32) 9248        dropout_44[0][0]                 \n",
            "__________________________________________________________________________________________________\n",
            "conv2d_transpose_20 (Conv2DTran (None, 256, 256, 16) 2064        conv2d_92[0][0]                  \n",
            "__________________________________________________________________________________________________\n",
            "concatenate_20 (Concatenate)    (None, 256, 256, 32) 0           conv2d_transpose_20[0][0]        \n",
            "                                                                 batch_normalization_42[0][0]     \n",
            "__________________________________________________________________________________________________\n",
            "conv2d_93 (Conv2D)              (None, 256, 256, 16) 4624        concatenate_20[0][0]             \n",
            "__________________________________________________________________________________________________\n",
            "dropout_45 (Dropout)            (None, 256, 256, 16) 0           conv2d_93[0][0]                  \n",
            "__________________________________________________________________________________________________\n",
            "conv2d_94 (Conv2D)              (None, 256, 256, 16) 2320        dropout_45[0][0]                 \n",
            "__________________________________________________________________________________________________\n",
            "conv2d_95 (Conv2D)              (None, 256, 256, 1)  17          conv2d_94[0][0]                  \n",
            "==================================================================================================\n",
            "Total params: 1,945,073\n",
            "Trainable params: 1,943,089\n",
            "Non-trainable params: 1,984\n",
            "__________________________________________________________________________________________________\n"
          ],
          "name": "stdout"
        }
      ]
    },
    {
      "metadata": {
        "id": "q9vcEs1QkONg",
        "colab_type": "text"
      },
      "cell_type": "markdown",
      "source": [
        "#### a) Training set up\n",
        "\n",
        "A callback is a set of functions to be applied at given stages of the training procedure. You can use callbacks to get a view on internal states and statistics of the model during training.\n",
        "\n",
        "Some observations on the functions used:\n",
        "\n",
        "-->```keras.callbacks.EarlyStopping()```: Stop training when a monitored quantity has stopped improving. Parameters:\n",
        "\n",
        "- patience: number of epochs with no improvement after which training will be stopped\n",
        "\n",
        "- verbose: verbosity mode\n",
        "\n",
        "--> ```keras.callbacks.ModelCheckpoint()```: Save the model after every epoch. Parameters:\n",
        "\n",
        "- filepath: string, path to save the model file\n",
        "- save_best_only: if save_best_only = True, the latest best model according to the quantity monitored will not be overwritten.\n",
        "\n",
        "--> ```model.fit()```: Parameters:\n",
        "\n",
        "- validation_split: Float between 0 and 1. Fraction of the training data to be used as validation data. The model will set apart this fraction of the training data, will not train on it, and will evaluate the loss and any model metrics on this data at the end of each epoch. The validation data is selected from the last samples in the x and y data provided, before shuffling.\n",
        "\n",
        "- batch_size: Integer or None. Number of samples per gradient update. If unspecified, it will default to 32."
      ]
    },
    {
      "metadata": {
        "id": "VifKhijIe6kq",
        "colab_type": "code",
        "colab": {
          "autoexec": {
            "startup": false,
            "wait_interval": 0
          },
          "output_extras": [
            {
              "item_id": 169
            },
            {
              "item_id": 325
            },
            {
              "item_id": 432
            },
            {
              "item_id": 534
            },
            {
              "item_id": 637
            },
            {
              "item_id": 755
            },
            {
              "item_id": 881
            },
            {
              "item_id": 1010
            },
            {
              "item_id": 1136
            },
            {
              "item_id": 1255
            },
            {
              "item_id": 1386
            },
            {
              "item_id": 1507
            },
            {
              "item_id": 1644
            },
            {
              "item_id": 1770
            },
            {
              "item_id": 1893
            },
            {
              "item_id": 2020
            },
            {
              "item_id": 2152
            },
            {
              "item_id": 2279
            },
            {
              "item_id": 2395
            },
            {
              "item_id": 2510
            },
            {
              "item_id": 2629
            },
            {
              "item_id": 2656
            }
          ],
          "base_uri": "https://localhost:8080/",
          "height": 6854
        },
        "outputId": "b7e43d07-98d4-493c-bf11-39ed0601dc20",
        "executionInfo": {
          "status": "ok",
          "timestamp": 1520215592355,
          "user_tz": 480,
          "elapsed": 2617871,
          "user": {
            "displayName": "Cristian Bartolomé",
            "photoUrl": "//lh5.googleusercontent.com/-Vh9VldPKiCs/AAAAAAAAAAI/AAAAAAAAAEs/_EFLAevi5gk/s50-c-k-no/photo.jpg",
            "userId": "110624641621226096756"
          }
        }
      },
      "cell_type": "code",
      "source": [
        "### Fit model\n",
        "\n",
        "# Keras models are trained on Numpy arrays of input data and labels. For training a model, you will typically use the  fit function.\n",
        "\n",
        "earlystopper = keras.callbacks.EarlyStopping(patience=100, verbose=1) \n",
        "checkpointer = keras.callbacks.ModelCheckpoint('Unet-MeanIoU-100e-Res256-BN-dropA0.2-Reg0.45v2.h5', verbose=1, save_best_only=True)\n",
        "results = model.fit(X_train, Y_train, validation_split=0.1, batch_size=16, epochs=100, \n",
        "                    callbacks=[earlystopper, checkpointer])"
      ],
      "execution_count": 100,
      "outputs": [
        {
          "output_type": "stream",
          "text": [
            "Train on 603 samples, validate on 67 samples\n",
            "Epoch 1/100\n",
            "603/603 [==============================] - 32s 53ms/step - loss: 343.8400 - mean_iou: 0.1018 - val_loss: 130.1584 - val_mean_iou: 0.1530\n",
            "\n",
            "Epoch 00001: val_loss improved from inf to 130.15839, saving model to Unet-MeanIoU-100e-Res256-BN-dropA0.2-Reg0.45v2.h5\n",
            "Epoch 2/100\n",
            "603/603 [==============================] - 26s 43ms/step - loss: 69.9969 - mean_iou: 0.1917 - val_loss: 32.9705 - val_mean_iou: 0.2272\n",
            "\n",
            "Epoch 00002: val_loss improved from 130.15839 to 32.97047, saving model to Unet-MeanIoU-100e-Res256-BN-dropA0.2-Reg0.45v2.h5\n",
            "Epoch 3/100\n",
            "603/603 [==============================] - 26s 43ms/step - loss: 20.0688 - mean_iou: 0.2410 - val_loss: 11.1895 - val_mean_iou: 0.2531\n",
            "\n",
            "Epoch 00003: val_loss improved from 32.97047 to 11.18953, saving model to Unet-MeanIoU-100e-Res256-BN-dropA0.2-Reg0.45v2.h5\n",
            "Epoch 4/100\n",
            "603/603 [==============================] - 26s 43ms/step - loss: 7.2828 - mean_iou: 0.2654 - val_loss: 4.6445 - val_mean_iou: 0.2745\n",
            "\n",
            "Epoch 00004: val_loss improved from 11.18953 to 4.64448, saving model to Unet-MeanIoU-100e-Res256-BN-dropA0.2-Reg0.45v2.h5\n",
            "Epoch 5/100\n",
            "128/603 [=====>........................] - ETA: 20s - loss: 4.0660 - mean_iou: 0.2735"
          ],
          "name": "stdout"
        },
        {
          "output_type": "stream",
          "text": [
            "603/603 [==============================] - 26s 43ms/step - loss: 3.3686 - mean_iou: 0.2762 - val_loss: 2.4784 - val_mean_iou: 0.2767\n",
            "\n",
            "Epoch 00005: val_loss improved from 4.64448 to 2.47845, saving model to Unet-MeanIoU-100e-Res256-BN-dropA0.2-Reg0.45v2.h5\n",
            "Epoch 6/100\n",
            "603/603 [==============================] - 26s 43ms/step - loss: 1.5443 - mean_iou: 0.2794 - val_loss: 1.2373 - val_mean_iou: 0.2818\n",
            "\n",
            "Epoch 00006: val_loss improved from 2.47845 to 1.23731, saving model to Unet-MeanIoU-100e-Res256-BN-dropA0.2-Reg0.45v2.h5\n",
            "Epoch 7/100\n",
            "603/603 [==============================] - 26s 43ms/step - loss: 0.8095 - mean_iou: 0.2844 - val_loss: 0.7679 - val_mean_iou: 0.2864\n",
            "\n",
            "Epoch 00007: val_loss improved from 1.23731 to 0.76794, saving model to Unet-MeanIoU-100e-Res256-BN-dropA0.2-Reg0.45v2.h5\n",
            "Epoch 8/100\n",
            "603/603 [==============================] - 26s 43ms/step - loss: 0.5298 - mean_iou: 0.2864 - val_loss: 0.7410 - val_mean_iou: 0.2884\n",
            "\n",
            "Epoch 00008: val_loss improved from 0.76794 to 0.74103, saving model to Unet-MeanIoU-100e-Res256-BN-dropA0.2-Reg0.45v2.h5\n",
            "Epoch 9/100\n",
            "288/603 [=============>................] - ETA: 12s - loss: 0.3049 - mean_iou: 0.2881"
          ],
          "name": "stdout"
        },
        {
          "output_type": "stream",
          "text": [
            "603/603 [==============================] - 26s 43ms/step - loss: 0.2887 - mean_iou: 0.2899 - val_loss: 0.6374 - val_mean_iou: 0.2927\n",
            "\n",
            "Epoch 00009: val_loss improved from 0.74103 to 0.63742, saving model to Unet-MeanIoU-100e-Res256-BN-dropA0.2-Reg0.45v2.h5\n",
            "Epoch 10/100\n",
            "603/603 [==============================] - 26s 43ms/step - loss: 0.2531 - mean_iou: 0.2947 - val_loss: 0.5388 - val_mean_iou: 0.2964\n",
            "\n",
            "Epoch 00010: val_loss improved from 0.63742 to 0.53882, saving model to Unet-MeanIoU-100e-Res256-BN-dropA0.2-Reg0.45v2.h5\n",
            "Epoch 11/100\n",
            "603/603 [==============================] - 26s 43ms/step - loss: 0.3040 - mean_iou: 0.2969 - val_loss: 0.5612 - val_mean_iou: 0.2986\n",
            "\n",
            "Epoch 00011: val_loss did not improve\n",
            "Epoch 12/100\n",
            "603/603 [==============================] - 26s 43ms/step - loss: 0.3109 - mean_iou: 0.2988 - val_loss: 0.3607 - val_mean_iou: 0.3004\n",
            "\n",
            "Epoch 00012: val_loss improved from 0.53882 to 0.36070, saving model to Unet-MeanIoU-100e-Res256-BN-dropA0.2-Reg0.45v2.h5\n",
            "Epoch 13/100\n",
            "384/603 [==================>...........] - ETA: 9s - loss: 0.2390 - mean_iou: 0.3017"
          ],
          "name": "stdout"
        },
        {
          "output_type": "stream",
          "text": [
            "603/603 [==============================] - 26s 43ms/step - loss: 0.2366 - mean_iou: 0.3024 - val_loss: 0.3550 - val_mean_iou: 0.3042\n",
            "\n",
            "Epoch 00013: val_loss improved from 0.36070 to 0.35497, saving model to Unet-MeanIoU-100e-Res256-BN-dropA0.2-Reg0.45v2.h5\n",
            "Epoch 14/100\n",
            "603/603 [==============================] - 26s 43ms/step - loss: 0.1872 - mean_iou: 0.3054 - val_loss: 0.3507 - val_mean_iou: 0.3068\n",
            "\n",
            "Epoch 00014: val_loss improved from 0.35497 to 0.35067, saving model to Unet-MeanIoU-100e-Res256-BN-dropA0.2-Reg0.45v2.h5\n",
            "Epoch 15/100\n",
            "603/603 [==============================] - 26s 43ms/step - loss: 0.3683 - mean_iou: 0.3071 - val_loss: 0.3128 - val_mean_iou: 0.3082\n",
            "\n",
            "Epoch 00015: val_loss improved from 0.35067 to 0.31279, saving model to Unet-MeanIoU-100e-Res256-BN-dropA0.2-Reg0.45v2.h5\n",
            "Epoch 16/100\n",
            "603/603 [==============================] - 26s 43ms/step - loss: 0.2834 - mean_iou: 0.3103 - val_loss: 0.8333 - val_mean_iou: 0.3113\n",
            "\n",
            "Epoch 00016: val_loss did not improve\n",
            "Epoch 17/100\n",
            "336/603 [===============>..............] - ETA: 11s - loss: 0.5830 - mean_iou: 0.3108"
          ],
          "name": "stdout"
        },
        {
          "output_type": "stream",
          "text": [
            "603/603 [==============================] - 26s 43ms/step - loss: 0.4602 - mean_iou: 0.3111 - val_loss: 0.2667 - val_mean_iou: 0.3120\n",
            "\n",
            "Epoch 00017: val_loss improved from 0.31279 to 0.26674, saving model to Unet-MeanIoU-100e-Res256-BN-dropA0.2-Reg0.45v2.h5\n",
            "Epoch 18/100\n",
            "603/603 [==============================] - 26s 43ms/step - loss: 0.2135 - mean_iou: 0.3128 - val_loss: 0.1973 - val_mean_iou: 0.3140\n",
            "\n",
            "Epoch 00018: val_loss improved from 0.26674 to 0.19725, saving model to Unet-MeanIoU-100e-Res256-BN-dropA0.2-Reg0.45v2.h5\n",
            "Epoch 19/100\n",
            "603/603 [==============================] - 26s 43ms/step - loss: 0.1825 - mean_iou: 0.3154 - val_loss: 0.4657 - val_mean_iou: 0.3165\n",
            "\n",
            "Epoch 00019: val_loss did not improve\n",
            "Epoch 20/100\n",
            "603/603 [==============================] - 26s 43ms/step - loss: 0.1930 - mean_iou: 0.3173 - val_loss: 0.1922 - val_mean_iou: 0.3186\n",
            "\n",
            "Epoch 00020: val_loss improved from 0.19725 to 0.19218, saving model to Unet-MeanIoU-100e-Res256-BN-dropA0.2-Reg0.45v2.h5\n",
            "Epoch 21/100\n",
            "384/603 [==================>...........] - ETA: 8s - loss: 0.1927 - mean_iou: 0.3189"
          ],
          "name": "stdout"
        },
        {
          "output_type": "stream",
          "text": [
            "603/603 [==============================] - 26s 43ms/step - loss: 0.1852 - mean_iou: 0.3193 - val_loss: 0.2002 - val_mean_iou: 0.3205\n",
            "\n",
            "Epoch 00021: val_loss did not improve\n",
            "Epoch 22/100\n",
            "603/603 [==============================] - 26s 43ms/step - loss: 0.2020 - mean_iou: 0.3215 - val_loss: 0.2317 - val_mean_iou: 0.3226\n",
            "\n",
            "Epoch 00022: val_loss did not improve\n",
            "Epoch 23/100\n",
            "603/603 [==============================] - 26s 43ms/step - loss: 0.2452 - mean_iou: 0.3235 - val_loss: 0.2702 - val_mean_iou: 0.3245\n",
            "\n",
            "Epoch 00023: val_loss did not improve\n",
            "Epoch 24/100\n",
            "603/603 [==============================] - 26s 43ms/step - loss: 0.4049 - mean_iou: 0.3249 - val_loss: 0.2759 - val_mean_iou: 0.3255\n",
            "\n",
            "Epoch 00024: val_loss did not improve\n",
            "Epoch 25/100\n",
            "603/603 [==============================] - 26s 43ms/step - loss: 0.2364 - mean_iou: 0.3263 - val_loss: 0.2086 - val_mean_iou: 0.3272\n",
            "\n",
            "Epoch 00025: val_loss did not improve\n",
            "Epoch 26/100\n",
            "192/603 [========>.....................] - ETA: 16s - loss: 0.1923 - mean_iou: 0.3274"
          ],
          "name": "stdout"
        },
        {
          "output_type": "stream",
          "text": [
            "603/603 [==============================] - 26s 43ms/step - loss: 0.1780 - mean_iou: 0.3278 - val_loss: 0.2468 - val_mean_iou: 0.3285\n",
            "\n",
            "Epoch 00026: val_loss did not improve\n",
            "Epoch 27/100\n",
            "603/603 [==============================] - 26s 43ms/step - loss: 0.2520 - mean_iou: 0.3293 - val_loss: 1.1554 - val_mean_iou: 0.3297\n",
            "\n",
            "Epoch 00027: val_loss did not improve\n",
            "Epoch 28/100\n",
            "603/603 [==============================] - 26s 43ms/step - loss: 0.4760 - mean_iou: 0.3295 - val_loss: 0.2615 - val_mean_iou: 0.3298\n",
            "\n",
            "Epoch 00028: val_loss did not improve\n",
            "Epoch 29/100\n",
            "603/603 [==============================] - 26s 43ms/step - loss: 0.3805 - mean_iou: 0.3303 - val_loss: 0.5583 - val_mean_iou: 0.3308\n",
            "\n",
            "Epoch 00029: val_loss did not improve\n",
            "Epoch 30/100\n",
            "603/603 [==============================] - 26s 43ms/step - loss: 0.1963 - mean_iou: 0.3312 - val_loss: 0.6396 - val_mean_iou: 0.3317\n",
            "\n",
            "Epoch 00030: val_loss did not improve\n",
            "Epoch 31/100\n",
            "176/603 [=======>......................] - ETA: 17s - loss: 0.1411 - mean_iou: 0.3315"
          ],
          "name": "stdout"
        },
        {
          "output_type": "stream",
          "text": [
            "603/603 [==============================] - 26s 43ms/step - loss: 0.1501 - mean_iou: 0.3319 - val_loss: 0.4971 - val_mean_iou: 0.3323\n",
            "\n",
            "Epoch 00031: val_loss did not improve\n",
            "Epoch 32/100\n",
            "603/603 [==============================] - 26s 43ms/step - loss: 0.2293 - mean_iou: 0.3324 - val_loss: 0.4856 - val_mean_iou: 0.3327\n",
            "\n",
            "Epoch 00032: val_loss did not improve\n",
            "Epoch 33/100\n",
            "603/603 [==============================] - 26s 43ms/step - loss: 0.1483 - mean_iou: 0.3331 - val_loss: 0.4016 - val_mean_iou: 0.3336\n",
            "\n",
            "Epoch 00033: val_loss did not improve\n",
            "Epoch 34/100\n",
            "603/603 [==============================] - 26s 43ms/step - loss: 0.4508 - mean_iou: 0.3335 - val_loss: 0.3079 - val_mean_iou: 0.3340\n",
            "\n",
            "Epoch 00034: val_loss did not improve\n",
            "Epoch 35/100\n",
            "603/603 [==============================] - 26s 43ms/step - loss: 0.1671 - mean_iou: 0.3345 - val_loss: 0.5720 - val_mean_iou: 0.3349\n",
            "\n",
            "Epoch 00035: val_loss did not improve\n",
            "Epoch 36/100\n",
            "176/603 [=======>......................] - ETA: 17s - loss: 0.1243 - mean_iou: 0.3346"
          ],
          "name": "stdout"
        },
        {
          "output_type": "stream",
          "text": [
            "603/603 [==============================] - 26s 43ms/step - loss: 0.1540 - mean_iou: 0.3350 - val_loss: 0.5102 - val_mean_iou: 0.3354\n",
            "\n",
            "Epoch 00036: val_loss did not improve\n",
            "Epoch 37/100\n",
            "603/603 [==============================] - 26s 43ms/step - loss: 0.2824 - mean_iou: 0.3356 - val_loss: 0.2391 - val_mean_iou: 0.3360\n",
            "\n",
            "Epoch 00037: val_loss did not improve\n",
            "Epoch 38/100\n",
            "603/603 [==============================] - 26s 43ms/step - loss: 0.1413 - mean_iou: 0.3364 - val_loss: 0.4344 - val_mean_iou: 0.3367\n",
            "\n",
            "Epoch 00038: val_loss did not improve\n",
            "Epoch 39/100\n",
            "603/603 [==============================] - 26s 43ms/step - loss: 0.1307 - mean_iou: 0.3370 - val_loss: 0.5624 - val_mean_iou: 0.3373\n",
            "\n",
            "Epoch 00039: val_loss did not improve\n",
            "Epoch 40/100\n",
            "603/603 [==============================] - 26s 43ms/step - loss: 0.2545 - mean_iou: 0.3373 - val_loss: 0.2115 - val_mean_iou: 0.3377\n",
            "\n",
            "Epoch 00040: val_loss did not improve\n",
            "Epoch 41/100\n",
            "176/603 [=======>......................] - ETA: 17s - loss: 0.2179 - mean_iou: 0.3378"
          ],
          "name": "stdout"
        },
        {
          "output_type": "stream",
          "text": [
            "603/603 [==============================] - 26s 43ms/step - loss: 0.2011 - mean_iou: 0.3382 - val_loss: 0.3033 - val_mean_iou: 0.3387\n",
            "\n",
            "Epoch 00041: val_loss did not improve\n",
            "Epoch 42/100\n",
            "603/603 [==============================] - 26s 43ms/step - loss: 0.1777 - mean_iou: 0.3391 - val_loss: 0.1608 - val_mean_iou: 0.3395\n",
            "\n",
            "Epoch 00042: val_loss improved from 0.19218 to 0.16084, saving model to Unet-MeanIoU-100e-Res256-BN-dropA0.2-Reg0.45v2.h5\n",
            "Epoch 43/100\n",
            "603/603 [==============================] - 26s 43ms/step - loss: 0.1280 - mean_iou: 0.3399 - val_loss: 0.2515 - val_mean_iou: 0.3403\n",
            "\n",
            "Epoch 00043: val_loss did not improve\n",
            "Epoch 44/100\n",
            "603/603 [==============================] - 26s 43ms/step - loss: 0.1369 - mean_iou: 0.3406 - val_loss: 0.1773 - val_mean_iou: 0.3411\n",
            "\n",
            "Epoch 00044: val_loss did not improve\n",
            "Epoch 45/100\n",
            "603/603 [==============================] - 26s 43ms/step - loss: 0.1557 - mean_iou: 0.3415 - val_loss: 0.2074 - val_mean_iou: 0.3418\n",
            "\n",
            "Epoch 00045: val_loss did not improve\n",
            "Epoch 46/100\n",
            " 16/603 [..............................] - ETA: 23s - loss: 0.1518 - mean_iou: 0.3418"
          ],
          "name": "stdout"
        },
        {
          "output_type": "stream",
          "text": [
            "603/603 [==============================] - 26s 43ms/step - loss: 0.1512 - mean_iou: 0.3420 - val_loss: 0.2390 - val_mean_iou: 0.3425\n",
            "\n",
            "Epoch 00046: val_loss did not improve\n",
            "Epoch 47/100\n",
            "603/603 [==============================] - 26s 43ms/step - loss: 0.4212 - mean_iou: 0.3428 - val_loss: 0.7651 - val_mean_iou: 0.3432\n",
            "\n",
            "Epoch 00047: val_loss did not improve\n",
            "Epoch 48/100\n",
            "603/603 [==============================] - 26s 43ms/step - loss: 0.2451 - mean_iou: 0.3435 - val_loss: 0.1834 - val_mean_iou: 0.3439\n",
            "\n",
            "Epoch 00048: val_loss did not improve\n",
            "Epoch 49/100\n",
            "603/603 [==============================] - 26s 43ms/step - loss: 0.1365 - mean_iou: 0.3442 - val_loss: 0.1690 - val_mean_iou: 0.3447\n",
            "\n",
            "Epoch 00049: val_loss did not improve\n",
            "Epoch 50/100\n",
            "603/603 [==============================] - 26s 43ms/step - loss: 0.1472 - mean_iou: 0.3449 - val_loss: 0.3641 - val_mean_iou: 0.3452\n",
            "\n",
            "Epoch 00050: val_loss did not improve\n",
            "Epoch 51/100\n",
            "160/603 [======>.......................] - ETA: 18s - loss: 0.2502 - mean_iou: 0.3453"
          ],
          "name": "stdout"
        },
        {
          "output_type": "stream",
          "text": [
            "603/603 [==============================] - 26s 43ms/step - loss: 0.1626 - mean_iou: 0.3456 - val_loss: 0.1990 - val_mean_iou: 0.3459\n",
            "\n",
            "Epoch 00051: val_loss did not improve\n",
            "Epoch 52/100\n",
            "603/603 [==============================] - 26s 43ms/step - loss: 0.1257 - mean_iou: 0.3461 - val_loss: 0.1502 - val_mean_iou: 0.3464\n",
            "\n",
            "Epoch 00052: val_loss improved from 0.16084 to 0.15020, saving model to Unet-MeanIoU-100e-Res256-BN-dropA0.2-Reg0.45v2.h5\n",
            "Epoch 53/100\n",
            "603/603 [==============================] - 26s 43ms/step - loss: 0.1532 - mean_iou: 0.3468 - val_loss: 0.1935 - val_mean_iou: 0.3472\n",
            "\n",
            "Epoch 00053: val_loss did not improve\n",
            "Epoch 54/100\n",
            "603/603 [==============================] - 26s 43ms/step - loss: 0.1870 - mean_iou: 0.3475 - val_loss: 0.1885 - val_mean_iou: 0.3478\n",
            "\n",
            "Epoch 00054: val_loss did not improve\n",
            "Epoch 55/100\n",
            "603/603 [==============================] - 26s 43ms/step - loss: 0.1683 - mean_iou: 0.3481 - val_loss: 0.5534 - val_mean_iou: 0.3485\n",
            "\n",
            "Epoch 00055: val_loss did not improve\n",
            "Epoch 56/100\n"
          ],
          "name": "stdout"
        },
        {
          "output_type": "stream",
          "text": [
            "603/603 [==============================] - 26s 43ms/step - loss: 0.3492 - mean_iou: 0.3487 - val_loss: 0.2677 - val_mean_iou: 0.3489\n",
            "\n",
            "Epoch 00056: val_loss did not improve\n",
            "Epoch 57/100\n",
            "603/603 [==============================] - 26s 43ms/step - loss: 0.1596 - mean_iou: 0.3492 - val_loss: 0.1832 - val_mean_iou: 0.3495\n",
            "\n",
            "Epoch 00057: val_loss did not improve\n",
            "Epoch 58/100\n",
            "603/603 [==============================] - 26s 43ms/step - loss: 0.1358 - mean_iou: 0.3498 - val_loss: 0.1902 - val_mean_iou: 0.3501\n",
            "\n",
            "Epoch 00058: val_loss did not improve\n",
            "Epoch 59/100\n",
            "603/603 [==============================] - 26s 43ms/step - loss: 0.1865 - mean_iou: 0.3502 - val_loss: 0.2434 - val_mean_iou: 0.3504\n",
            "\n",
            "Epoch 00059: val_loss did not improve\n",
            "Epoch 60/100\n",
            "603/603 [==============================] - 26s 43ms/step - loss: 0.1296 - mean_iou: 0.3507 - val_loss: 0.1729 - val_mean_iou: 0.3510\n",
            "\n",
            "Epoch 00060: val_loss did not improve\n",
            "Epoch 61/100\n",
            "160/603 [======>.......................] - ETA: 18s - loss: 0.1528 - mean_iou: 0.3511"
          ],
          "name": "stdout"
        },
        {
          "output_type": "stream",
          "text": [
            "603/603 [==============================] - 26s 43ms/step - loss: 0.9075 - mean_iou: 0.3512 - val_loss: 1.5151 - val_mean_iou: 0.3514\n",
            "\n",
            "Epoch 00061: val_loss did not improve\n",
            "Epoch 62/100\n",
            "603/603 [==============================] - 26s 43ms/step - loss: 0.4527 - mean_iou: 0.3517 - val_loss: 0.2087 - val_mean_iou: 0.3519\n",
            "\n",
            "Epoch 00062: val_loss did not improve\n",
            "Epoch 63/100\n",
            "603/603 [==============================] - 26s 43ms/step - loss: 0.4525 - mean_iou: 0.3520 - val_loss: 0.3394 - val_mean_iou: 0.3522\n",
            "\n",
            "Epoch 00063: val_loss did not improve\n",
            "Epoch 64/100\n",
            "603/603 [==============================] - 26s 43ms/step - loss: 0.2281 - mean_iou: 0.3525 - val_loss: 0.2628 - val_mean_iou: 0.3527\n",
            "\n",
            "Epoch 00064: val_loss did not improve\n",
            "Epoch 65/100\n",
            "603/603 [==============================] - 26s 43ms/step - loss: 0.1466 - mean_iou: 0.3529 - val_loss: 0.1713 - val_mean_iou: 0.3531\n",
            "\n",
            "Epoch 00065: val_loss did not improve\n",
            "Epoch 66/100\n",
            "176/603 [=======>......................] - ETA: 17s - loss: 0.1346 - mean_iou: 0.3531"
          ],
          "name": "stdout"
        },
        {
          "output_type": "stream",
          "text": [
            "603/603 [==============================] - 26s 43ms/step - loss: 0.1463 - mean_iou: 0.3532 - val_loss: 0.1543 - val_mean_iou: 0.3535\n",
            "\n",
            "Epoch 00066: val_loss did not improve\n",
            "Epoch 67/100\n",
            "603/603 [==============================] - 26s 43ms/step - loss: 0.1120 - mean_iou: 0.3537 - val_loss: 0.2246 - val_mean_iou: 0.3539\n",
            "\n",
            "Epoch 00067: val_loss did not improve\n",
            "Epoch 68/100\n",
            "603/603 [==============================] - 26s 43ms/step - loss: 0.1253 - mean_iou: 0.3541 - val_loss: 0.2142 - val_mean_iou: 0.3543\n",
            "\n",
            "Epoch 00068: val_loss did not improve\n",
            "Epoch 69/100\n",
            "603/603 [==============================] - 26s 43ms/step - loss: 0.1356 - mean_iou: 0.3545 - val_loss: 0.1329 - val_mean_iou: 0.3548\n",
            "\n",
            "Epoch 00069: val_loss improved from 0.15020 to 0.13286, saving model to Unet-MeanIoU-100e-Res256-BN-dropA0.2-Reg0.45v2.h5\n",
            "Epoch 70/100\n",
            "603/603 [==============================] - 26s 43ms/step - loss: 0.1502 - mean_iou: 0.3549 - val_loss: 0.2191 - val_mean_iou: 0.3552\n",
            "\n",
            "Epoch 00070: val_loss did not improve\n",
            "Epoch 71/100\n",
            " 96/603 [===>..........................] - ETA: 20s - loss: 0.1661 - mean_iou: 0.3552"
          ],
          "name": "stdout"
        },
        {
          "output_type": "stream",
          "text": [
            "603/603 [==============================] - 26s 43ms/step - loss: 0.1345 - mean_iou: 0.3554 - val_loss: 0.1727 - val_mean_iou: 0.3555\n",
            "\n",
            "Epoch 00071: val_loss did not improve\n",
            "Epoch 72/100\n",
            "603/603 [==============================] - 26s 43ms/step - loss: 0.1217 - mean_iou: 0.3558 - val_loss: 0.1433 - val_mean_iou: 0.3560\n",
            "\n",
            "Epoch 00072: val_loss did not improve\n",
            "Epoch 73/100\n",
            "603/603 [==============================] - 26s 43ms/step - loss: 0.1306 - mean_iou: 0.3562 - val_loss: 0.1996 - val_mean_iou: 0.3564\n",
            "\n",
            "Epoch 00073: val_loss did not improve\n",
            "Epoch 74/100\n",
            "603/603 [==============================] - 26s 43ms/step - loss: 0.1575 - mean_iou: 0.3564 - val_loss: 0.1325 - val_mean_iou: 0.3566\n",
            "\n",
            "Epoch 00074: val_loss improved from 0.13286 to 0.13250, saving model to Unet-MeanIoU-100e-Res256-BN-dropA0.2-Reg0.45v2.h5\n",
            "Epoch 75/100\n",
            "603/603 [==============================] - 26s 43ms/step - loss: 0.2988 - mean_iou: 0.3568 - val_loss: 0.1371 - val_mean_iou: 0.3570\n",
            "\n",
            "Epoch 00075: val_loss did not improve\n",
            "Epoch 76/100\n",
            " 96/603 [===>..........................] - ETA: 21s - loss: 0.1213 - mean_iou: 0.3570"
          ],
          "name": "stdout"
        },
        {
          "output_type": "stream",
          "text": [
            "603/603 [==============================] - 26s 43ms/step - loss: 0.1328 - mean_iou: 0.3572 - val_loss: 0.1750 - val_mean_iou: 0.3573\n",
            "\n",
            "Epoch 00076: val_loss did not improve\n",
            "Epoch 77/100\n",
            "603/603 [==============================] - 26s 43ms/step - loss: 0.1412 - mean_iou: 0.3575 - val_loss: 0.2722 - val_mean_iou: 0.3576\n",
            "\n",
            "Epoch 00077: val_loss did not improve\n",
            "Epoch 78/100\n",
            "603/603 [==============================] - 26s 43ms/step - loss: 0.0974 - mean_iou: 0.3578 - val_loss: 0.2988 - val_mean_iou: 0.3580\n",
            "\n",
            "Epoch 00078: val_loss did not improve\n",
            "Epoch 79/100\n",
            "603/603 [==============================] - 26s 43ms/step - loss: 0.2386 - mean_iou: 0.3580 - val_loss: 0.2795 - val_mean_iou: 0.3580\n",
            "\n",
            "Epoch 00079: val_loss did not improve\n",
            "Epoch 80/100\n",
            "603/603 [==============================] - 26s 43ms/step - loss: 0.1649 - mean_iou: 0.3582 - val_loss: 0.2342 - val_mean_iou: 0.3583\n",
            "\n",
            "Epoch 00080: val_loss did not improve\n",
            "Epoch 81/100\n",
            "160/603 [======>.......................] - ETA: 18s - loss: 0.1927 - mean_iou: 0.3584"
          ],
          "name": "stdout"
        },
        {
          "output_type": "stream",
          "text": [
            "603/603 [==============================] - 26s 43ms/step - loss: 0.1465 - mean_iou: 0.3585 - val_loss: 0.1668 - val_mean_iou: 0.3587\n",
            "\n",
            "Epoch 00081: val_loss did not improve\n",
            "Epoch 82/100\n",
            "603/603 [==============================] - 26s 43ms/step - loss: 0.1121 - mean_iou: 0.3589 - val_loss: 0.4849 - val_mean_iou: 0.3589\n",
            "\n",
            "Epoch 00082: val_loss did not improve\n",
            "Epoch 83/100\n",
            "603/603 [==============================] - 26s 43ms/step - loss: 0.1690 - mean_iou: 0.3589 - val_loss: 0.1373 - val_mean_iou: 0.3591\n",
            "\n",
            "Epoch 00083: val_loss did not improve\n",
            "Epoch 84/100\n",
            "603/603 [==============================] - 26s 43ms/step - loss: 0.1147 - mean_iou: 0.3593 - val_loss: 0.1580 - val_mean_iou: 0.3594\n",
            "\n",
            "Epoch 00084: val_loss did not improve\n",
            "Epoch 85/100\n",
            "603/603 [==============================] - 26s 43ms/step - loss: 0.1219 - mean_iou: 0.3595 - val_loss: 0.1394 - val_mean_iou: 0.3597\n",
            "\n",
            "Epoch 00085: val_loss did not improve\n",
            "Epoch 86/100\n",
            "176/603 [=======>......................] - ETA: 17s - loss: 0.1117 - mean_iou: 0.3598"
          ],
          "name": "stdout"
        },
        {
          "output_type": "stream",
          "text": [
            "603/603 [==============================] - 26s 43ms/step - loss: 0.1060 - mean_iou: 0.3599 - val_loss: 0.1186 - val_mean_iou: 0.3601\n",
            "\n",
            "Epoch 00086: val_loss improved from 0.13250 to 0.11856, saving model to Unet-MeanIoU-100e-Res256-BN-dropA0.2-Reg0.45v2.h5\n",
            "Epoch 87/100\n",
            "603/603 [==============================] - 26s 43ms/step - loss: 0.1038 - mean_iou: 0.3603 - val_loss: 0.1322 - val_mean_iou: 0.3604\n",
            "\n",
            "Epoch 00087: val_loss did not improve\n",
            "Epoch 88/100\n",
            "603/603 [==============================] - 26s 43ms/step - loss: 0.1171 - mean_iou: 0.3606 - val_loss: 0.1123 - val_mean_iou: 0.3608\n",
            "\n",
            "Epoch 00088: val_loss improved from 0.11856 to 0.11233, saving model to Unet-MeanIoU-100e-Res256-BN-dropA0.2-Reg0.45v2.h5\n",
            "Epoch 89/100\n",
            "603/603 [==============================] - 26s 43ms/step - loss: 0.4968 - mean_iou: 0.3609 - val_loss: 0.2442 - val_mean_iou: 0.3611\n",
            "\n",
            "Epoch 00089: val_loss did not improve\n",
            "Epoch 90/100\n",
            "464/603 [======================>.......] - ETA: 5s - loss: 0.2677 - mean_iou: 0.3612"
          ],
          "name": "stdout"
        },
        {
          "output_type": "stream",
          "text": [
            "603/603 [==============================] - 26s 43ms/step - loss: 0.2843 - mean_iou: 0.3613 - val_loss: 0.2689 - val_mean_iou: 0.3614\n",
            "\n",
            "Epoch 00090: val_loss did not improve\n",
            "Epoch 91/100\n",
            "603/603 [==============================] - 26s 43ms/step - loss: 0.1640 - mean_iou: 0.3614 - val_loss: 0.2007 - val_mean_iou: 0.3615\n",
            "\n",
            "Epoch 00091: val_loss did not improve\n",
            "Epoch 92/100\n",
            "603/603 [==============================] - 26s 43ms/step - loss: 0.1140 - mean_iou: 0.3616 - val_loss: 0.1153 - val_mean_iou: 0.3618\n",
            "\n",
            "Epoch 00092: val_loss did not improve\n",
            "Epoch 93/100\n",
            "603/603 [==============================] - 26s 43ms/step - loss: 0.1274 - mean_iou: 0.3619 - val_loss: 0.1817 - val_mean_iou: 0.3620\n",
            "\n",
            "Epoch 00093: val_loss did not improve\n",
            "Epoch 94/100\n",
            "603/603 [==============================] - 26s 43ms/step - loss: 0.1084 - mean_iou: 0.3621 - val_loss: 0.1219 - val_mean_iou: 0.3623\n",
            "\n",
            "Epoch 00094: val_loss did not improve\n",
            "Epoch 95/100\n",
            "192/603 [========>.....................] - ETA: 16s - loss: 0.1307 - mean_iou: 0.3624"
          ],
          "name": "stdout"
        },
        {
          "output_type": "stream",
          "text": [
            "603/603 [==============================] - 26s 43ms/step - loss: 0.1179 - mean_iou: 0.3624 - val_loss: 0.1120 - val_mean_iou: 0.3626\n",
            "\n",
            "Epoch 00095: val_loss improved from 0.11233 to 0.11199, saving model to Unet-MeanIoU-100e-Res256-BN-dropA0.2-Reg0.45v2.h5\n",
            "Epoch 96/100\n",
            "603/603 [==============================] - 26s 43ms/step - loss: 0.1150 - mean_iou: 0.3628 - val_loss: 0.1388 - val_mean_iou: 0.3629\n",
            "\n",
            "Epoch 00096: val_loss did not improve\n",
            "Epoch 97/100\n",
            "603/603 [==============================] - 26s 43ms/step - loss: 0.1885 - mean_iou: 0.3629 - val_loss: 0.1753 - val_mean_iou: 0.3630\n",
            "\n",
            "Epoch 00097: val_loss did not improve\n",
            "Epoch 98/100\n",
            "603/603 [==============================] - 26s 43ms/step - loss: 0.1156 - mean_iou: 0.3631 - val_loss: 0.1198 - val_mean_iou: 0.3632\n",
            "\n",
            "Epoch 00098: val_loss did not improve\n",
            "Epoch 99/100\n",
            "592/603 [============================>.] - ETA: 0s - loss: 0.1504 - mean_iou: 0.3633"
          ],
          "name": "stdout"
        },
        {
          "output_type": "stream",
          "text": [
            "\b\b\b\b\b\b\b\b\b\b\b\b\b\b\b\b\b\b\b\b\b\b\b\b\b\b\b\b\b\b\b\b\b\b\b\b\b\b\b\b\b\b\b\b\b\b\b\b\b\b\b\b\b\b\b\b\b\b\b\b\b\b\b\b\b\b\b\b\b\b\b\b\b\b\b\b\b\b\b\b\b\b\b\b\r603/603 [==============================] - 26s 43ms/step - loss: 0.1512 - mean_iou: 0.3633 - val_loss: 0.2045 - val_mean_iou: 0.3635\n",
            "\n",
            "Epoch 00099: val_loss did not improve\n",
            "Epoch 100/100\n",
            "603/603 [==============================] - 26s 43ms/step - loss: 0.1330 - mean_iou: 0.3636 - val_loss: 0.1708 - val_mean_iou: 0.3638\n",
            "\n",
            "Epoch 00100: val_loss did not improve\n"
          ],
          "name": "stdout"
        }
      ]
    },
    {
      "metadata": {
        "id": "vW8ro0uioNxz",
        "colab_type": "code",
        "colab": {
          "autoexec": {
            "startup": false,
            "wait_interval": 0
          },
          "output_extras": [
            {
              "item_id": 1
            },
            {
              "item_id": 2
            },
            {
              "item_id": 3
            }
          ],
          "base_uri": "https://localhost:8080/",
          "height": 752
        },
        "outputId": "7c2c2c7c-06d0-436e-dc5a-a36775b054b3",
        "executionInfo": {
          "status": "ok",
          "timestamp": 1520216999308,
          "user_tz": 480,
          "elapsed": 681,
          "user": {
            "displayName": "Cristian Bartolomé",
            "photoUrl": "//lh5.googleusercontent.com/-Vh9VldPKiCs/AAAAAAAAAAI/AAAAAAAAAEs/_EFLAevi5gk/s50-c-k-no/photo.jpg",
            "userId": "110624641621226096756"
          }
        }
      },
      "cell_type": "code",
      "source": [
        "import matplotlib.pyplot as plt\n",
        "\n",
        "history = results #Output model.fit()\n",
        "\n",
        "# list all data in history\n",
        "print(history.history.keys())\n",
        "\n",
        "# summarize history for accuracy\n",
        "fig_accuracy = plt.figure(1)\n",
        "plt.plot(history.history['mean_iou'])\n",
        "plt.plot(history.history['val_mean_iou'])\n",
        "plt.title('Mean IoU evolution')\n",
        "plt.ylabel('Mean IoU')\n",
        "plt.xlabel('Epoch')\n",
        "plt.legend(['train', 'test'], loc='upper left')\n",
        "plt.show()\n",
        "fig_accuracy.savefig('Accuracy_Unet-MeanIoU-100e-Res256-BN-dropA0.2-Reg0.45v2.png')\n",
        "\n",
        "# summarize history for loss\n",
        "fig_loss = plt.figure(2)\n",
        "plt.plot(history.history['loss'])\n",
        "plt.plot(history.history['val_loss'])\n",
        "plt.title('Model Loss Evolution')\n",
        "plt.ylabel('Loss')\n",
        "plt.xlabel('Epoch')\n",
        "plt.legend(['train', 'test'], loc='upper left')\n",
        "plt.show()\n",
        "fig_loss.savefig('Loss_Unet-MeanIoU-100e-Res256-BN-dropA0.2-Reg0.45v2.png')"
      ],
      "execution_count": 101,
      "outputs": [
        {
          "output_type": "stream",
          "text": [
            "dict_keys(['val_loss', 'val_mean_iou', 'loss', 'mean_iou'])\n"
          ],
          "name": "stdout"
        },
        {
          "output_type": "display_data",
          "data": {
            "image/png": "[encoded data removed]",
            "text/plain": [
              "<matplotlib.figure.Figure at 0x7f4ff49d3160>"
            ]
          },
          "metadata": {
            "tags": []
          }
        },
        {
          "output_type": "display_data",
          "data": {
            "image/png": "[encoded data removed]",
            "text/plain": [
              "<matplotlib.figure.Figure at 0x7f4ffc3ebc18>"
            ]
          },
          "metadata": {
            "tags": []
          }
        }
      ]
    },
    {
      "metadata": {
        "id": "hEpEkf54Jd0J",
        "colab_type": "code",
        "colab": {
          "autoexec": {
            "startup": false,
            "wait_interval": 0
          },
          "output_extras": [
            {
              "item_id": 1
            }
          ],
          "base_uri": "https://localhost:8080/",
          "height": 357
        },
        "outputId": "734de1db-03c0-4882-db1b-a7e5ff517a71",
        "executionInfo": {
          "status": "ok",
          "timestamp": 1520217017026,
          "user_tz": 480,
          "elapsed": 591,
          "user": {
            "displayName": "Cristian Bartolomé",
            "photoUrl": "//lh5.googleusercontent.com/-Vh9VldPKiCs/AAAAAAAAAAI/AAAAAAAAAEs/_EFLAevi5gk/s50-c-k-no/photo.jpg",
            "userId": "110624641621226096756"
          }
        }
      },
      "cell_type": "code",
      "source": [
        "!ls -l"
      ],
      "execution_count": 102,
      "outputs": [
        {
          "output_type": "stream",
          "text": [
            "total 161408\r\n",
            "-rw-r--r--   1 root root    16579 Mar  4 22:59 Accuracy_Unet-MeanIoU-100e-Res256-BN-dropA0.2.png\r\n",
            "-rw-r--r--   1 root root    16579 Mar  5 00:21 Accuracy_Unet-MeanIoU-100e-Res256-BN-dropA0.2-Reg0.45.png\r\n",
            "-rw-r--r--   1 root root    17220 Mar  5 02:29 Accuracy_Unet-MeanIoU-100e-Res256-BN-dropA0.2-Reg0.45v2.png\r\n",
            "-rw-r--r--   1 root root    21923 Mar  4 21:42 Accuracy_Unet-MeanIoU-80e-Res256-BN-dropA0.2.png\r\n",
            "drwxr-xr-x   1 root root     4096 Mar  4 18:15 datalab\r\n",
            "-rw-r--r--   1 root root    29723 Mar  4 22:59 Loss_Unet-MeanIoU-100e-Res256-BN-dropA0.2.png\r\n",
            "-rw-r--r--   1 root root    29723 Mar  5 00:21 Loss_Unet-MeanIoU-100e-Res256-BN-dropA0.2-Reg0.45.png\r\n",
            "-rw-r--r--   1 root root    15021 Mar  5 02:29 Loss_Unet-MeanIoU-100e-Res256-BN-dropA0.2-Reg0.45v2.png\r\n",
            "-rw-r--r--   1 root root    34338 Mar  4 21:42 Loss_Unet-MeanIoU-80e-Res256-BN-dropA0.2.png\r\n",
            "drwxr-xr-x  67 root root    12288 Mar  4 18:21 stage1_test\r\n",
            "-rw-r--r--   1 root root  9545388 Mar  4 18:21 stage1_test.zip\r\n",
            "drwxr-xr-x 672 root root    73728 Mar  4 18:21 stage1_train\r\n",
            "-rw-r--r--   1 root root 82923446 Mar  4 18:21 stage1_train.zip\r\n",
            "drwxr-xr-x   2 root root     4096 Mar  4 20:01 test\r\n",
            "-rw-r--r--   1 root root   889724 Mar  4 23:00 Unet-MeanIoU-100e-Res256-BN-dropA0.2.csv\r\n",
            "-rw-r--r--   1 root root 23569704 Mar  4 22:29 Unet-MeanIoU-100e-Res256-BN-dropA0.2.h5\r\n",
            "-rw-r--r--   1 root root 23569904 Mar  5 00:20 Unet-MeanIoU-100e-Res256-BN-dropA0.2-Reg0.45.h5\r\n",
            "-rw-r--r--   1 root root 23569840 Mar  5 02:04 Unet-MeanIoU-100e-Res256-BN-dropA0.2-Reg0.45v2.h5\r\n",
            "-rw-r--r--   1 root root   889554 Mar  4 21:44 Unet-MeanIoU-80e-Res256-BN-dropA0.2.csv\r\n"
          ],
          "name": "stdout"
        }
      ]
    },
    {
      "metadata": {
        "id": "UI0c5C3aZ84P",
        "colab_type": "code",
        "colab": {
          "autoexec": {
            "startup": false,
            "wait_interval": 0
          },
          "output_extras": [
            {
              "item_id": 1
            }
          ],
          "base_uri": "https://localhost:8080/",
          "height": 34
        },
        "outputId": "79ece767-5dd5-48c4-bc8d-c21787ea58b0",
        "executionInfo": {
          "status": "ok",
          "timestamp": 1520199744255,
          "user_tz": 480,
          "elapsed": 532,
          "user": {
            "displayName": "Cristian Bartolomé",
            "photoUrl": "//lh5.googleusercontent.com/-Vh9VldPKiCs/AAAAAAAAAAI/AAAAAAAAAEs/_EFLAevi5gk/s50-c-k-no/photo.jpg",
            "userId": "110624641621226096756"
          }
        }
      },
      "cell_type": "code",
      "source": [
        "!tail model-dsbowl2018-1.h5"
      ],
      "execution_count": 61,
      "outputs": [
        {
          "output_type": "stream",
          "text": [
            "tail: cannot open 'model-dsbowl2018-1.h5' for reading: No such file or directory\r\n"
          ],
          "name": "stdout"
        }
      ]
    },
    {
      "metadata": {
        "id": "WZzlTNY6e6ks",
        "colab_type": "text"
      },
      "cell_type": "markdown",
      "source": [
        "#### V. Make predictions "
      ]
    },
    {
      "metadata": {
        "id": "aZ085lthe6ks",
        "colab_type": "code",
        "colab": {
          "autoexec": {
            "startup": false,
            "wait_interval": 0
          },
          "output_extras": [
            {
              "item_id": 9
            }
          ],
          "base_uri": "https://localhost:8080/",
          "height": 85
        },
        "outputId": "f6d48464-e688-45fe-f003-4a872f6c8781",
        "executionInfo": {
          "status": "ok",
          "timestamp": 1520217068224,
          "user_tz": 480,
          "elapsed": 48449,
          "user": {
            "displayName": "Cristian Bartolomé",
            "photoUrl": "//lh5.googleusercontent.com/-Vh9VldPKiCs/AAAAAAAAAAI/AAAAAAAAAEs/_EFLAevi5gk/s50-c-k-no/photo.jpg",
            "userId": "110624641621226096756"
          }
        }
      },
      "cell_type": "code",
      "source": [
        "# Load trained U-net with best weights\n",
        "model = keras.models.load_model('Unet-MeanIoU-100e-Res256-BN-dropA0.2-Reg0.45v2.h5', custom_objects={'mean_iou': mean_iou}) \n",
        "#custom_objects: Optional dictionary mapping names (strings) to custom classes or functions to be considered during deserialization.\n",
        "\n",
        "# Predict\n",
        "preds_train = model.predict(X_train[:int(X_train.shape[0]*0.9)], verbose=1) #Train set: You know, Keras uses the last 0.1 as dev set!\n",
        "preds_val = model.predict(X_train[int(X_train.shape[0]*0.9):], verbose=1) #Dev set\n",
        "preds_test = model.predict(X_test, verbose=1) #Test set\n",
        "\n",
        "# Threshold predictions\n",
        "preds_train_t = (preds_train > 0.5).astype(np.uint8)\n",
        "preds_val_t = (preds_val > 0.5).astype(np.uint8)\n",
        "preds_test_t = (preds_test > 0.5).astype(np.uint8)\n",
        "\n",
        "print(preds_test.shape)\n",
        "\n",
        "# Create list of upsampled test masks\n",
        "preds_test_upsampled = []\n",
        "for i in range(len(preds_test)):\n",
        "    preds_test_upsampled.append(skimage.transform.resize(np.squeeze(preds_test[i]), \n",
        "                                       (sizes_test[i][0], sizes_test[i][1]), \n",
        "                                       mode='constant', preserve_range=True))\n",
        "\n"
      ],
      "execution_count": 103,
      "outputs": [
        {
          "output_type": "stream",
          "text": [
            "603/603 [==============================] - 8s 14ms/step\n",
            "67/67 [==============================] - 1s 10ms/step\n",
            "65/65 [==============================] - 1s 10ms/step\n",
            "(65, 256, 256, 1)\n"
          ],
          "name": "stdout"
        }
      ]
    },
    {
      "metadata": {
        "id": "xht2lZyoe6kv",
        "colab_type": "code",
        "colab": {
          "autoexec": {
            "startup": false,
            "wait_interval": 0
          },
          "output_extras": [
            {
              "item_id": 1
            },
            {
              "item_id": 2
            },
            {
              "item_id": 3
            },
            {
              "item_id": 4
            }
          ],
          "base_uri": "https://localhost:8080/",
          "height": 1223
        },
        "outputId": "eedd480a-257c-4487-b7cb-8f2e1735a117",
        "executionInfo": {
          "status": "ok",
          "timestamp": 1520217069370,
          "user_tz": 480,
          "elapsed": 1101,
          "user": {
            "displayName": "Cristian Bartolomé",
            "photoUrl": "//lh5.googleusercontent.com/-Vh9VldPKiCs/AAAAAAAAAAI/AAAAAAAAAEs/_EFLAevi5gk/s50-c-k-no/photo.jpg",
            "userId": "110624641621226096756"
          }
        }
      },
      "cell_type": "code",
      "source": [
        "# Perform a sanity check on some random training samples\n",
        "ix = random.randint(0, len(preds_train_t))\n",
        "\n",
        "skimage.io.imshow(X_train[ix])\n",
        "plt.show()\n",
        "skimage.io.imshow(np.squeeze(Y_train[ix]))\n",
        "plt.show()\n",
        "skimage.io.imshow(np.squeeze(preds_train_t[ix]))\n",
        "plt.show()"
      ],
      "execution_count": 104,
      "outputs": [
        {
          "output_type": "stream",
          "text": [
            "/usr/local/lib/python3.6/dist-packages/skimage/io/_plugins/matplotlib_plugin.py:51: FutureWarning: Conversion of the second argument of issubdtype from `float` to `np.floating` is deprecated. In future, it will be treated as `np.float64 == np.dtype(float).type`.\n",
            "  out_of_range_float = (np.issubdtype(image.dtype, np.float) and\n"
          ],
          "name": "stderr"
        },
        {
          "output_type": "display_data",
          "data": {
            "image/png": "[encoded data removed]",
            "text/plain": [
              "<matplotlib.figure.Figure at 0x7f4ff00c2c88>"
            ]
          },
          "metadata": {
            "tags": []
          }
        },
        {
          "output_type": "display_data",
          "data": {
            "image/png": "[encoded data removed]",
            "text/plain": [
              "<matplotlib.figure.Figure at 0x7f4ff495f1d0>"
            ]
          },
          "metadata": {
            "tags": []
          }
        },
        {
          "output_type": "display_data",
          "data": {
            "image/png": "[encoded data removed]",
            "text/plain": [
              "<matplotlib.figure.Figure at 0x7f4ff4b6bc88>"
            ]
          },
          "metadata": {
            "tags": []
          }
        }
      ]
    },
    {
      "metadata": {
        "id": "W05f9UKoe6kx",
        "colab_type": "code",
        "colab": {
          "autoexec": {
            "startup": false,
            "wait_interval": 0
          },
          "output_extras": [
            {
              "item_id": 1
            },
            {
              "item_id": 2
            },
            {
              "item_id": 3
            },
            {
              "item_id": 4
            },
            {
              "item_id": 5
            }
          ],
          "base_uri": "https://localhost:8080/",
          "height": 1240
        },
        "outputId": "fa7cd977-e980-4881-86f8-ef837038aec4",
        "executionInfo": {
          "status": "ok",
          "timestamp": 1520220135104,
          "user_tz": 480,
          "elapsed": 1062,
          "user": {
            "displayName": "Cristian Bartolomé",
            "photoUrl": "//lh5.googleusercontent.com/-Vh9VldPKiCs/AAAAAAAAAAI/AAAAAAAAAEs/_EFLAevi5gk/s50-c-k-no/photo.jpg",
            "userId": "110624641621226096756"
          }
        }
      },
      "cell_type": "code",
      "source": [
        "# Perform a sanity check on some random validation samples\n",
        "ix = random.randint(0, len(preds_val_t))\n",
        "print(ix)\n",
        "\n",
        "skimage.io.imshow(X_train[int(X_train.shape[0]*0.9):][ix])\n",
        "plt.show()\n",
        "skimage.io.imshow(np.squeeze(Y_train[int(Y_train.shape[0]*0.9):][ix]))\n",
        "plt.show()\n",
        "skimage.io.imshow(np.squeeze(preds_val_t[ix]))\n",
        "plt.show()"
      ],
      "execution_count": 105,
      "outputs": [
        {
          "output_type": "stream",
          "text": [
            "51\n"
          ],
          "name": "stdout"
        },
        {
          "output_type": "stream",
          "text": [
            "/usr/local/lib/python3.6/dist-packages/skimage/io/_plugins/matplotlib_plugin.py:51: FutureWarning: Conversion of the second argument of issubdtype from `float` to `np.floating` is deprecated. In future, it will be treated as `np.float64 == np.dtype(float).type`.\n",
            "  out_of_range_float = (np.issubdtype(image.dtype, np.float) and\n"
          ],
          "name": "stderr"
        },
        {
          "output_type": "display_data",
          "data": {
            "image/png": "[encoded data removed]",
            "text/plain": [
              "<matplotlib.figure.Figure at 0x7f4ff00c2860>"
            ]
          },
          "metadata": {
            "tags": []
          }
        },
        {
          "output_type": "display_data",
          "data": {
            "image/png": "[encoded data removed]",
            "text/plain": [
              "<matplotlib.figure.Figure at 0x7f4ff4bca470>"
            ]
          },
          "metadata": {
            "tags": []
          }
        },
        {
          "output_type": "display_data",
          "data": {
            "image/png": "[encoded data removed]",
            "text/plain": [
              "<matplotlib.figure.Figure at 0x7f4ff4dd69b0>"
            ]
          },
          "metadata": {
            "tags": []
          }
        }
      ]
    },
    {
      "metadata": {
        "id": "GYXJPXZGvJr4",
        "colab_type": "text"
      },
      "cell_type": "markdown",
      "source": [
        "### V. Encode and submit results"
      ]
    },
    {
      "metadata": {
        "id": "u05tn-oXvMrJ",
        "colab_type": "code",
        "colab": {
          "autoexec": {
            "startup": false,
            "wait_interval": 0
          }
        }
      },
      "cell_type": "code",
      "source": [
        "# Run-length encoding from https://www.kaggle.com/rakhlin/fast-run-length-encoding-python\n",
        "\n",
        "def rle_encoding(x):\n",
        "    dots = np.where(x.T.flatten() == 1)[0]\n",
        "    run_lengths = []\n",
        "    prev = -2\n",
        "    for b in dots:\n",
        "        if (b>prev+1): run_lengths.extend((b + 1, 0))\n",
        "        run_lengths[-1] += 1\n",
        "        prev = b\n",
        "    return run_lengths\n",
        "\n",
        "def prob_to_rles(x, cutoff=0.5):\n",
        "    lab_img = skimage.morphology.label(x > cutoff)\n",
        "    for i in range(1, lab_img.max() + 1):\n",
        "        yield rle_encoding(lab_img == i)"
      ],
      "execution_count": 0,
      "outputs": []
    },
    {
      "metadata": {
        "id": "W0eEF79Vve_q",
        "colab_type": "code",
        "colab": {
          "autoexec": {
            "startup": false,
            "wait_interval": 0
          }
        }
      },
      "cell_type": "code",
      "source": [
        "new_test_ids = []\n",
        "rles = []\n",
        "for n, id_ in enumerate(test_ids):\n",
        "    rle = list(prob_to_rles(preds_test_upsampled[n]))\n",
        "    rles.extend(rle)\n",
        "    new_test_ids.extend([id_] * len(rle))"
      ],
      "execution_count": 0,
      "outputs": []
    },
    {
      "metadata": {
        "id": "lplp_pdvvgJn",
        "colab_type": "code",
        "colab": {
          "autoexec": {
            "startup": false,
            "wait_interval": 0
          }
        }
      },
      "cell_type": "code",
      "source": [
        "# Create submission DataFrame\n",
        "sub = pd.DataFrame()\n",
        "sub['ImageId'] = new_test_ids\n",
        "sub['EncodedPixels'] = pd.Series(rles).apply(lambda x: ' '.join(str(y) for y in x))\n",
        "sub.to_csv('Unet-MeanIoU-100e-Res256-BN-dropA0.2-Reg0.45v2.csv', index=False)"
      ],
      "execution_count": 0,
      "outputs": []
    },
    {
      "metadata": {
        "id": "ufsHhnM8wL7W",
        "colab_type": "code",
        "colab": {
          "autoexec": {
            "startup": false,
            "wait_interval": 0
          },
          "output_extras": [
            {
              "item_id": 1
            }
          ],
          "base_uri": "https://localhost:8080/",
          "height": 374
        },
        "outputId": "84e0b249-937f-42b7-a73f-d27b12fdb370",
        "executionInfo": {
          "status": "ok",
          "timestamp": 1520220164312,
          "user_tz": 480,
          "elapsed": 561,
          "user": {
            "displayName": "Cristian Bartolomé",
            "photoUrl": "//lh5.googleusercontent.com/-Vh9VldPKiCs/AAAAAAAAAAI/AAAAAAAAAEs/_EFLAevi5gk/s50-c-k-no/photo.jpg",
            "userId": "110624641621226096756"
          }
        }
      },
      "cell_type": "code",
      "source": [
        "!ls -l"
      ],
      "execution_count": 110,
      "outputs": [
        {
          "output_type": "stream",
          "text": [
            "total 162480\r\n",
            "-rw-r--r--   1 root root    16579 Mar  4 22:59 Accuracy_Unet-MeanIoU-100e-Res256-BN-dropA0.2.png\r\n",
            "-rw-r--r--   1 root root    16579 Mar  5 00:21 Accuracy_Unet-MeanIoU-100e-Res256-BN-dropA0.2-Reg0.45.png\r\n",
            "-rw-r--r--   1 root root    17220 Mar  5 02:29 Accuracy_Unet-MeanIoU-100e-Res256-BN-dropA0.2-Reg0.45v2.png\r\n",
            "-rw-r--r--   1 root root    21923 Mar  4 21:42 Accuracy_Unet-MeanIoU-80e-Res256-BN-dropA0.2.png\r\n",
            "drwxr-xr-x   1 root root     4096 Mar  4 18:15 datalab\r\n",
            "-rw-r--r--   1 root root    29723 Mar  4 22:59 Loss_Unet-MeanIoU-100e-Res256-BN-dropA0.2.png\r\n",
            "-rw-r--r--   1 root root    29723 Mar  5 00:21 Loss_Unet-MeanIoU-100e-Res256-BN-dropA0.2-Reg0.45.png\r\n",
            "-rw-r--r--   1 root root    15021 Mar  5 02:29 Loss_Unet-MeanIoU-100e-Res256-BN-dropA0.2-Reg0.45v2.png\r\n",
            "-rw-r--r--   1 root root    34338 Mar  4 21:42 Loss_Unet-MeanIoU-80e-Res256-BN-dropA0.2.png\r\n",
            "drwxr-xr-x  67 root root    12288 Mar  4 18:21 stage1_test\r\n",
            "-rw-r--r--   1 root root  9545388 Mar  4 18:21 stage1_test.zip\r\n",
            "drwxr-xr-x 672 root root    73728 Mar  4 18:21 stage1_train\r\n",
            "-rw-r--r--   1 root root 82923446 Mar  4 18:21 stage1_train.zip\r\n",
            "drwxr-xr-x   2 root root     4096 Mar  4 20:01 test\r\n",
            "-rw-r--r--   1 root root   889724 Mar  4 23:00 Unet-MeanIoU-100e-Res256-BN-dropA0.2.csv\r\n",
            "-rw-r--r--   1 root root 23569704 Mar  4 22:29 Unet-MeanIoU-100e-Res256-BN-dropA0.2.h5\r\n",
            "-rw-r--r--   1 root root 23569904 Mar  5 00:20 Unet-MeanIoU-100e-Res256-BN-dropA0.2-Reg0.45.h5\r\n",
            "-rw-r--r--   1 root root  1097487 Mar  5 03:22 Unet-MeanIoU-100e-Res256-BN-dropA0.2-Reg0.45v2.csv\r\n",
            "-rw-r--r--   1 root root 23569840 Mar  5 02:04 Unet-MeanIoU-100e-Res256-BN-dropA0.2-Reg0.45v2.h5\r\n",
            "-rw-r--r--   1 root root   889554 Mar  4 21:44 Unet-MeanIoU-80e-Res256-BN-dropA0.2.csv\r\n"
          ],
          "name": "stdout"
        }
      ]
    },
    {
      "metadata": {
        "id": "BRaMmWjgwNyU",
        "colab_type": "code",
        "colab": {
          "autoexec": {
            "startup": false,
            "wait_interval": 0
          }
        }
      },
      "cell_type": "code",
      "source": [
        "# Code to download files from Google colab, locally\n",
        "\n",
        "from google.colab import files\n",
        "\n",
        "files.download('Unet-MeanIoU-100e-Res256-BN-dropA0.2-Reg0.45v2.csv')\n",
        "files.download('Accuracy_Unet-MeanIoU-100e-Res256-BN-dropA0.2-Reg0.45v2.png')\n",
        "files.download('Loss_Unet-MeanIoU-100e-Res256-BN-dropA0.2-Reg0.45v2.png')\n",
        "files.download('Unet-MeanIoU-100e-Res256-BN-dropA0.2-Reg0.45v2.h5')\n"
      ],
      "execution_count": 0,
      "outputs": []
    },
    {
      "metadata": {
        "id": "9fBY8wHE178B",
        "colab_type": "code",
        "colab": {
          "autoexec": {
            "startup": false,
            "wait_interval": 0
          },
          "output_extras": [
            {}
          ],
          "base_uri": "https://localhost:8080/",
          "height": 691
        },
        "outputId": "e5f93061-2dc1-424d-cc7c-b0b30c13ab6b",
        "executionInfo": {
          "status": "error",
          "timestamp": 1519767218008,
          "user_tz": 480,
          "elapsed": 2652,
          "user": {
            "displayName": "Cristian Bartolomé",
            "photoUrl": "//lh5.googleusercontent.com/-Vh9VldPKiCs/AAAAAAAAAAI/AAAAAAAAAEs/_EFLAevi5gk/s50-c-k-no/photo.jpg",
            "userId": "110624641621226096756"
          }
        }
      },
      "cell_type": "code",
      "source": [
        "# Install the PyDrive wrapper & import libraries.\n",
        "# This only needs to be done once in a notebook.\n",
        "!pip install -U -q PyDrive\n",
        "from pydrive.auth import GoogleAuth\n",
        "from pydrive.drive import GoogleDrive\n",
        "from google.colab import auth\n",
        "from oauth2client.client import GoogleCredentials\n",
        "\n",
        "# Authenticate and create the PyDrive client.\n",
        "# This only needs to be done once in a notebook.\n",
        "auth.authenticate_user()\n",
        "gauth = GoogleAuth()\n",
        "gauth.credentials = GoogleCredentials.get_application_default()\n",
        "drive = GoogleDrive(gauth)\n",
        "\n",
        "# Create & upload a text file.\n",
        "uploaded = drive.CreateFile({'title': 'model-dsbowl2018-MeanIoU-50e-v2.csv'})\n",
        "uploaded.GetContentFile('model-dsbowl2018-MeanIoU-50e-v2.csv')  \n",
        "print('Uploaded file with ID {}'.format(uploaded.get('id')))"
      ],
      "execution_count": 0,
      "outputs": [
        {
          "output_type": "error",
          "ename": "FileNotUploadedError",
          "evalue": "ignored",
          "traceback": [
            "\u001b[0;31m---------------------------------------------------------------------------\u001b[0m",
            "\u001b[0;31mFileNotUploadedError\u001b[0m                      Traceback (most recent call last)",
            "\u001b[0;32m<ipython-input-122-8f7907aa28f3>\u001b[0m in \u001b[0;36m<module>\u001b[0;34m()\u001b[0m\n\u001b[1;32m     14\u001b[0m \u001b[0;31m# Create & upload a text file.\u001b[0m\u001b[0;34m\u001b[0m\u001b[0;34m\u001b[0m\u001b[0m\n\u001b[1;32m     15\u001b[0m \u001b[0muploaded\u001b[0m \u001b[0;34m=\u001b[0m \u001b[0mdrive\u001b[0m\u001b[0;34m.\u001b[0m\u001b[0mCreateFile\u001b[0m\u001b[0;34m(\u001b[0m\u001b[0;34m{\u001b[0m\u001b[0;34m'title'\u001b[0m\u001b[0;34m:\u001b[0m \u001b[0;34m'model-dsbowl2018-MeanIoU-50e-v2.csv'\u001b[0m\u001b[0;34m}\u001b[0m\u001b[0;34m)\u001b[0m\u001b[0;34m\u001b[0m\u001b[0m\n\u001b[0;32m---> 16\u001b[0;31m \u001b[0muploaded\u001b[0m\u001b[0;34m.\u001b[0m\u001b[0mGetContentFile\u001b[0m\u001b[0;34m(\u001b[0m\u001b[0;34m'model-dsbowl2018-MeanIoU-50e-v2.csv'\u001b[0m\u001b[0;34m)\u001b[0m\u001b[0;34m\u001b[0m\u001b[0m\n\u001b[0m\u001b[1;32m     17\u001b[0m \u001b[0mprint\u001b[0m\u001b[0;34m(\u001b[0m\u001b[0;34m'Uploaded file with ID {}'\u001b[0m\u001b[0;34m.\u001b[0m\u001b[0mformat\u001b[0m\u001b[0;34m(\u001b[0m\u001b[0muploaded\u001b[0m\u001b[0;34m.\u001b[0m\u001b[0mget\u001b[0m\u001b[0;34m(\u001b[0m\u001b[0;34m'id'\u001b[0m\u001b[0;34m)\u001b[0m\u001b[0;34m)\u001b[0m\u001b[0;34m)\u001b[0m\u001b[0;34m\u001b[0m\u001b[0m\n",
            "\u001b[0;32m/usr/local/lib/python3.6/dist-packages/pydrive/files.py\u001b[0m in \u001b[0;36mGetContentFile\u001b[0;34m(self, filename, mimetype, remove_bom)\u001b[0m\n\u001b[1;32m    208\u001b[0m                     \u001b[0mtype\u001b[0m\u001b[0;34m(\u001b[0m\u001b[0mself\u001b[0m\u001b[0;34m.\u001b[0m\u001b[0mcontent\u001b[0m\u001b[0;34m)\u001b[0m \u001b[0;32mis\u001b[0m \u001b[0;32mnot\u001b[0m \u001b[0mio\u001b[0m\u001b[0;34m.\u001b[0m\u001b[0mBytesIO\u001b[0m \u001b[0;32mor\u001b[0m\u001b[0;31m \u001b[0m\u001b[0;31m\\\u001b[0m\u001b[0;34m\u001b[0m\u001b[0m\n\u001b[1;32m    209\u001b[0m                     \u001b[0mself\u001b[0m\u001b[0;34m.\u001b[0m\u001b[0mhas_bom\u001b[0m \u001b[0;34m==\u001b[0m \u001b[0mremove_bom\u001b[0m\u001b[0;34m:\u001b[0m\u001b[0;34m\u001b[0m\u001b[0m\n\u001b[0;32m--> 210\u001b[0;31m       \u001b[0mself\u001b[0m\u001b[0;34m.\u001b[0m\u001b[0mFetchContent\u001b[0m\u001b[0;34m(\u001b[0m\u001b[0mmimetype\u001b[0m\u001b[0;34m,\u001b[0m \u001b[0mremove_bom\u001b[0m\u001b[0;34m)\u001b[0m\u001b[0;34m\u001b[0m\u001b[0m\n\u001b[0m\u001b[1;32m    211\u001b[0m     \u001b[0mf\u001b[0m \u001b[0;34m=\u001b[0m \u001b[0mopen\u001b[0m\u001b[0;34m(\u001b[0m\u001b[0mfilename\u001b[0m\u001b[0;34m,\u001b[0m \u001b[0;34m'wb'\u001b[0m\u001b[0;34m)\u001b[0m\u001b[0;34m\u001b[0m\u001b[0m\n\u001b[1;32m    212\u001b[0m     \u001b[0mf\u001b[0m\u001b[0;34m.\u001b[0m\u001b[0mwrite\u001b[0m\u001b[0;34m(\u001b[0m\u001b[0mself\u001b[0m\u001b[0;34m.\u001b[0m\u001b[0mcontent\u001b[0m\u001b[0;34m.\u001b[0m\u001b[0mgetvalue\u001b[0m\u001b[0;34m(\u001b[0m\u001b[0;34m)\u001b[0m\u001b[0;34m)\u001b[0m\u001b[0;34m\u001b[0m\u001b[0m\n",
            "\u001b[0;32m/usr/local/lib/python3.6/dist-packages/pydrive/files.py\u001b[0m in \u001b[0;36m_decorated\u001b[0;34m(self, *args, **kwargs)\u001b[0m\n\u001b[1;32m     40\u001b[0m   \u001b[0;32mdef\u001b[0m \u001b[0m_decorated\u001b[0m\u001b[0;34m(\u001b[0m\u001b[0mself\u001b[0m\u001b[0;34m,\u001b[0m \u001b[0;34m*\u001b[0m\u001b[0margs\u001b[0m\u001b[0;34m,\u001b[0m \u001b[0;34m**\u001b[0m\u001b[0mkwargs\u001b[0m\u001b[0;34m)\u001b[0m\u001b[0;34m:\u001b[0m\u001b[0;34m\u001b[0m\u001b[0m\n\u001b[1;32m     41\u001b[0m     \u001b[0;32mif\u001b[0m \u001b[0;32mnot\u001b[0m \u001b[0mself\u001b[0m\u001b[0;34m.\u001b[0m\u001b[0muploaded\u001b[0m\u001b[0;34m:\u001b[0m\u001b[0;34m\u001b[0m\u001b[0m\n\u001b[0;32m---> 42\u001b[0;31m       \u001b[0mself\u001b[0m\u001b[0;34m.\u001b[0m\u001b[0mFetchMetadata\u001b[0m\u001b[0;34m(\u001b[0m\u001b[0;34m)\u001b[0m\u001b[0;34m\u001b[0m\u001b[0m\n\u001b[0m\u001b[1;32m     43\u001b[0m     \u001b[0;32mreturn\u001b[0m \u001b[0mdecoratee\u001b[0m\u001b[0;34m(\u001b[0m\u001b[0mself\u001b[0m\u001b[0;34m,\u001b[0m \u001b[0;34m*\u001b[0m\u001b[0margs\u001b[0m\u001b[0;34m,\u001b[0m \u001b[0;34m**\u001b[0m\u001b[0mkwargs\u001b[0m\u001b[0;34m)\u001b[0m\u001b[0;34m\u001b[0m\u001b[0m\n\u001b[1;32m     44\u001b[0m   \u001b[0;32mreturn\u001b[0m \u001b[0m_decorated\u001b[0m\u001b[0;34m\u001b[0m\u001b[0m\n",
            "\u001b[0;32m/usr/local/lib/python3.6/dist-packages/pydrive/auth.py\u001b[0m in \u001b[0;36m_decorated\u001b[0;34m(self, *args, **kwargs)\u001b[0m\n\u001b[1;32m     73\u001b[0m       \u001b[0mself\u001b[0m\u001b[0;34m.\u001b[0m\u001b[0mhttp\u001b[0m \u001b[0;34m=\u001b[0m \u001b[0mself\u001b[0m\u001b[0;34m.\u001b[0m\u001b[0mauth\u001b[0m\u001b[0;34m.\u001b[0m\u001b[0mGet_Http_Object\u001b[0m\u001b[0;34m(\u001b[0m\u001b[0;34m)\u001b[0m\u001b[0;34m\u001b[0m\u001b[0m\n\u001b[1;32m     74\u001b[0m \u001b[0;34m\u001b[0m\u001b[0m\n\u001b[0;32m---> 75\u001b[0;31m     \u001b[0;32mreturn\u001b[0m \u001b[0mdecoratee\u001b[0m\u001b[0;34m(\u001b[0m\u001b[0mself\u001b[0m\u001b[0;34m,\u001b[0m \u001b[0;34m*\u001b[0m\u001b[0margs\u001b[0m\u001b[0;34m,\u001b[0m \u001b[0;34m**\u001b[0m\u001b[0mkwargs\u001b[0m\u001b[0;34m)\u001b[0m\u001b[0;34m\u001b[0m\u001b[0m\n\u001b[0m\u001b[1;32m     76\u001b[0m   \u001b[0;32mreturn\u001b[0m \u001b[0m_decorated\u001b[0m\u001b[0;34m\u001b[0m\u001b[0m\n\u001b[1;32m     77\u001b[0m \u001b[0;34m\u001b[0m\u001b[0m\n",
            "\u001b[0;32m/usr/local/lib/python3.6/dist-packages/pydrive/files.py\u001b[0m in \u001b[0;36mFetchMetadata\u001b[0;34m(self, fields, fetch_all)\u001b[0m\n\u001b[1;32m    242\u001b[0m         \u001b[0mself\u001b[0m\u001b[0;34m.\u001b[0m\u001b[0mUpdateMetadata\u001b[0m\u001b[0;34m(\u001b[0m\u001b[0mmetadata\u001b[0m\u001b[0;34m)\u001b[0m\u001b[0;34m\u001b[0m\u001b[0m\n\u001b[1;32m    243\u001b[0m     \u001b[0;32melse\u001b[0m\u001b[0;34m:\u001b[0m\u001b[0;34m\u001b[0m\u001b[0m\n\u001b[0;32m--> 244\u001b[0;31m       \u001b[0;32mraise\u001b[0m \u001b[0mFileNotUploadedError\u001b[0m\u001b[0;34m(\u001b[0m\u001b[0;34m)\u001b[0m\u001b[0;34m\u001b[0m\u001b[0m\n\u001b[0m\u001b[1;32m    245\u001b[0m \u001b[0;34m\u001b[0m\u001b[0m\n\u001b[1;32m    246\u001b[0m   \u001b[0;34m@\u001b[0m\u001b[0mLoadMetadata\u001b[0m\u001b[0;34m\u001b[0m\u001b[0m\n",
            "\u001b[0;31mFileNotUploadedError\u001b[0m: "
          ]
        }
      ]
    },
    {
      "metadata": {
        "id": "mN8Z9bhI17Y3",
        "colab_type": "text"
      },
      "cell_type": "markdown",
      "source": [
        ""
      ]
    }
  ]
}